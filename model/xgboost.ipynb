{
 "cells": [
  {
   "cell_type": "code",
   "execution_count": 2,
   "metadata": {},
   "outputs": [
    {
     "name": "stderr",
     "output_type": "stream",
     "text": [
      "/Users/dangl/opt/anaconda3/envs/torch-gpu/lib/python3.8/site-packages/xgboost/compat.py:36: FutureWarning: pandas.Int64Index is deprecated and will be removed from pandas in a future version. Use pandas.Index with the appropriate dtype instead.\n",
      "  from pandas import MultiIndex, Int64Index\n"
     ]
    }
   ],
   "source": [
    "import numpy as np \n",
    "import pandas as pd\n",
    "\n",
    "from sklearn.metrics import accuracy_score, precision_recall_curve, roc_auc_score, auc\n",
    "from xgboost.sklearn import XGBClassifier\n",
    "from functools import partial\n",
    "from hyperopt import hp, fmin, tpe, Trials, STATUS_OK\n",
    "\n",
    "DATA_PATH = '../data/'"
   ]
  },
  {
   "cell_type": "code",
   "execution_count": 4,
   "metadata": {},
   "outputs": [
    {
     "data": {
      "text/html": [
       "<div>\n",
       "<style scoped>\n",
       "    .dataframe tbody tr th:only-of-type {\n",
       "        vertical-align: middle;\n",
       "    }\n",
       "\n",
       "    .dataframe tbody tr th {\n",
       "        vertical-align: top;\n",
       "    }\n",
       "\n",
       "    .dataframe thead th {\n",
       "        text-align: right;\n",
       "    }\n",
       "</style>\n",
       "<table border=\"1\" class=\"dataframe\">\n",
       "  <thead>\n",
       "    <tr style=\"text-align: right;\">\n",
       "      <th></th>\n",
       "      <th>target</th>\n",
       "      <th>vacancy_1</th>\n",
       "      <th>vacancy_2</th>\n",
       "      <th>vacancy_3</th>\n",
       "      <th>vacancy_4</th>\n",
       "      <th>vacancy_5</th>\n",
       "      <th>vacancy_6</th>\n",
       "      <th>vacancy_7</th>\n",
       "      <th>vacancy_8</th>\n",
       "      <th>vacancy_9</th>\n",
       "      <th>...</th>\n",
       "      <th>cv_303</th>\n",
       "      <th>cv_304</th>\n",
       "      <th>cv_305</th>\n",
       "      <th>cv_306</th>\n",
       "      <th>cv_307</th>\n",
       "      <th>cv_308</th>\n",
       "      <th>cv_309</th>\n",
       "      <th>cv_310</th>\n",
       "      <th>cv_311</th>\n",
       "      <th>cv_312</th>\n",
       "    </tr>\n",
       "  </thead>\n",
       "  <tbody>\n",
       "    <tr>\n",
       "      <th>0</th>\n",
       "      <td>0.0</td>\n",
       "      <td>0.07</td>\n",
       "      <td>0.003983</td>\n",
       "      <td>0.02249</td>\n",
       "      <td>-0.0743</td>\n",
       "      <td>0.00631</td>\n",
       "      <td>0.01775</td>\n",
       "      <td>-0.02373</td>\n",
       "      <td>-0.06018</td>\n",
       "      <td>0.0415</td>\n",
       "      <td>...</td>\n",
       "      <td>0.01692</td>\n",
       "      <td>0.025250</td>\n",
       "      <td>-0.008520</td>\n",
       "      <td>0.03650</td>\n",
       "      <td>-0.010956</td>\n",
       "      <td>0.03540</td>\n",
       "      <td>0.019550</td>\n",
       "      <td>0.007103</td>\n",
       "      <td>0.02689</td>\n",
       "      <td>-0.03876</td>\n",
       "    </tr>\n",
       "    <tr>\n",
       "      <th>1</th>\n",
       "      <td>0.0</td>\n",
       "      <td>0.07</td>\n",
       "      <td>0.003983</td>\n",
       "      <td>0.02249</td>\n",
       "      <td>-0.0743</td>\n",
       "      <td>0.00631</td>\n",
       "      <td>0.01775</td>\n",
       "      <td>-0.02373</td>\n",
       "      <td>-0.06018</td>\n",
       "      <td>0.0415</td>\n",
       "      <td>...</td>\n",
       "      <td>0.04938</td>\n",
       "      <td>-0.010440</td>\n",
       "      <td>-0.018020</td>\n",
       "      <td>0.04710</td>\n",
       "      <td>-0.045930</td>\n",
       "      <td>0.00759</td>\n",
       "      <td>0.013050</td>\n",
       "      <td>0.010750</td>\n",
       "      <td>0.02934</td>\n",
       "      <td>-0.01372</td>\n",
       "    </tr>\n",
       "    <tr>\n",
       "      <th>2</th>\n",
       "      <td>0.0</td>\n",
       "      <td>0.07</td>\n",
       "      <td>0.003983</td>\n",
       "      <td>0.02249</td>\n",
       "      <td>-0.0743</td>\n",
       "      <td>0.00631</td>\n",
       "      <td>0.01775</td>\n",
       "      <td>-0.02373</td>\n",
       "      <td>-0.06018</td>\n",
       "      <td>0.0415</td>\n",
       "      <td>...</td>\n",
       "      <td>0.01761</td>\n",
       "      <td>-0.098500</td>\n",
       "      <td>-0.032840</td>\n",
       "      <td>0.03350</td>\n",
       "      <td>-0.033200</td>\n",
       "      <td>0.03310</td>\n",
       "      <td>-0.006780</td>\n",
       "      <td>0.051000</td>\n",
       "      <td>0.05340</td>\n",
       "      <td>-0.04110</td>\n",
       "    </tr>\n",
       "    <tr>\n",
       "      <th>3</th>\n",
       "      <td>0.0</td>\n",
       "      <td>0.07</td>\n",
       "      <td>0.003983</td>\n",
       "      <td>0.02249</td>\n",
       "      <td>-0.0743</td>\n",
       "      <td>0.00631</td>\n",
       "      <td>0.01775</td>\n",
       "      <td>-0.02373</td>\n",
       "      <td>-0.06018</td>\n",
       "      <td>0.0415</td>\n",
       "      <td>...</td>\n",
       "      <td>0.01761</td>\n",
       "      <td>-0.098500</td>\n",
       "      <td>-0.032840</td>\n",
       "      <td>0.03350</td>\n",
       "      <td>-0.033200</td>\n",
       "      <td>0.03310</td>\n",
       "      <td>-0.006780</td>\n",
       "      <td>0.051000</td>\n",
       "      <td>0.05340</td>\n",
       "      <td>-0.04110</td>\n",
       "    </tr>\n",
       "    <tr>\n",
       "      <th>4</th>\n",
       "      <td>0.0</td>\n",
       "      <td>0.07</td>\n",
       "      <td>0.003983</td>\n",
       "      <td>0.02249</td>\n",
       "      <td>-0.0743</td>\n",
       "      <td>0.00631</td>\n",
       "      <td>0.01775</td>\n",
       "      <td>-0.02373</td>\n",
       "      <td>-0.06018</td>\n",
       "      <td>0.0415</td>\n",
       "      <td>...</td>\n",
       "      <td>0.03790</td>\n",
       "      <td>-0.015850</td>\n",
       "      <td>-0.001335</td>\n",
       "      <td>0.03073</td>\n",
       "      <td>0.002558</td>\n",
       "      <td>0.03500</td>\n",
       "      <td>0.021400</td>\n",
       "      <td>0.032040</td>\n",
       "      <td>0.02356</td>\n",
       "      <td>-0.02785</td>\n",
       "    </tr>\n",
       "    <tr>\n",
       "      <th>5</th>\n",
       "      <td>0.0</td>\n",
       "      <td>0.07</td>\n",
       "      <td>0.003983</td>\n",
       "      <td>0.02249</td>\n",
       "      <td>-0.0743</td>\n",
       "      <td>0.00631</td>\n",
       "      <td>0.01775</td>\n",
       "      <td>-0.02373</td>\n",
       "      <td>-0.06018</td>\n",
       "      <td>0.0415</td>\n",
       "      <td>...</td>\n",
       "      <td>0.05750</td>\n",
       "      <td>0.014595</td>\n",
       "      <td>-0.049870</td>\n",
       "      <td>0.05573</td>\n",
       "      <td>0.019960</td>\n",
       "      <td>0.01102</td>\n",
       "      <td>0.029950</td>\n",
       "      <td>-0.023220</td>\n",
       "      <td>0.05704</td>\n",
       "      <td>-0.06415</td>\n",
       "    </tr>\n",
       "    <tr>\n",
       "      <th>6</th>\n",
       "      <td>0.0</td>\n",
       "      <td>0.07</td>\n",
       "      <td>0.003983</td>\n",
       "      <td>0.02249</td>\n",
       "      <td>-0.0743</td>\n",
       "      <td>0.00631</td>\n",
       "      <td>0.01775</td>\n",
       "      <td>-0.02373</td>\n",
       "      <td>-0.06018</td>\n",
       "      <td>0.0415</td>\n",
       "      <td>...</td>\n",
       "      <td>0.03412</td>\n",
       "      <td>-0.012344</td>\n",
       "      <td>-0.010000</td>\n",
       "      <td>0.02478</td>\n",
       "      <td>-0.027390</td>\n",
       "      <td>0.01962</td>\n",
       "      <td>-0.002752</td>\n",
       "      <td>-0.004390</td>\n",
       "      <td>0.03040</td>\n",
       "      <td>-0.04514</td>\n",
       "    </tr>\n",
       "    <tr>\n",
       "      <th>7</th>\n",
       "      <td>0.0</td>\n",
       "      <td>0.07</td>\n",
       "      <td>0.003983</td>\n",
       "      <td>0.02249</td>\n",
       "      <td>-0.0743</td>\n",
       "      <td>0.00631</td>\n",
       "      <td>0.01775</td>\n",
       "      <td>-0.02373</td>\n",
       "      <td>-0.06018</td>\n",
       "      <td>0.0415</td>\n",
       "      <td>...</td>\n",
       "      <td>0.00794</td>\n",
       "      <td>0.022840</td>\n",
       "      <td>-0.005898</td>\n",
       "      <td>0.04590</td>\n",
       "      <td>-0.021710</td>\n",
       "      <td>0.04556</td>\n",
       "      <td>0.018650</td>\n",
       "      <td>0.020540</td>\n",
       "      <td>0.01800</td>\n",
       "      <td>-0.06730</td>\n",
       "    </tr>\n",
       "    <tr>\n",
       "      <th>8</th>\n",
       "      <td>0.0</td>\n",
       "      <td>0.07</td>\n",
       "      <td>0.003983</td>\n",
       "      <td>0.02249</td>\n",
       "      <td>-0.0743</td>\n",
       "      <td>0.00631</td>\n",
       "      <td>0.01775</td>\n",
       "      <td>-0.02373</td>\n",
       "      <td>-0.06018</td>\n",
       "      <td>0.0415</td>\n",
       "      <td>...</td>\n",
       "      <td>0.02246</td>\n",
       "      <td>-0.023200</td>\n",
       "      <td>-0.006380</td>\n",
       "      <td>0.07680</td>\n",
       "      <td>-0.030490</td>\n",
       "      <td>0.04500</td>\n",
       "      <td>0.036740</td>\n",
       "      <td>0.041780</td>\n",
       "      <td>0.02174</td>\n",
       "      <td>-0.03500</td>\n",
       "    </tr>\n",
       "    <tr>\n",
       "      <th>9</th>\n",
       "      <td>0.0</td>\n",
       "      <td>0.07</td>\n",
       "      <td>0.003983</td>\n",
       "      <td>0.02249</td>\n",
       "      <td>-0.0743</td>\n",
       "      <td>0.00631</td>\n",
       "      <td>0.01775</td>\n",
       "      <td>-0.02373</td>\n",
       "      <td>-0.06018</td>\n",
       "      <td>0.0415</td>\n",
       "      <td>...</td>\n",
       "      <td>0.03732</td>\n",
       "      <td>-0.013960</td>\n",
       "      <td>-0.014610</td>\n",
       "      <td>0.02638</td>\n",
       "      <td>-0.018920</td>\n",
       "      <td>0.05264</td>\n",
       "      <td>0.007202</td>\n",
       "      <td>0.027040</td>\n",
       "      <td>0.02286</td>\n",
       "      <td>-0.04240</td>\n",
       "    </tr>\n",
       "  </tbody>\n",
       "</table>\n",
       "<p>10 rows × 625 columns</p>\n",
       "</div>"
      ],
      "text/plain": [
       "   target  vacancy_1  vacancy_2  vacancy_3  vacancy_4  vacancy_5  vacancy_6  \\\n",
       "0     0.0       0.07   0.003983    0.02249    -0.0743    0.00631    0.01775   \n",
       "1     0.0       0.07   0.003983    0.02249    -0.0743    0.00631    0.01775   \n",
       "2     0.0       0.07   0.003983    0.02249    -0.0743    0.00631    0.01775   \n",
       "3     0.0       0.07   0.003983    0.02249    -0.0743    0.00631    0.01775   \n",
       "4     0.0       0.07   0.003983    0.02249    -0.0743    0.00631    0.01775   \n",
       "5     0.0       0.07   0.003983    0.02249    -0.0743    0.00631    0.01775   \n",
       "6     0.0       0.07   0.003983    0.02249    -0.0743    0.00631    0.01775   \n",
       "7     0.0       0.07   0.003983    0.02249    -0.0743    0.00631    0.01775   \n",
       "8     0.0       0.07   0.003983    0.02249    -0.0743    0.00631    0.01775   \n",
       "9     0.0       0.07   0.003983    0.02249    -0.0743    0.00631    0.01775   \n",
       "\n",
       "   vacancy_7  vacancy_8  vacancy_9  ...   cv_303    cv_304    cv_305   cv_306  \\\n",
       "0   -0.02373   -0.06018     0.0415  ...  0.01692  0.025250 -0.008520  0.03650   \n",
       "1   -0.02373   -0.06018     0.0415  ...  0.04938 -0.010440 -0.018020  0.04710   \n",
       "2   -0.02373   -0.06018     0.0415  ...  0.01761 -0.098500 -0.032840  0.03350   \n",
       "3   -0.02373   -0.06018     0.0415  ...  0.01761 -0.098500 -0.032840  0.03350   \n",
       "4   -0.02373   -0.06018     0.0415  ...  0.03790 -0.015850 -0.001335  0.03073   \n",
       "5   -0.02373   -0.06018     0.0415  ...  0.05750  0.014595 -0.049870  0.05573   \n",
       "6   -0.02373   -0.06018     0.0415  ...  0.03412 -0.012344 -0.010000  0.02478   \n",
       "7   -0.02373   -0.06018     0.0415  ...  0.00794  0.022840 -0.005898  0.04590   \n",
       "8   -0.02373   -0.06018     0.0415  ...  0.02246 -0.023200 -0.006380  0.07680   \n",
       "9   -0.02373   -0.06018     0.0415  ...  0.03732 -0.013960 -0.014610  0.02638   \n",
       "\n",
       "     cv_307   cv_308    cv_309    cv_310   cv_311   cv_312  \n",
       "0 -0.010956  0.03540  0.019550  0.007103  0.02689 -0.03876  \n",
       "1 -0.045930  0.00759  0.013050  0.010750  0.02934 -0.01372  \n",
       "2 -0.033200  0.03310 -0.006780  0.051000  0.05340 -0.04110  \n",
       "3 -0.033200  0.03310 -0.006780  0.051000  0.05340 -0.04110  \n",
       "4  0.002558  0.03500  0.021400  0.032040  0.02356 -0.02785  \n",
       "5  0.019960  0.01102  0.029950 -0.023220  0.05704 -0.06415  \n",
       "6 -0.027390  0.01962 -0.002752 -0.004390  0.03040 -0.04514  \n",
       "7 -0.021710  0.04556  0.018650  0.020540  0.01800 -0.06730  \n",
       "8 -0.030490  0.04500  0.036740  0.041780  0.02174 -0.03500  \n",
       "9 -0.018920  0.05264  0.007202  0.027040  0.02286 -0.04240  \n",
       "\n",
       "[10 rows x 625 columns]"
      ]
     },
     "execution_count": 4,
     "metadata": {},
     "output_type": "execute_result"
    }
   ],
   "source": [
    "df = pd.read_csv(DATA_PATH + 'light_prepared_data.csv')\n",
    "df.head(10)"
   ]
  },
  {
   "cell_type": "code",
   "execution_count": 5,
   "metadata": {},
   "outputs": [
    {
     "data": {
      "text/html": [
       "<div>\n",
       "<style scoped>\n",
       "    .dataframe tbody tr th:only-of-type {\n",
       "        vertical-align: middle;\n",
       "    }\n",
       "\n",
       "    .dataframe tbody tr th {\n",
       "        vertical-align: top;\n",
       "    }\n",
       "\n",
       "    .dataframe thead th {\n",
       "        text-align: right;\n",
       "    }\n",
       "</style>\n",
       "<table border=\"1\" class=\"dataframe\">\n",
       "  <thead>\n",
       "    <tr style=\"text-align: right;\">\n",
       "      <th></th>\n",
       "      <th>vacancy_1</th>\n",
       "      <th>vacancy_2</th>\n",
       "      <th>vacancy_3</th>\n",
       "      <th>vacancy_4</th>\n",
       "      <th>vacancy_5</th>\n",
       "      <th>vacancy_6</th>\n",
       "      <th>vacancy_7</th>\n",
       "      <th>vacancy_8</th>\n",
       "      <th>vacancy_9</th>\n",
       "      <th>vacancy_10</th>\n",
       "      <th>...</th>\n",
       "      <th>cv_303</th>\n",
       "      <th>cv_304</th>\n",
       "      <th>cv_305</th>\n",
       "      <th>cv_306</th>\n",
       "      <th>cv_307</th>\n",
       "      <th>cv_308</th>\n",
       "      <th>cv_309</th>\n",
       "      <th>cv_310</th>\n",
       "      <th>cv_311</th>\n",
       "      <th>cv_312</th>\n",
       "    </tr>\n",
       "  </thead>\n",
       "  <tbody>\n",
       "    <tr>\n",
       "      <th>33415</th>\n",
       "      <td>0.06250</td>\n",
       "      <td>0.08240</td>\n",
       "      <td>0.037000</td>\n",
       "      <td>-0.10040</td>\n",
       "      <td>-0.009476</td>\n",
       "      <td>0.015990</td>\n",
       "      <td>-0.04420</td>\n",
       "      <td>-0.02539</td>\n",
       "      <td>-0.019490</td>\n",
       "      <td>0.02250</td>\n",
       "      <td>...</td>\n",
       "      <td>0.02246</td>\n",
       "      <td>-0.023200</td>\n",
       "      <td>-0.006380</td>\n",
       "      <td>0.07680</td>\n",
       "      <td>-0.03049</td>\n",
       "      <td>0.04500</td>\n",
       "      <td>0.036740</td>\n",
       "      <td>0.041780</td>\n",
       "      <td>0.021740</td>\n",
       "      <td>-0.035000</td>\n",
       "    </tr>\n",
       "    <tr>\n",
       "      <th>51516</th>\n",
       "      <td>0.08936</td>\n",
       "      <td>0.08470</td>\n",
       "      <td>0.021840</td>\n",
       "      <td>-0.08923</td>\n",
       "      <td>0.014070</td>\n",
       "      <td>0.004345</td>\n",
       "      <td>-0.03280</td>\n",
       "      <td>-0.01189</td>\n",
       "      <td>-0.012540</td>\n",
       "      <td>0.04996</td>\n",
       "      <td>...</td>\n",
       "      <td>0.01312</td>\n",
       "      <td>-0.000911</td>\n",
       "      <td>-0.017230</td>\n",
       "      <td>0.07556</td>\n",
       "      <td>-0.00489</td>\n",
       "      <td>0.02467</td>\n",
       "      <td>0.012540</td>\n",
       "      <td>0.008446</td>\n",
       "      <td>0.041870</td>\n",
       "      <td>-0.034900</td>\n",
       "    </tr>\n",
       "    <tr>\n",
       "      <th>9774</th>\n",
       "      <td>0.01804</td>\n",
       "      <td>0.05457</td>\n",
       "      <td>0.038760</td>\n",
       "      <td>-0.07590</td>\n",
       "      <td>-0.005672</td>\n",
       "      <td>0.024030</td>\n",
       "      <td>-0.02345</td>\n",
       "      <td>-0.06168</td>\n",
       "      <td>-0.003038</td>\n",
       "      <td>0.02925</td>\n",
       "      <td>...</td>\n",
       "      <td>0.04828</td>\n",
       "      <td>-0.065800</td>\n",
       "      <td>-0.027500</td>\n",
       "      <td>0.03650</td>\n",
       "      <td>-0.06396</td>\n",
       "      <td>0.07630</td>\n",
       "      <td>0.005905</td>\n",
       "      <td>0.024750</td>\n",
       "      <td>0.040650</td>\n",
       "      <td>-0.007996</td>\n",
       "    </tr>\n",
       "    <tr>\n",
       "      <th>23688</th>\n",
       "      <td>0.04364</td>\n",
       "      <td>0.02667</td>\n",
       "      <td>0.004640</td>\n",
       "      <td>-0.07367</td>\n",
       "      <td>-0.039030</td>\n",
       "      <td>0.069640</td>\n",
       "      <td>-0.07600</td>\n",
       "      <td>-0.11597</td>\n",
       "      <td>0.009575</td>\n",
       "      <td>-0.01753</td>\n",
       "      <td>...</td>\n",
       "      <td>0.04590</td>\n",
       "      <td>-0.010190</td>\n",
       "      <td>-0.027400</td>\n",
       "      <td>0.07740</td>\n",
       "      <td>-0.00573</td>\n",
       "      <td>0.03041</td>\n",
       "      <td>-0.001741</td>\n",
       "      <td>0.020430</td>\n",
       "      <td>0.047030</td>\n",
       "      <td>-0.025340</td>\n",
       "    </tr>\n",
       "    <tr>\n",
       "      <th>21265</th>\n",
       "      <td>0.03778</td>\n",
       "      <td>0.02924</td>\n",
       "      <td>0.007484</td>\n",
       "      <td>-0.06980</td>\n",
       "      <td>-0.036200</td>\n",
       "      <td>0.055270</td>\n",
       "      <td>-0.07420</td>\n",
       "      <td>-0.10815</td>\n",
       "      <td>0.015076</td>\n",
       "      <td>-0.01324</td>\n",
       "      <td>...</td>\n",
       "      <td>0.04578</td>\n",
       "      <td>0.017580</td>\n",
       "      <td>-0.025800</td>\n",
       "      <td>0.04630</td>\n",
       "      <td>-0.04820</td>\n",
       "      <td>0.02083</td>\n",
       "      <td>0.001442</td>\n",
       "      <td>0.021330</td>\n",
       "      <td>0.050000</td>\n",
       "      <td>-0.048520</td>\n",
       "    </tr>\n",
       "    <tr>\n",
       "      <th>41993</th>\n",
       "      <td>0.05576</td>\n",
       "      <td>0.06570</td>\n",
       "      <td>0.034800</td>\n",
       "      <td>-0.06494</td>\n",
       "      <td>0.011810</td>\n",
       "      <td>-0.016660</td>\n",
       "      <td>-0.04105</td>\n",
       "      <td>-0.06168</td>\n",
       "      <td>0.028440</td>\n",
       "      <td>0.03912</td>\n",
       "      <td>...</td>\n",
       "      <td>0.05038</td>\n",
       "      <td>-0.016830</td>\n",
       "      <td>-0.016000</td>\n",
       "      <td>0.04324</td>\n",
       "      <td>-0.03060</td>\n",
       "      <td>0.01133</td>\n",
       "      <td>0.025040</td>\n",
       "      <td>0.006065</td>\n",
       "      <td>0.045900</td>\n",
       "      <td>-0.038820</td>\n",
       "    </tr>\n",
       "    <tr>\n",
       "      <th>27810</th>\n",
       "      <td>0.05630</td>\n",
       "      <td>0.03464</td>\n",
       "      <td>0.042880</td>\n",
       "      <td>-0.06976</td>\n",
       "      <td>-0.000862</td>\n",
       "      <td>0.000509</td>\n",
       "      <td>-0.05927</td>\n",
       "      <td>-0.07840</td>\n",
       "      <td>0.023800</td>\n",
       "      <td>0.01143</td>\n",
       "      <td>...</td>\n",
       "      <td>0.01036</td>\n",
       "      <td>0.018620</td>\n",
       "      <td>0.014080</td>\n",
       "      <td>0.01900</td>\n",
       "      <td>0.03244</td>\n",
       "      <td>0.03156</td>\n",
       "      <td>-0.003233</td>\n",
       "      <td>0.081800</td>\n",
       "      <td>0.006237</td>\n",
       "      <td>-0.005970</td>\n",
       "    </tr>\n",
       "    <tr>\n",
       "      <th>46969</th>\n",
       "      <td>0.06110</td>\n",
       "      <td>0.06930</td>\n",
       "      <td>0.030800</td>\n",
       "      <td>-0.08890</td>\n",
       "      <td>0.013490</td>\n",
       "      <td>0.024540</td>\n",
       "      <td>-0.02826</td>\n",
       "      <td>-0.02048</td>\n",
       "      <td>0.001670</td>\n",
       "      <td>0.03574</td>\n",
       "      <td>...</td>\n",
       "      <td>0.01721</td>\n",
       "      <td>-0.044430</td>\n",
       "      <td>-0.000669</td>\n",
       "      <td>0.01935</td>\n",
       "      <td>-0.03513</td>\n",
       "      <td>0.03375</td>\n",
       "      <td>0.014435</td>\n",
       "      <td>0.030440</td>\n",
       "      <td>0.039920</td>\n",
       "      <td>-0.059540</td>\n",
       "    </tr>\n",
       "    <tr>\n",
       "      <th>41202</th>\n",
       "      <td>0.05417</td>\n",
       "      <td>0.07750</td>\n",
       "      <td>0.030780</td>\n",
       "      <td>-0.10410</td>\n",
       "      <td>0.015820</td>\n",
       "      <td>0.007770</td>\n",
       "      <td>-0.02666</td>\n",
       "      <td>-0.02255</td>\n",
       "      <td>-0.030120</td>\n",
       "      <td>0.05112</td>\n",
       "      <td>...</td>\n",
       "      <td>0.06930</td>\n",
       "      <td>-0.026320</td>\n",
       "      <td>-0.032960</td>\n",
       "      <td>0.06793</td>\n",
       "      <td>-0.02266</td>\n",
       "      <td>0.03458</td>\n",
       "      <td>0.043400</td>\n",
       "      <td>-0.009705</td>\n",
       "      <td>0.056400</td>\n",
       "      <td>-0.032870</td>\n",
       "    </tr>\n",
       "    <tr>\n",
       "      <th>18459</th>\n",
       "      <td>0.09640</td>\n",
       "      <td>0.05414</td>\n",
       "      <td>0.028320</td>\n",
       "      <td>-0.08655</td>\n",
       "      <td>0.020300</td>\n",
       "      <td>0.030440</td>\n",
       "      <td>-0.04922</td>\n",
       "      <td>-0.02646</td>\n",
       "      <td>-0.012680</td>\n",
       "      <td>0.03180</td>\n",
       "      <td>...</td>\n",
       "      <td>0.02168</td>\n",
       "      <td>0.026370</td>\n",
       "      <td>-0.000685</td>\n",
       "      <td>0.05480</td>\n",
       "      <td>-0.02377</td>\n",
       "      <td>0.02441</td>\n",
       "      <td>-0.015690</td>\n",
       "      <td>0.036650</td>\n",
       "      <td>0.042000</td>\n",
       "      <td>-0.025180</td>\n",
       "    </tr>\n",
       "  </tbody>\n",
       "</table>\n",
       "<p>10 rows × 624 columns</p>\n",
       "</div>"
      ],
      "text/plain": [
       "       vacancy_1  vacancy_2  vacancy_3  vacancy_4  vacancy_5  vacancy_6  \\\n",
       "33415    0.06250    0.08240   0.037000   -0.10040  -0.009476   0.015990   \n",
       "51516    0.08936    0.08470   0.021840   -0.08923   0.014070   0.004345   \n",
       "9774     0.01804    0.05457   0.038760   -0.07590  -0.005672   0.024030   \n",
       "23688    0.04364    0.02667   0.004640   -0.07367  -0.039030   0.069640   \n",
       "21265    0.03778    0.02924   0.007484   -0.06980  -0.036200   0.055270   \n",
       "41993    0.05576    0.06570   0.034800   -0.06494   0.011810  -0.016660   \n",
       "27810    0.05630    0.03464   0.042880   -0.06976  -0.000862   0.000509   \n",
       "46969    0.06110    0.06930   0.030800   -0.08890   0.013490   0.024540   \n",
       "41202    0.05417    0.07750   0.030780   -0.10410   0.015820   0.007770   \n",
       "18459    0.09640    0.05414   0.028320   -0.08655   0.020300   0.030440   \n",
       "\n",
       "       vacancy_7  vacancy_8  vacancy_9  vacancy_10  ...   cv_303    cv_304  \\\n",
       "33415   -0.04420   -0.02539  -0.019490     0.02250  ...  0.02246 -0.023200   \n",
       "51516   -0.03280   -0.01189  -0.012540     0.04996  ...  0.01312 -0.000911   \n",
       "9774    -0.02345   -0.06168  -0.003038     0.02925  ...  0.04828 -0.065800   \n",
       "23688   -0.07600   -0.11597   0.009575    -0.01753  ...  0.04590 -0.010190   \n",
       "21265   -0.07420   -0.10815   0.015076    -0.01324  ...  0.04578  0.017580   \n",
       "41993   -0.04105   -0.06168   0.028440     0.03912  ...  0.05038 -0.016830   \n",
       "27810   -0.05927   -0.07840   0.023800     0.01143  ...  0.01036  0.018620   \n",
       "46969   -0.02826   -0.02048   0.001670     0.03574  ...  0.01721 -0.044430   \n",
       "41202   -0.02666   -0.02255  -0.030120     0.05112  ...  0.06930 -0.026320   \n",
       "18459   -0.04922   -0.02646  -0.012680     0.03180  ...  0.02168  0.026370   \n",
       "\n",
       "         cv_305   cv_306   cv_307   cv_308    cv_309    cv_310    cv_311  \\\n",
       "33415 -0.006380  0.07680 -0.03049  0.04500  0.036740  0.041780  0.021740   \n",
       "51516 -0.017230  0.07556 -0.00489  0.02467  0.012540  0.008446  0.041870   \n",
       "9774  -0.027500  0.03650 -0.06396  0.07630  0.005905  0.024750  0.040650   \n",
       "23688 -0.027400  0.07740 -0.00573  0.03041 -0.001741  0.020430  0.047030   \n",
       "21265 -0.025800  0.04630 -0.04820  0.02083  0.001442  0.021330  0.050000   \n",
       "41993 -0.016000  0.04324 -0.03060  0.01133  0.025040  0.006065  0.045900   \n",
       "27810  0.014080  0.01900  0.03244  0.03156 -0.003233  0.081800  0.006237   \n",
       "46969 -0.000669  0.01935 -0.03513  0.03375  0.014435  0.030440  0.039920   \n",
       "41202 -0.032960  0.06793 -0.02266  0.03458  0.043400 -0.009705  0.056400   \n",
       "18459 -0.000685  0.05480 -0.02377  0.02441 -0.015690  0.036650  0.042000   \n",
       "\n",
       "         cv_312  \n",
       "33415 -0.035000  \n",
       "51516 -0.034900  \n",
       "9774  -0.007996  \n",
       "23688 -0.025340  \n",
       "21265 -0.048520  \n",
       "41993 -0.038820  \n",
       "27810 -0.005970  \n",
       "46969 -0.059540  \n",
       "41202 -0.032870  \n",
       "18459 -0.025180  \n",
       "\n",
       "[10 rows x 624 columns]"
      ]
     },
     "execution_count": 5,
     "metadata": {},
     "output_type": "execute_result"
    }
   ],
   "source": [
    "from sklearn.model_selection import train_test_split\n",
    "\n",
    "X, y = df.drop(columns=['target']), df['target']\n",
    "X_fulltrain, X_test, y_fulltrain, y_test = train_test_split(X, y, test_size=0.2, random_state=42, stratify=y)\n",
    "X_train, X_val, y_train, y_val = train_test_split(X_fulltrain, y_fulltrain, test_size=0.2, random_state=42, stratify=y_fulltrain)\n",
    "\n",
    "X_train.head(10)"
   ]
  },
  {
   "cell_type": "code",
   "execution_count": 6,
   "metadata": {},
   "outputs": [
    {
     "data": {
      "text/plain": [
       "(0.0    37415\n",
       " 1.0     3758\n",
       " Name: target, dtype: int64,\n",
       " 0.0    9354\n",
       " 1.0     940\n",
       " Name: target, dtype: int64,\n",
       " 0.0    11692\n",
       " 1.0     1175\n",
       " Name: target, dtype: int64)"
      ]
     },
     "execution_count": 6,
     "metadata": {},
     "output_type": "execute_result"
    }
   ],
   "source": [
    "y_train.value_counts(), y_val.value_counts(), y_test.value_counts()"
   ]
  },
  {
   "cell_type": "code",
   "execution_count": 7,
   "metadata": {},
   "outputs": [
    {
     "name": "stdout",
     "output_type": "stream",
     "text": [
      "env: CLEARML_WEB_HOST=https://app.clear.ml\n",
      "env: CLEARML_API_HOST=https://api.clear.ml\n",
      "env: CLEARML_FILES_HOST=https://files.clear.ml\n",
      "env: CLEARML_API_ACCESS_KEY=NPP0QK0QME8LT87B4GZ4\n",
      "env: CLEARML_API_SECRET_KEY=GWiK2dXe7FnB5xaqAePS3ck5mkLa8UBLpWGJNt1vw1GHhaQKDP\n"
     ]
    }
   ],
   "source": [
    "%env CLEARML_WEB_HOST=https://app.clear.ml\n",
    "%env CLEARML_API_HOST=https://api.clear.ml\n",
    "%env CLEARML_FILES_HOST=https://files.clear.ml\n",
    "%env CLEARML_API_ACCESS_KEY=NPP0QK0QME8LT87B4GZ4\n",
    "%env CLEARML_API_SECRET_KEY=GWiK2dXe7FnB5xaqAePS3ck5mkLa8UBLpWGJNt1vw1GHhaQKDP"
   ]
  },
  {
   "cell_type": "code",
   "execution_count": 14,
   "metadata": {},
   "outputs": [
    {
     "name": "stderr",
     "output_type": "stream",
     "text": [
      "/Users/dangl/opt/anaconda3/envs/torch-gpu/lib/python3.8/site-packages/xgboost/data.py:250: FutureWarning: pandas.Int64Index is deprecated and will be removed from pandas in a future version. Use pandas.Index with the appropriate dtype instead.\n",
      "  elif isinstance(data.columns, (pd.Int64Index, pd.RangeIndex)):\n"
     ]
    },
    {
     "name": "stdout",
     "output_type": "stream",
     "text": [
      "Train XGBoost accuracy: 0.98304\n",
      "Test XGBoost accuracy:  0.97109\n",
      "Train XGBoost AUC-ROC: 0.91302\n",
      "Test XGBoost AUC-ROC: 0.85357\n",
      "Train XGBoost AUC-PR: 0.91372\n",
      "Test XGBoost AUC-PR: 0.85023\n"
     ]
    },
    {
     "name": "stderr",
     "output_type": "stream",
     "text": [
      "wandb: Network error (ConnectTimeout), entering retry loop.\n",
      "Retrying (Retry(total=237, connect=238, read=239, redirect=240, status=240)) after connection broken by 'NewConnectionError('<urllib3.connection.HTTPSConnection object at 0x7ff1d883c2b0>: Failed to establish a new connection: [Errno 65] No route to host')': /v2.23/tasks.add_or_update_artifacts\n",
      "Retrying (Retry(total=237, connect=237, read=240, redirect=240, status=240)) after connection broken by 'NewConnectionError('<urllib3.connection.HTTPSConnection object at 0x7ff200f337c0>: Failed to establish a new connection: [Errno 65] No route to host')': /v2.23/tasks.get_all\n",
      "Retrying (Retry(total=237, connect=237, read=240, redirect=240, status=240)) after connection broken by 'NewConnectionError('<urllib3.connection.HTTPSConnection object at 0x7ff200ae59a0>: Failed to establish a new connection: [Errno 65] No route to host')': /v2.23/tasks.get_all\n",
      "Retrying (Retry(total=236, connect=237, read=239, redirect=240, status=240)) after connection broken by 'NewConnectionError('<urllib3.connection.HTTPSConnection object at 0x7ff200ae5c70>: Failed to establish a new connection: [Errno 65] No route to host')': /v2.23/tasks.add_or_update_artifacts\n",
      "Retrying (Retry(total=236, connect=236, read=240, redirect=240, status=240)) after connection broken by 'NewConnectionError('<urllib3.connection.HTTPSConnection object at 0x7ff200ae5430>: Failed to establish a new connection: [Errno 65] No route to host')': /v2.23/tasks.get_all\n",
      "Retrying (Retry(total=236, connect=236, read=240, redirect=240, status=240)) after connection broken by 'NewConnectionError('<urllib3.connection.HTTPSConnection object at 0x7ff1d8cfef70>: Failed to establish a new connection: [Errno 65] No route to host')': /v2.23/tasks.get_all\n",
      "Retrying (Retry(total=237, connect=237, read=240, redirect=240, status=240)) after connection broken by 'NewConnectionError('<urllib3.connection.HTTPSConnection object at 0x7ff1d8cffa00>: Failed to establish a new connection: [Errno 65] No route to host')': /v2.23/events.add_batch\n",
      "Retrying (Retry(total=235, connect=236, read=239, redirect=240, status=240)) after connection broken by 'NewConnectionError('<urllib3.connection.HTTPSConnection object at 0x7ff200f33be0>: Failed to establish a new connection: [Errno 65] No route to host')': /v2.23/tasks.add_or_update_artifacts\n",
      "Retrying (Retry(total=235, connect=235, read=240, redirect=240, status=240)) after connection broken by 'NewConnectionError('<urllib3.connection.HTTPSConnection object at 0x7ff1d8cffa90>: Failed to establish a new connection: [Errno 65] No route to host')': /v2.23/tasks.get_all\n",
      "Retrying (Retry(total=236, connect=236, read=240, redirect=240, status=240)) after connection broken by 'NewConnectionError('<urllib3.connection.HTTPSConnection object at 0x7ff200ae8760>: Failed to establish a new connection: [Errno 65] No route to host')': /v2.23/events.add_batch\n",
      "Retrying (Retry(total=235, connect=235, read=240, redirect=240, status=240)) after connection broken by 'NewConnectionError('<urllib3.connection.HTTPSConnection object at 0x7ff200ae8190>: Failed to establish a new connection: [Errno 65] No route to host')': /v2.23/tasks.get_all\n",
      "Retrying (Retry(total=234, connect=235, read=239, redirect=240, status=240)) after connection broken by 'NewConnectionError('<urllib3.connection.HTTPSConnection object at 0x7ff200ae85e0>: Failed to establish a new connection: [Errno 65] No route to host')': /v2.23/tasks.add_or_update_artifacts\n",
      "Retrying (Retry(total=235, connect=235, read=240, redirect=240, status=240)) after connection broken by 'NewConnectionError('<urllib3.connection.HTTPSConnection object at 0x7ff200ae8eb0>: Failed to establish a new connection: [Errno 65] No route to host')': /v2.23/events.add_batch\n",
      "Retrying (Retry(total=234, connect=234, read=240, redirect=240, status=240)) after connection broken by 'NewConnectionError('<urllib3.connection.HTTPSConnection object at 0x7ff200ae88e0>: Failed to establish a new connection: [Errno 65] No route to host')': /v2.23/tasks.get_all\n",
      "Retrying (Retry(total=234, connect=234, read=240, redirect=240, status=240)) after connection broken by 'NewConnectionError('<urllib3.connection.HTTPSConnection object at 0x7ff23a6c1940>: Failed to establish a new connection: [Errno 65] No route to host')': /v2.23/tasks.get_all\n"
     ]
    },
    {
     "name": "stdout",
     "output_type": "stream",
     "text": [
      "ClearML Monitor: Could not detect iteration reporting, falling back to iterations as seconds-from-start\n"
     ]
    },
    {
     "name": "stderr",
     "output_type": "stream",
     "text": [
      "Retrying (Retry(total=233, connect=234, read=239, redirect=240, status=240)) after connection broken by 'NewConnectionError('<urllib3.connection.HTTPSConnection object at 0x7ff200ad1730>: Failed to establish a new connection: [Errno 65] No route to host')': /v2.23/tasks.add_or_update_artifacts\n",
      "wandb: Network error (ConnectTimeout), entering retry loop.\n",
      "Retrying (Retry(total=237, connect=237, read=240, redirect=240, status=240)) after connection broken by 'ConnectTimeoutError(<urllib3.connection.HTTPSConnection object at 0x7ff228b0c850>, 'Connection to api.clear.ml timed out. (connect timeout=10.0)')': /v2.23/events.add_batch\n",
      "wandb: Network error (ConnectionError), entering retry loop.\n",
      "Retrying (Retry(total=237, connect=238, read=239, redirect=240, status=240)) after connection broken by 'NewConnectionError('<urllib3.connection.HTTPSConnection object at 0x7ff1d8ce0460>: Failed to establish a new connection: [Errno 8] nodename nor servname provided, or not known')': /v2.23/events.add_batch\n",
      "Retrying (Retry(total=237, connect=237, read=240, redirect=240, status=240)) after connection broken by 'NewConnectionError('<urllib3.connection.HTTPSConnection object at 0x7ff200f1e490>: Failed to establish a new connection: [Errno 8] nodename nor servname provided, or not known')': /v2.23/tasks.ping\n",
      "Retrying (Retry(total=236, connect=236, read=240, redirect=240, status=240)) after connection broken by 'NewConnectionError('<urllib3.connection.HTTPSConnection object at 0x7ff1d8ce0a60>: Failed to establish a new connection: [Errno 8] nodename nor servname provided, or not known')': /v2.23/events.add_batch\n",
      "Retrying (Retry(total=236, connect=237, read=239, redirect=240, status=240)) after connection broken by 'NewConnectionError('<urllib3.connection.HTTPSConnection object at 0x7ff200ad3fa0>: Failed to establish a new connection: [Errno 8] nodename nor servname provided, or not known')': /v2.23/events.add_batch\n",
      "Retrying (Retry(total=236, connect=236, read=240, redirect=240, status=240)) after connection broken by 'NewConnectionError('<urllib3.connection.HTTPSConnection object at 0x7ff1d8ce0760>: Failed to establish a new connection: [Errno 8] nodename nor servname provided, or not known')': /v2.23/tasks.ping\n",
      "Retrying (Retry(total=235, connect=235, read=240, redirect=240, status=240)) after connection broken by 'NewConnectionError('<urllib3.connection.HTTPSConnection object at 0x7ff1d8850670>: Failed to establish a new connection: [Errno 8] nodename nor servname provided, or not known')': /v2.23/events.add_batch\n",
      "Retrying (Retry(total=235, connect=236, read=239, redirect=240, status=240)) after connection broken by 'NewConnectionError('<urllib3.connection.HTTPSConnection object at 0x7ff200f21670>: Failed to establish a new connection: [Errno 8] nodename nor servname provided, or not known')': /v2.23/events.add_batch\n",
      "Retrying (Retry(total=235, connect=235, read=240, redirect=240, status=240)) after connection broken by 'NewConnectionError('<urllib3.connection.HTTPSConnection object at 0x7ff23a799430>: Failed to establish a new connection: [Errno 8] nodename nor servname provided, or not known')': /v2.23/tasks.ping\n",
      "Retrying (Retry(total=234, connect=234, read=240, redirect=240, status=240)) after connection broken by 'NewConnectionError('<urllib3.connection.HTTPSConnection object at 0x7ff200912df0>: Failed to establish a new connection: [Errno 8] nodename nor servname provided, or not known')': /v2.23/events.add_batch\n",
      "Retrying (Retry(total=234, connect=235, read=239, redirect=240, status=240)) after connection broken by 'NewConnectionError('<urllib3.connection.HTTPSConnection object at 0x7ff1d8cf32b0>: Failed to establish a new connection: [Errno 8] nodename nor servname provided, or not known')': /v2.23/events.add_batch\n",
      "Retrying (Retry(total=234, connect=234, read=240, redirect=240, status=240)) after connection broken by 'NewConnectionError('<urllib3.connection.HTTPSConnection object at 0x7ff1d8cf3280>: Failed to establish a new connection: [Errno 8] nodename nor servname provided, or not known')': /v2.23/tasks.ping\n",
      "Retrying (Retry(total=233, connect=233, read=240, redirect=240, status=240)) after connection broken by 'NewConnectionError('<urllib3.connection.HTTPSConnection object at 0x7ff200cf7190>: Failed to establish a new connection: [Errno 8] nodename nor servname provided, or not known')': /v2.23/events.add_batch\n",
      "Retrying (Retry(total=233, connect=234, read=239, redirect=240, status=240)) after connection broken by 'NewConnectionError('<urllib3.connection.HTTPSConnection object at 0x7ff200f1c5b0>: Failed to establish a new connection: [Errno 8] nodename nor servname provided, or not known')': /v2.23/events.add_batch\n",
      "Retrying (Retry(total=233, connect=233, read=240, redirect=240, status=240)) after connection broken by 'NewConnectionError('<urllib3.connection.HTTPSConnection object at 0x7ff200f01d30>: Failed to establish a new connection: [Errno 8] nodename nor servname provided, or not known')': /v2.23/tasks.ping\n",
      "wandb: Network error (ConnectTimeout), entering retry loop.\n",
      "Retrying (Retry(total=237, connect=238, read=239, redirect=240, status=240)) after connection broken by 'NewConnectionError('<urllib3.connection.HTTPSConnection object at 0x7ff200cf7e20>: Failed to establish a new connection: [Errno 65] No route to host')': /v2.23/tasks.get_all\n",
      "Retrying (Retry(total=236, connect=237, read=239, redirect=240, status=240)) after connection broken by 'NewConnectionError('<urllib3.connection.HTTPSConnection object at 0x7ff200a07b80>: Failed to establish a new connection: [Errno 8] nodename nor servname provided, or not known')': /v2.23/tasks.get_all\n",
      "Retrying (Retry(total=237, connect=237, read=240, redirect=240, status=240)) after connection broken by 'NewConnectionError('<urllib3.connection.HTTPSConnection object at 0x7ff200f1c190>: Failed to establish a new connection: [Errno 8] nodename nor servname provided, or not known')': /v2.23/events.add_batch\n",
      "Retrying (Retry(total=237, connect=237, read=240, redirect=240, status=240)) after connection broken by 'NewConnectionError('<urllib3.connection.HTTPSConnection object at 0x7ff228c3c2e0>: Failed to establish a new connection: [Errno 8] nodename nor servname provided, or not known')': /v2.23/events.add_batch\n",
      "Retrying (Retry(total=235, connect=236, read=239, redirect=240, status=240)) after connection broken by 'NewConnectionError('<urllib3.connection.HTTPSConnection object at 0x7ff228c2e2e0>: Failed to establish a new connection: [Errno 8] nodename nor servname provided, or not known')': /v2.23/tasks.get_all\n",
      "Retrying (Retry(total=236, connect=236, read=240, redirect=240, status=240)) after connection broken by 'NewConnectionError('<urllib3.connection.HTTPSConnection object at 0x7ff200f21100>: Failed to establish a new connection: [Errno 8] nodename nor servname provided, or not known')': /v2.23/events.add_batch\n",
      "Retrying (Retry(total=236, connect=236, read=240, redirect=240, status=240)) after connection broken by 'NewConnectionError('<urllib3.connection.HTTPSConnection object at 0x7ff23a6b6df0>: Failed to establish a new connection: [Errno 8] nodename nor servname provided, or not known')': /v2.23/events.add_batch\n",
      "Retrying (Retry(total=235, connect=235, read=240, redirect=240, status=240)) after connection broken by 'NewConnectionError('<urllib3.connection.HTTPSConnection object at 0x7ff23a7d81c0>: Failed to establish a new connection: [Errno 8] nodename nor servname provided, or not known')': /v2.23/events.add_batch\n",
      "Retrying (Retry(total=235, connect=235, read=240, redirect=240, status=240)) after connection broken by 'NewConnectionError('<urllib3.connection.HTTPSConnection object at 0x7ff200f1e8b0>: Failed to establish a new connection: [Errno 8] nodename nor servname provided, or not known')': /v2.23/events.add_batch\n",
      "Retrying (Retry(total=234, connect=235, read=239, redirect=240, status=240)) after connection broken by 'NewConnectionError('<urllib3.connection.HTTPSConnection object at 0x7ff1d8e50f70>: Failed to establish a new connection: [Errno 8] nodename nor servname provided, or not known')': /v2.23/tasks.get_all\n",
      "Retrying (Retry(total=234, connect=234, read=240, redirect=240, status=240)) after connection broken by 'NewConnectionError('<urllib3.connection.HTTPSConnection object at 0x7ff200b2ff40>: Failed to establish a new connection: [Errno 8] nodename nor servname provided, or not known')': /v2.23/events.add_batch\n",
      "Retrying (Retry(total=234, connect=234, read=240, redirect=240, status=240)) after connection broken by 'NewConnectionError('<urllib3.connection.HTTPSConnection object at 0x7ff200b2f130>: Failed to establish a new connection: [Errno 8] nodename nor servname provided, or not known')': /v2.23/events.add_batch\n",
      "Retrying (Retry(total=233, connect=234, read=239, redirect=240, status=240)) after connection broken by 'NewConnectionError('<urllib3.connection.HTTPSConnection object at 0x7ff200f1e7c0>: Failed to establish a new connection: [Errno 8] nodename nor servname provided, or not known')': /v2.23/tasks.get_all\n"
     ]
    }
   ],
   "source": [
    "from clearml import Task\n",
    "\n",
    "task = Task.init(project_name='Team 10 CV', task_name='XGBoost test')\n",
    "\n",
    "model = XGBClassifier(\n",
    "    n_estimators=400,\n",
    "    max_depth=3,\n",
    "    learning_rate=0.1,\n",
    "    # subsample=best['subsample'],\n",
    "    # colsample_bytree=best['colsample_bytree'],\n",
    "    eval_metric='auc',\n",
    "    tree_method='hist',\n",
    "    n_jobs=-1,\n",
    "    use_label_encoder=False\n",
    ")\n",
    "\n",
    "model.fit(X_fulltrain, y_fulltrain, )\n",
    "pred_fulltrain = model.predict(X_fulltrain)\n",
    "pred_test = model.predict(X_test)\n",
    "\n",
    "print(f'Train XGBoost accuracy: {accuracy_score(y_fulltrain, pred_fulltrain):.5f}')\n",
    "print(f'Test XGBoost accuracy:  {accuracy_score(y_test, pred_test):.5f}')\n",
    "\n",
    "print(f'Train XGBoost AUC-ROC: {roc_auc_score(y_fulltrain, pred_fulltrain):.5f}')\n",
    "print(f'Test XGBoost AUC-ROC: {roc_auc_score(y_test, pred_test):.5f}')\n",
    "\n",
    "precision_train, recall_train, _ = precision_recall_curve(y_fulltrain, pred_fulltrain)\n",
    "precision, recall, _ = precision_recall_curve(y_test, pred_test)\n",
    "print(f'Train XGBoost AUC-PR: {auc(recall_train, precision_train):.5f}')\n",
    "print(f'Test XGBoost AUC-PR: {auc(recall, precision):.5f}')"
   ]
  },
  {
   "cell_type": "code",
   "execution_count": 1,
   "metadata": {},
   "outputs": [
    {
     "name": "stdout",
     "output_type": "stream",
     "text": [
      "\u001b[34m\u001b[1mwandb\u001b[0m: Appending key for api.wandb.ai to your netrc file: /Users/dangl/.netrc\n"
     ]
    }
   ],
   "source": [
    "! python3 -m wandb login XXX"
   ]
  },
  {
   "cell_type": "code",
   "execution_count": 9,
   "metadata": {},
   "outputs": [
    {
     "name": "stdout",
     "output_type": "stream",
     "text": [
      "  0%|          | 0/30 [00:00<?, ?trial/s, best loss=?]"
     ]
    },
    {
     "data": {
      "text/html": [
       "Finishing last run (ID:1ucmclht) before initializing another..."
      ],
      "text/plain": [
       "<IPython.core.display.HTML object>"
      ]
     },
     "metadata": {},
     "output_type": "display_data"
    },
    {
     "data": {
      "text/html": [
       "Waiting for W&B process to finish... <strong style=\"color:green\">(success).</strong>"
      ],
      "text/plain": [
       "<IPython.core.display.HTML object>"
      ]
     },
     "metadata": {},
     "output_type": "display_data"
    },
    {
     "data": {
      "text/html": [
       "<style>\n",
       "    table.wandb td:nth-child(1) { padding: 0 10px; text-align: left ; width: auto;} td:nth-child(2) {text-align: left ; width: 100%}\n",
       "    .wandb-row { display: flex; flex-direction: row; flex-wrap: wrap; justify-content: flex-start; width: 100% }\n",
       "    .wandb-col { display: flex; flex-direction: column; flex-basis: 100%; flex: 1; padding: 10px; }\n",
       "    </style>\n",
       "<div class=\"wandb-row\"><div class=\"wandb-col\"><h3>Run summary:</h3><br/><table class=\"wandb\"><tr><td>Train AUC-PR</td><td>0.99359</td></tr><tr><td>Train AUC-ROC</td><td>0.99295</td></tr><tr><td>Train accuracy</td><td>0.99871</td></tr><tr><td>Val AUC-PR</td><td>0.88578</td></tr><tr><td>Val AUC-ROC</td><td>0.88531</td></tr><tr><td>Val accuracy</td><td>0.97766</td></tr></table><br/></div></div>"
      ],
      "text/plain": [
       "<IPython.core.display.HTML object>"
      ]
     },
     "metadata": {},
     "output_type": "display_data"
    },
    {
     "data": {
      "text/html": [
       "Synced <strong style=\"color:#cdcd00\">hyperopt search</strong>: <a href=\"https://wandb.ai/dangl/GOP%20HW2/runs/1ucmclht\" target=\"_blank\">https://wandb.ai/dangl/GOP%20HW2/runs/1ucmclht</a><br/>Synced 6 W&B file(s), 0 media file(s), 0 artifact file(s) and 0 other file(s)"
      ],
      "text/plain": [
       "<IPython.core.display.HTML object>"
      ]
     },
     "metadata": {},
     "output_type": "display_data"
    },
    {
     "data": {
      "text/html": [
       "Find logs at: <code>./wandb/run-20231229_092106-1ucmclht/logs</code>"
      ],
      "text/plain": [
       "<IPython.core.display.HTML object>"
      ]
     },
     "metadata": {},
     "output_type": "display_data"
    },
    {
     "data": {
      "text/html": [
       "Successfully finished last run (ID:1ucmclht). Initializing new run:<br/>"
      ],
      "text/plain": [
       "<IPython.core.display.HTML object>"
      ]
     },
     "metadata": {},
     "output_type": "display_data"
    },
    {
     "data": {
      "application/vnd.jupyter.widget-view+json": {
       "model_id": "99f741a763564d67a8015dc6085f9f3e",
       "version_major": 2,
       "version_minor": 0
      },
      "text/plain": [
       "VBox(children=(Label(value='Waiting for wandb.init()...\\r'), FloatProgress(value=0.016674268750163417, max=1.0…"
      ]
     },
     "metadata": {},
     "output_type": "display_data"
    },
    {
     "data": {
      "text/html": [
       "wandb version 0.16.1 is available!  To upgrade, please run:\n",
       " $ pip install wandb --upgrade"
      ],
      "text/plain": [
       "<IPython.core.display.HTML object>"
      ]
     },
     "metadata": {},
     "output_type": "display_data"
    },
    {
     "data": {
      "text/html": [
       "Tracking run with wandb version 0.13.6"
      ],
      "text/plain": [
       "<IPython.core.display.HTML object>"
      ]
     },
     "metadata": {},
     "output_type": "display_data"
    },
    {
     "data": {
      "text/html": [
       "Run data is saved locally in <code>/Users/dangl/Documents/Courses/GOP/vacancy_resume_matching/model/wandb/run-20231229_092239-2ed0r30s</code>"
      ],
      "text/plain": [
       "<IPython.core.display.HTML object>"
      ]
     },
     "metadata": {},
     "output_type": "display_data"
    },
    {
     "data": {
      "text/html": [
       "Syncing run <strong><a href=\"https://wandb.ai/dangl/GOP%20HW2/runs/2ed0r30s\" target=\"_blank\">hyperopt search</a></strong> to <a href=\"https://wandb.ai/dangl/GOP%20HW2\" target=\"_blank\">Weights & Biases</a> (<a href=\"https://wandb.me/run\" target=\"_blank\">docs</a>)<br/>"
      ],
      "text/plain": [
       "<IPython.core.display.HTML object>"
      ]
     },
     "metadata": {},
     "output_type": "display_data"
    },
    {
     "name": "stderr",
     "output_type": "stream",
     "text": [
      "/Users/dangl/opt/anaconda3/envs/torch-gpu/lib/python3.8/site-packages/xgboost/data.py:250: FutureWarning: pandas.Int64Index is deprecated and will be removed from pandas in a future version. Use pandas.Index with the appropriate dtype instead.\n",
      "  elif isinstance(data.columns, (pd.Int64Index, pd.RangeIndex)):\n",
      "\n",
      "/Users/dangl/opt/anaconda3/envs/torch-gpu/lib/python3.8/site-packages/xgboost/data.py:250: FutureWarning: pandas.Int64Index is deprecated and will be removed from pandas in a future version. Use pandas.Index with the appropriate dtype instead.\n",
      "  elif isinstance(data.columns, (pd.Int64Index, pd.RangeIndex)):\n",
      "\n"
     ]
    },
    {
     "name": "stdout",
     "output_type": "stream",
     "text": [
      "  3%|▎         | 1/30 [00:54<26:22, 54.56s/trial, best loss: -0.8853149636746596]"
     ]
    },
    {
     "data": {
      "text/html": [
       "Finishing last run (ID:2ed0r30s) before initializing another..."
      ],
      "text/plain": [
       "<IPython.core.display.HTML object>"
      ]
     },
     "metadata": {},
     "output_type": "display_data"
    },
    {
     "data": {
      "text/html": [
       "Waiting for W&B process to finish... <strong style=\"color:green\">(success).</strong>"
      ],
      "text/plain": [
       "<IPython.core.display.HTML object>"
      ]
     },
     "metadata": {},
     "output_type": "display_data"
    },
    {
     "data": {
      "text/html": [
       "<style>\n",
       "    table.wandb td:nth-child(1) { padding: 0 10px; text-align: left ; width: auto;} td:nth-child(2) {text-align: left ; width: 100%}\n",
       "    .wandb-row { display: flex; flex-direction: row; flex-wrap: wrap; justify-content: flex-start; width: 100% }\n",
       "    .wandb-col { display: flex; flex-direction: column; flex-basis: 100%; flex: 1; padding: 10px; }\n",
       "    </style>\n",
       "<div class=\"wandb-row\"><div class=\"wandb-col\"><h3>Run summary:</h3><br/><table class=\"wandb\"><tr><td>Train AUC-PR</td><td>0.99359</td></tr><tr><td>Train AUC-ROC</td><td>0.99295</td></tr><tr><td>Train accuracy</td><td>0.99871</td></tr><tr><td>Val AUC-PR</td><td>0.88578</td></tr><tr><td>Val AUC-ROC</td><td>0.88531</td></tr><tr><td>Val accuracy</td><td>0.97766</td></tr></table><br/></div></div>"
      ],
      "text/plain": [
       "<IPython.core.display.HTML object>"
      ]
     },
     "metadata": {},
     "output_type": "display_data"
    },
    {
     "data": {
      "text/html": [
       "Synced <strong style=\"color:#cdcd00\">hyperopt search</strong>: <a href=\"https://wandb.ai/dangl/GOP%20HW2/runs/2ed0r30s\" target=\"_blank\">https://wandb.ai/dangl/GOP%20HW2/runs/2ed0r30s</a><br/>Synced 6 W&B file(s), 0 media file(s), 0 artifact file(s) and 0 other file(s)"
      ],
      "text/plain": [
       "<IPython.core.display.HTML object>"
      ]
     },
     "metadata": {},
     "output_type": "display_data"
    },
    {
     "data": {
      "text/html": [
       "Find logs at: <code>./wandb/run-20231229_092239-2ed0r30s/logs</code>"
      ],
      "text/plain": [
       "<IPython.core.display.HTML object>"
      ]
     },
     "metadata": {},
     "output_type": "display_data"
    },
    {
     "data": {
      "text/html": [
       "Successfully finished last run (ID:2ed0r30s). Initializing new run:<br/>"
      ],
      "text/plain": [
       "<IPython.core.display.HTML object>"
      ]
     },
     "metadata": {},
     "output_type": "display_data"
    },
    {
     "data": {
      "application/vnd.jupyter.widget-view+json": {
       "model_id": "962032ea244c4571a5358c528dd9f884",
       "version_major": 2,
       "version_minor": 0
      },
      "text/plain": [
       "VBox(children=(Label(value='Waiting for wandb.init()...\\r'), FloatProgress(value=0.016737938883306925, max=1.0…"
      ]
     },
     "metadata": {},
     "output_type": "display_data"
    },
    {
     "data": {
      "text/html": [
       "wandb version 0.16.1 is available!  To upgrade, please run:\n",
       " $ pip install wandb --upgrade"
      ],
      "text/plain": [
       "<IPython.core.display.HTML object>"
      ]
     },
     "metadata": {},
     "output_type": "display_data"
    },
    {
     "data": {
      "text/html": [
       "Tracking run with wandb version 0.13.6"
      ],
      "text/plain": [
       "<IPython.core.display.HTML object>"
      ]
     },
     "metadata": {},
     "output_type": "display_data"
    },
    {
     "data": {
      "text/html": [
       "Run data is saved locally in <code>/Users/dangl/Documents/Courses/GOP/vacancy_resume_matching/model/wandb/run-20231229_092333-3otszf6z</code>"
      ],
      "text/plain": [
       "<IPython.core.display.HTML object>"
      ]
     },
     "metadata": {},
     "output_type": "display_data"
    },
    {
     "data": {
      "text/html": [
       "Syncing run <strong><a href=\"https://wandb.ai/dangl/GOP%20HW2/runs/3otszf6z\" target=\"_blank\">hyperopt search</a></strong> to <a href=\"https://wandb.ai/dangl/GOP%20HW2\" target=\"_blank\">Weights & Biases</a> (<a href=\"https://wandb.me/run\" target=\"_blank\">docs</a>)<br/>"
      ],
      "text/plain": [
       "<IPython.core.display.HTML object>"
      ]
     },
     "metadata": {},
     "output_type": "display_data"
    },
    {
     "name": "stderr",
     "output_type": "stream",
     "text": [
      "/Users/dangl/opt/anaconda3/envs/torch-gpu/lib/python3.8/site-packages/xgboost/data.py:250: FutureWarning: pandas.Int64Index is deprecated and will be removed from pandas in a future version. Use pandas.Index with the appropriate dtype instead.\n",
      "  elif isinstance(data.columns, (pd.Int64Index, pd.RangeIndex)):\n",
      "\n",
      "/Users/dangl/opt/anaconda3/envs/torch-gpu/lib/python3.8/site-packages/xgboost/data.py:250: FutureWarning: pandas.Int64Index is deprecated and will be removed from pandas in a future version. Use pandas.Index with the appropriate dtype instead.\n",
      "  elif isinstance(data.columns, (pd.Int64Index, pd.RangeIndex)):\n",
      "\n"
     ]
    },
    {
     "name": "stdout",
     "output_type": "stream",
     "text": [
      "  7%|▋         | 2/30 [01:56<27:23, 58.68s/trial, best loss: -0.8853149636746596]"
     ]
    },
    {
     "data": {
      "text/html": [
       "Finishing last run (ID:3otszf6z) before initializing another..."
      ],
      "text/plain": [
       "<IPython.core.display.HTML object>"
      ]
     },
     "metadata": {},
     "output_type": "display_data"
    },
    {
     "data": {
      "text/html": [
       "Waiting for W&B process to finish... <strong style=\"color:green\">(success).</strong>"
      ],
      "text/plain": [
       "<IPython.core.display.HTML object>"
      ]
     },
     "metadata": {},
     "output_type": "display_data"
    },
    {
     "data": {
      "application/vnd.jupyter.widget-view+json": {
       "model_id": "0b6407c1a0ef424890af7e4f94374ac2",
       "version_major": 2,
       "version_minor": 0
      },
      "text/plain": [
       "VBox(children=(Label(value='0.001 MB of 0.001 MB uploaded (0.000 MB deduped)\\r'), FloatProgress(value=1.0, max…"
      ]
     },
     "metadata": {},
     "output_type": "display_data"
    },
    {
     "data": {
      "text/html": [
       "<style>\n",
       "    table.wandb td:nth-child(1) { padding: 0 10px; text-align: left ; width: auto;} td:nth-child(2) {text-align: left ; width: 100%}\n",
       "    .wandb-row { display: flex; flex-direction: row; flex-wrap: wrap; justify-content: flex-start; width: 100% }\n",
       "    .wandb-col { display: flex; flex-direction: column; flex-basis: 100%; flex: 1; padding: 10px; }\n",
       "    </style>\n",
       "<div class=\"wandb-row\"><div class=\"wandb-col\"><h3>Run summary:</h3><br/><table class=\"wandb\"><tr><td>Train AUC-PR</td><td>0.9867</td></tr><tr><td>Train AUC-ROC</td><td>0.98536</td></tr><tr><td>Train accuracy</td><td>0.99733</td></tr><tr><td>Val AUC-PR</td><td>0.88031</td></tr><tr><td>Val AUC-ROC</td><td>0.88143</td></tr><tr><td>Val accuracy</td><td>0.97669</td></tr></table><br/></div></div>"
      ],
      "text/plain": [
       "<IPython.core.display.HTML object>"
      ]
     },
     "metadata": {},
     "output_type": "display_data"
    },
    {
     "data": {
      "text/html": [
       "Synced <strong style=\"color:#cdcd00\">hyperopt search</strong>: <a href=\"https://wandb.ai/dangl/GOP%20HW2/runs/3otszf6z\" target=\"_blank\">https://wandb.ai/dangl/GOP%20HW2/runs/3otszf6z</a><br/>Synced 6 W&B file(s), 0 media file(s), 0 artifact file(s) and 0 other file(s)"
      ],
      "text/plain": [
       "<IPython.core.display.HTML object>"
      ]
     },
     "metadata": {},
     "output_type": "display_data"
    },
    {
     "data": {
      "text/html": [
       "Find logs at: <code>./wandb/run-20231229_092333-3otszf6z/logs</code>"
      ],
      "text/plain": [
       "<IPython.core.display.HTML object>"
      ]
     },
     "metadata": {},
     "output_type": "display_data"
    },
    {
     "data": {
      "text/html": [
       "Successfully finished last run (ID:3otszf6z). Initializing new run:<br/>"
      ],
      "text/plain": [
       "<IPython.core.display.HTML object>"
      ]
     },
     "metadata": {},
     "output_type": "display_data"
    },
    {
     "data": {
      "application/vnd.jupyter.widget-view+json": {
       "model_id": "d2849b46c88f4c52b84d2435ddc02ad4",
       "version_major": 2,
       "version_minor": 0
      },
      "text/plain": [
       "VBox(children=(Label(value='Waiting for wandb.init()...\\r'), FloatProgress(value=0.01670808611670509, max=1.0)…"
      ]
     },
     "metadata": {},
     "output_type": "display_data"
    },
    {
     "data": {
      "text/html": [
       "wandb version 0.16.1 is available!  To upgrade, please run:\n",
       " $ pip install wandb --upgrade"
      ],
      "text/plain": [
       "<IPython.core.display.HTML object>"
      ]
     },
     "metadata": {},
     "output_type": "display_data"
    },
    {
     "data": {
      "text/html": [
       "Tracking run with wandb version 0.13.6"
      ],
      "text/plain": [
       "<IPython.core.display.HTML object>"
      ]
     },
     "metadata": {},
     "output_type": "display_data"
    },
    {
     "data": {
      "text/html": [
       "Run data is saved locally in <code>/Users/dangl/Documents/Courses/GOP/vacancy_resume_matching/model/wandb/run-20231229_092435-2dnw880t</code>"
      ],
      "text/plain": [
       "<IPython.core.display.HTML object>"
      ]
     },
     "metadata": {},
     "output_type": "display_data"
    },
    {
     "data": {
      "text/html": [
       "Syncing run <strong><a href=\"https://wandb.ai/dangl/GOP%20HW2/runs/2dnw880t\" target=\"_blank\">hyperopt search</a></strong> to <a href=\"https://wandb.ai/dangl/GOP%20HW2\" target=\"_blank\">Weights & Biases</a> (<a href=\"https://wandb.me/run\" target=\"_blank\">docs</a>)<br/>"
      ],
      "text/plain": [
       "<IPython.core.display.HTML object>"
      ]
     },
     "metadata": {},
     "output_type": "display_data"
    },
    {
     "name": "stderr",
     "output_type": "stream",
     "text": [
      "/Users/dangl/opt/anaconda3/envs/torch-gpu/lib/python3.8/site-packages/xgboost/data.py:250: FutureWarning: pandas.Int64Index is deprecated and will be removed from pandas in a future version. Use pandas.Index with the appropriate dtype instead.\n",
      "  elif isinstance(data.columns, (pd.Int64Index, pd.RangeIndex)):\n",
      "\n",
      "/Users/dangl/opt/anaconda3/envs/torch-gpu/lib/python3.8/site-packages/xgboost/data.py:250: FutureWarning: pandas.Int64Index is deprecated and will be removed from pandas in a future version. Use pandas.Index with the appropriate dtype instead.\n",
      "  elif isinstance(data.columns, (pd.Int64Index, pd.RangeIndex)):\n",
      "\n"
     ]
    },
    {
     "name": "stdout",
     "output_type": "stream",
     "text": [
      " 10%|█         | 3/30 [02:31<21:35, 47.98s/trial, best loss: -0.8853149636746596]"
     ]
    },
    {
     "data": {
      "text/html": [
       "Finishing last run (ID:2dnw880t) before initializing another..."
      ],
      "text/plain": [
       "<IPython.core.display.HTML object>"
      ]
     },
     "metadata": {},
     "output_type": "display_data"
    },
    {
     "data": {
      "text/html": [
       "Waiting for W&B process to finish... <strong style=\"color:green\">(success).</strong>"
      ],
      "text/plain": [
       "<IPython.core.display.HTML object>"
      ]
     },
     "metadata": {},
     "output_type": "display_data"
    },
    {
     "data": {
      "application/vnd.jupyter.widget-view+json": {
       "model_id": "4335df8c05be43f99492309e756407c9",
       "version_major": 2,
       "version_minor": 0
      },
      "text/plain": [
       "VBox(children=(Label(value='0.001 MB of 0.001 MB uploaded (0.000 MB deduped)\\r'), FloatProgress(value=1.0, max…"
      ]
     },
     "metadata": {},
     "output_type": "display_data"
    },
    {
     "data": {
      "text/html": [
       "<style>\n",
       "    table.wandb td:nth-child(1) { padding: 0 10px; text-align: left ; width: auto;} td:nth-child(2) {text-align: left ; width: 100%}\n",
       "    .wandb-row { display: flex; flex-direction: row; flex-wrap: wrap; justify-content: flex-start; width: 100% }\n",
       "    .wandb-col { display: flex; flex-direction: column; flex-basis: 100%; flex: 1; padding: 10px; }\n",
       "    </style>\n",
       "<div class=\"wandb-row\"><div class=\"wandb-col\"><h3>Run summary:</h3><br/><table class=\"wandb\"><tr><td>Train AUC-PR</td><td>0.96779</td></tr><tr><td>Train AUC-ROC</td><td>0.9657</td></tr><tr><td>Train accuracy</td><td>0.99356</td></tr><tr><td>Val AUC-PR</td><td>0.86169</td></tr><tr><td>Val AUC-ROC</td><td>0.86372</td></tr><tr><td>Val accuracy</td><td>0.97319</td></tr></table><br/></div></div>"
      ],
      "text/plain": [
       "<IPython.core.display.HTML object>"
      ]
     },
     "metadata": {},
     "output_type": "display_data"
    },
    {
     "data": {
      "text/html": [
       "Synced <strong style=\"color:#cdcd00\">hyperopt search</strong>: <a href=\"https://wandb.ai/dangl/GOP%20HW2/runs/2dnw880t\" target=\"_blank\">https://wandb.ai/dangl/GOP%20HW2/runs/2dnw880t</a><br/>Synced 6 W&B file(s), 0 media file(s), 0 artifact file(s) and 0 other file(s)"
      ],
      "text/plain": [
       "<IPython.core.display.HTML object>"
      ]
     },
     "metadata": {},
     "output_type": "display_data"
    },
    {
     "data": {
      "text/html": [
       "Find logs at: <code>./wandb/run-20231229_092435-2dnw880t/logs</code>"
      ],
      "text/plain": [
       "<IPython.core.display.HTML object>"
      ]
     },
     "metadata": {},
     "output_type": "display_data"
    },
    {
     "data": {
      "text/html": [
       "Successfully finished last run (ID:2dnw880t). Initializing new run:<br/>"
      ],
      "text/plain": [
       "<IPython.core.display.HTML object>"
      ]
     },
     "metadata": {},
     "output_type": "display_data"
    },
    {
     "data": {
      "application/vnd.jupyter.widget-view+json": {
       "model_id": "7b000599593f48ea8491515c3d841272",
       "version_major": 2,
       "version_minor": 0
      },
      "text/plain": [
       "VBox(children=(Label(value='Waiting for wandb.init()...\\r'), FloatProgress(value=0.016721780566634457, max=1.0…"
      ]
     },
     "metadata": {},
     "output_type": "display_data"
    },
    {
     "data": {
      "text/html": [
       "wandb version 0.16.1 is available!  To upgrade, please run:\n",
       " $ pip install wandb --upgrade"
      ],
      "text/plain": [
       "<IPython.core.display.HTML object>"
      ]
     },
     "metadata": {},
     "output_type": "display_data"
    },
    {
     "data": {
      "text/html": [
       "Tracking run with wandb version 0.13.6"
      ],
      "text/plain": [
       "<IPython.core.display.HTML object>"
      ]
     },
     "metadata": {},
     "output_type": "display_data"
    },
    {
     "data": {
      "text/html": [
       "Run data is saved locally in <code>/Users/dangl/Documents/Courses/GOP/vacancy_resume_matching/model/wandb/run-20231229_092510-2io5n6qz</code>"
      ],
      "text/plain": [
       "<IPython.core.display.HTML object>"
      ]
     },
     "metadata": {},
     "output_type": "display_data"
    },
    {
     "data": {
      "text/html": [
       "Syncing run <strong><a href=\"https://wandb.ai/dangl/GOP%20HW2/runs/2io5n6qz\" target=\"_blank\">hyperopt search</a></strong> to <a href=\"https://wandb.ai/dangl/GOP%20HW2\" target=\"_blank\">Weights & Biases</a> (<a href=\"https://wandb.me/run\" target=\"_blank\">docs</a>)<br/>"
      ],
      "text/plain": [
       "<IPython.core.display.HTML object>"
      ]
     },
     "metadata": {},
     "output_type": "display_data"
    },
    {
     "name": "stderr",
     "output_type": "stream",
     "text": [
      "/Users/dangl/opt/anaconda3/envs/torch-gpu/lib/python3.8/site-packages/xgboost/data.py:250: FutureWarning: pandas.Int64Index is deprecated and will be removed from pandas in a future version. Use pandas.Index with the appropriate dtype instead.\n",
      "  elif isinstance(data.columns, (pd.Int64Index, pd.RangeIndex)):\n",
      "\n",
      "/Users/dangl/opt/anaconda3/envs/torch-gpu/lib/python3.8/site-packages/xgboost/data.py:250: FutureWarning: pandas.Int64Index is deprecated and will be removed from pandas in a future version. Use pandas.Index with the appropriate dtype instead.\n",
      "  elif isinstance(data.columns, (pd.Int64Index, pd.RangeIndex)):\n",
      "\n"
     ]
    },
    {
     "name": "stdout",
     "output_type": "stream",
     "text": [
      " 13%|█▎        | 4/30 [03:00<17:35, 40.61s/trial, best loss: -0.8876003666653018]"
     ]
    },
    {
     "data": {
      "text/html": [
       "Finishing last run (ID:2io5n6qz) before initializing another..."
      ],
      "text/plain": [
       "<IPython.core.display.HTML object>"
      ]
     },
     "metadata": {},
     "output_type": "display_data"
    },
    {
     "data": {
      "text/html": [
       "Waiting for W&B process to finish... <strong style=\"color:green\">(success).</strong>"
      ],
      "text/plain": [
       "<IPython.core.display.HTML object>"
      ]
     },
     "metadata": {},
     "output_type": "display_data"
    },
    {
     "data": {
      "text/html": [
       "<style>\n",
       "    table.wandb td:nth-child(1) { padding: 0 10px; text-align: left ; width: auto;} td:nth-child(2) {text-align: left ; width: 100%}\n",
       "    .wandb-row { display: flex; flex-direction: row; flex-wrap: wrap; justify-content: flex-start; width: 100% }\n",
       "    .wandb-col { display: flex; flex-direction: column; flex-basis: 100%; flex: 1; padding: 10px; }\n",
       "    </style>\n",
       "<div class=\"wandb-row\"><div class=\"wandb-col\"><h3>Run summary:</h3><br/><table class=\"wandb\"><tr><td>Train AUC-PR</td><td>0.98715</td></tr><tr><td>Train AUC-ROC</td><td>0.98614</td></tr><tr><td>Train accuracy</td><td>0.99743</td></tr><tr><td>Val AUC-PR</td><td>0.88373</td></tr><tr><td>Val AUC-ROC</td><td>0.8876</td></tr><tr><td>Val accuracy</td><td>0.97746</td></tr></table><br/></div></div>"
      ],
      "text/plain": [
       "<IPython.core.display.HTML object>"
      ]
     },
     "metadata": {},
     "output_type": "display_data"
    },
    {
     "data": {
      "text/html": [
       "Synced <strong style=\"color:#cdcd00\">hyperopt search</strong>: <a href=\"https://wandb.ai/dangl/GOP%20HW2/runs/2io5n6qz\" target=\"_blank\">https://wandb.ai/dangl/GOP%20HW2/runs/2io5n6qz</a><br/>Synced 6 W&B file(s), 0 media file(s), 0 artifact file(s) and 0 other file(s)"
      ],
      "text/plain": [
       "<IPython.core.display.HTML object>"
      ]
     },
     "metadata": {},
     "output_type": "display_data"
    },
    {
     "data": {
      "text/html": [
       "Find logs at: <code>./wandb/run-20231229_092510-2io5n6qz/logs</code>"
      ],
      "text/plain": [
       "<IPython.core.display.HTML object>"
      ]
     },
     "metadata": {},
     "output_type": "display_data"
    },
    {
     "data": {
      "text/html": [
       "Successfully finished last run (ID:2io5n6qz). Initializing new run:<br/>"
      ],
      "text/plain": [
       "<IPython.core.display.HTML object>"
      ]
     },
     "metadata": {},
     "output_type": "display_data"
    },
    {
     "data": {
      "application/vnd.jupyter.widget-view+json": {
       "model_id": "c50a0633ae134071bd79707edf2e5d0c",
       "version_major": 2,
       "version_minor": 0
      },
      "text/plain": [
       "VBox(children=(Label(value='Waiting for wandb.init()...\\r'), FloatProgress(value=0.016739290966506816, max=1.0…"
      ]
     },
     "metadata": {},
     "output_type": "display_data"
    },
    {
     "data": {
      "text/html": [
       "wandb version 0.16.1 is available!  To upgrade, please run:\n",
       " $ pip install wandb --upgrade"
      ],
      "text/plain": [
       "<IPython.core.display.HTML object>"
      ]
     },
     "metadata": {},
     "output_type": "display_data"
    },
    {
     "data": {
      "text/html": [
       "Tracking run with wandb version 0.13.6"
      ],
      "text/plain": [
       "<IPython.core.display.HTML object>"
      ]
     },
     "metadata": {},
     "output_type": "display_data"
    },
    {
     "data": {
      "text/html": [
       "Run data is saved locally in <code>/Users/dangl/Documents/Courses/GOP/vacancy_resume_matching/model/wandb/run-20231229_092539-3kyzc7h2</code>"
      ],
      "text/plain": [
       "<IPython.core.display.HTML object>"
      ]
     },
     "metadata": {},
     "output_type": "display_data"
    },
    {
     "data": {
      "text/html": [
       "Syncing run <strong><a href=\"https://wandb.ai/dangl/GOP%20HW2/runs/3kyzc7h2\" target=\"_blank\">hyperopt search</a></strong> to <a href=\"https://wandb.ai/dangl/GOP%20HW2\" target=\"_blank\">Weights & Biases</a> (<a href=\"https://wandb.me/run\" target=\"_blank\">docs</a>)<br/>"
      ],
      "text/plain": [
       "<IPython.core.display.HTML object>"
      ]
     },
     "metadata": {},
     "output_type": "display_data"
    },
    {
     "name": "stderr",
     "output_type": "stream",
     "text": [
      "/Users/dangl/opt/anaconda3/envs/torch-gpu/lib/python3.8/site-packages/xgboost/data.py:250: FutureWarning: pandas.Int64Index is deprecated and will be removed from pandas in a future version. Use pandas.Index with the appropriate dtype instead.\n",
      "  elif isinstance(data.columns, (pd.Int64Index, pd.RangeIndex)):\n",
      "\n",
      "/Users/dangl/opt/anaconda3/envs/torch-gpu/lib/python3.8/site-packages/xgboost/data.py:250: FutureWarning: pandas.Int64Index is deprecated and will be removed from pandas in a future version. Use pandas.Index with the appropriate dtype instead.\n",
      "  elif isinstance(data.columns, (pd.Int64Index, pd.RangeIndex)):\n",
      "\n"
     ]
    },
    {
     "name": "stdout",
     "output_type": "stream",
     "text": [
      " 17%|█▋        | 5/30 [03:41<16:58, 40.72s/trial, best loss: -0.8953652777967328]"
     ]
    },
    {
     "data": {
      "text/html": [
       "Finishing last run (ID:3kyzc7h2) before initializing another..."
      ],
      "text/plain": [
       "<IPython.core.display.HTML object>"
      ]
     },
     "metadata": {},
     "output_type": "display_data"
    },
    {
     "data": {
      "text/html": [
       "Waiting for W&B process to finish... <strong style=\"color:green\">(success).</strong>"
      ],
      "text/plain": [
       "<IPython.core.display.HTML object>"
      ]
     },
     "metadata": {},
     "output_type": "display_data"
    },
    {
     "data": {
      "text/html": [
       "<style>\n",
       "    table.wandb td:nth-child(1) { padding: 0 10px; text-align: left ; width: auto;} td:nth-child(2) {text-align: left ; width: 100%}\n",
       "    .wandb-row { display: flex; flex-direction: row; flex-wrap: wrap; justify-content: flex-start; width: 100% }\n",
       "    .wandb-col { display: flex; flex-direction: column; flex-basis: 100%; flex: 1; padding: 10px; }\n",
       "    </style>\n",
       "<div class=\"wandb-row\"><div class=\"wandb-col\"><h3>Run summary:</h3><br/><table class=\"wandb\"><tr><td>Train AUC-PR</td><td>0.97841</td></tr><tr><td>Train AUC-ROC</td><td>0.9768</td></tr><tr><td>Train accuracy</td><td>0.99568</td></tr><tr><td>Val AUC-PR</td><td>0.88877</td></tr><tr><td>Val AUC-ROC</td><td>0.89537</td></tr><tr><td>Val accuracy</td><td>0.97853</td></tr></table><br/></div></div>"
      ],
      "text/plain": [
       "<IPython.core.display.HTML object>"
      ]
     },
     "metadata": {},
     "output_type": "display_data"
    },
    {
     "data": {
      "text/html": [
       "Synced <strong style=\"color:#cdcd00\">hyperopt search</strong>: <a href=\"https://wandb.ai/dangl/GOP%20HW2/runs/3kyzc7h2\" target=\"_blank\">https://wandb.ai/dangl/GOP%20HW2/runs/3kyzc7h2</a><br/>Synced 6 W&B file(s), 0 media file(s), 0 artifact file(s) and 0 other file(s)"
      ],
      "text/plain": [
       "<IPython.core.display.HTML object>"
      ]
     },
     "metadata": {},
     "output_type": "display_data"
    },
    {
     "data": {
      "text/html": [
       "Find logs at: <code>./wandb/run-20231229_092539-3kyzc7h2/logs</code>"
      ],
      "text/plain": [
       "<IPython.core.display.HTML object>"
      ]
     },
     "metadata": {},
     "output_type": "display_data"
    },
    {
     "data": {
      "text/html": [
       "Successfully finished last run (ID:3kyzc7h2). Initializing new run:<br/>"
      ],
      "text/plain": [
       "<IPython.core.display.HTML object>"
      ]
     },
     "metadata": {},
     "output_type": "display_data"
    },
    {
     "data": {
      "application/vnd.jupyter.widget-view+json": {
       "model_id": "bc4edb5858ae4e07a388bf1436a17736",
       "version_major": 2,
       "version_minor": 0
      },
      "text/plain": [
       "VBox(children=(Label(value='Waiting for wandb.init()...\\r'), FloatProgress(value=0.016751970133433738, max=1.0…"
      ]
     },
     "metadata": {},
     "output_type": "display_data"
    },
    {
     "data": {
      "text/html": [
       "wandb version 0.16.1 is available!  To upgrade, please run:\n",
       " $ pip install wandb --upgrade"
      ],
      "text/plain": [
       "<IPython.core.display.HTML object>"
      ]
     },
     "metadata": {},
     "output_type": "display_data"
    },
    {
     "data": {
      "text/html": [
       "Tracking run with wandb version 0.13.6"
      ],
      "text/plain": [
       "<IPython.core.display.HTML object>"
      ]
     },
     "metadata": {},
     "output_type": "display_data"
    },
    {
     "data": {
      "text/html": [
       "Run data is saved locally in <code>/Users/dangl/Documents/Courses/GOP/vacancy_resume_matching/model/wandb/run-20231229_092620-2ur2cg26</code>"
      ],
      "text/plain": [
       "<IPython.core.display.HTML object>"
      ]
     },
     "metadata": {},
     "output_type": "display_data"
    },
    {
     "data": {
      "text/html": [
       "Syncing run <strong><a href=\"https://wandb.ai/dangl/GOP%20HW2/runs/2ur2cg26\" target=\"_blank\">hyperopt search</a></strong> to <a href=\"https://wandb.ai/dangl/GOP%20HW2\" target=\"_blank\">Weights & Biases</a> (<a href=\"https://wandb.me/run\" target=\"_blank\">docs</a>)<br/>"
      ],
      "text/plain": [
       "<IPython.core.display.HTML object>"
      ]
     },
     "metadata": {},
     "output_type": "display_data"
    },
    {
     "name": "stderr",
     "output_type": "stream",
     "text": [
      "/Users/dangl/opt/anaconda3/envs/torch-gpu/lib/python3.8/site-packages/xgboost/data.py:250: FutureWarning: pandas.Int64Index is deprecated and will be removed from pandas in a future version. Use pandas.Index with the appropriate dtype instead.\n",
      "  elif isinstance(data.columns, (pd.Int64Index, pd.RangeIndex)):\n",
      "\n",
      "/Users/dangl/opt/anaconda3/envs/torch-gpu/lib/python3.8/site-packages/xgboost/data.py:250: FutureWarning: pandas.Int64Index is deprecated and will be removed from pandas in a future version. Use pandas.Index with the appropriate dtype instead.\n",
      "  elif isinstance(data.columns, (pd.Int64Index, pd.RangeIndex)):\n",
      "\n"
     ]
    },
    {
     "name": "stdout",
     "output_type": "stream",
     "text": [
      " 20%|██        | 6/30 [04:12<14:53, 37.23s/trial, best loss: -0.8953652777967328]"
     ]
    },
    {
     "data": {
      "text/html": [
       "Finishing last run (ID:2ur2cg26) before initializing another..."
      ],
      "text/plain": [
       "<IPython.core.display.HTML object>"
      ]
     },
     "metadata": {},
     "output_type": "display_data"
    },
    {
     "data": {
      "text/html": [
       "Waiting for W&B process to finish... <strong style=\"color:green\">(success).</strong>"
      ],
      "text/plain": [
       "<IPython.core.display.HTML object>"
      ]
     },
     "metadata": {},
     "output_type": "display_data"
    },
    {
     "data": {
      "text/html": [
       "<style>\n",
       "    table.wandb td:nth-child(1) { padding: 0 10px; text-align: left ; width: auto;} td:nth-child(2) {text-align: left ; width: 100%}\n",
       "    .wandb-row { display: flex; flex-direction: row; flex-wrap: wrap; justify-content: flex-start; width: 100% }\n",
       "    .wandb-col { display: flex; flex-direction: column; flex-basis: 100%; flex: 1; padding: 10px; }\n",
       "    </style>\n",
       "<div class=\"wandb-row\"><div class=\"wandb-col\"><h3>Run summary:</h3><br/><table class=\"wandb\"><tr><td>Train AUC-PR</td><td>0.99467</td></tr><tr><td>Train AUC-ROC</td><td>0.99427</td></tr><tr><td>Train accuracy</td><td>0.99893</td></tr><tr><td>Val AUC-PR</td><td>0.88739</td></tr><tr><td>Val AUC-ROC</td><td>0.89085</td></tr><tr><td>Val accuracy</td><td>0.97814</td></tr></table><br/></div></div>"
      ],
      "text/plain": [
       "<IPython.core.display.HTML object>"
      ]
     },
     "metadata": {},
     "output_type": "display_data"
    },
    {
     "data": {
      "text/html": [
       "Synced <strong style=\"color:#cdcd00\">hyperopt search</strong>: <a href=\"https://wandb.ai/dangl/GOP%20HW2/runs/2ur2cg26\" target=\"_blank\">https://wandb.ai/dangl/GOP%20HW2/runs/2ur2cg26</a><br/>Synced 6 W&B file(s), 0 media file(s), 0 artifact file(s) and 0 other file(s)"
      ],
      "text/plain": [
       "<IPython.core.display.HTML object>"
      ]
     },
     "metadata": {},
     "output_type": "display_data"
    },
    {
     "data": {
      "text/html": [
       "Find logs at: <code>./wandb/run-20231229_092620-2ur2cg26/logs</code>"
      ],
      "text/plain": [
       "<IPython.core.display.HTML object>"
      ]
     },
     "metadata": {},
     "output_type": "display_data"
    },
    {
     "data": {
      "text/html": [
       "Successfully finished last run (ID:2ur2cg26). Initializing new run:<br/>"
      ],
      "text/plain": [
       "<IPython.core.display.HTML object>"
      ]
     },
     "metadata": {},
     "output_type": "display_data"
    },
    {
     "data": {
      "application/vnd.jupyter.widget-view+json": {
       "model_id": "c9a433d3bfc24a6fbc7610c240b8406c",
       "version_major": 2,
       "version_minor": 0
      },
      "text/plain": [
       "VBox(children=(Label(value='Waiting for wandb.init()...\\r'), FloatProgress(value=0.016687927766664265, max=1.0…"
      ]
     },
     "metadata": {},
     "output_type": "display_data"
    },
    {
     "data": {
      "text/html": [
       "wandb version 0.16.1 is available!  To upgrade, please run:\n",
       " $ pip install wandb --upgrade"
      ],
      "text/plain": [
       "<IPython.core.display.HTML object>"
      ]
     },
     "metadata": {},
     "output_type": "display_data"
    },
    {
     "data": {
      "text/html": [
       "Tracking run with wandb version 0.13.6"
      ],
      "text/plain": [
       "<IPython.core.display.HTML object>"
      ]
     },
     "metadata": {},
     "output_type": "display_data"
    },
    {
     "data": {
      "text/html": [
       "Run data is saved locally in <code>/Users/dangl/Documents/Courses/GOP/vacancy_resume_matching/model/wandb/run-20231229_092651-2lrbljs5</code>"
      ],
      "text/plain": [
       "<IPython.core.display.HTML object>"
      ]
     },
     "metadata": {},
     "output_type": "display_data"
    },
    {
     "data": {
      "text/html": [
       "Syncing run <strong><a href=\"https://wandb.ai/dangl/GOP%20HW2/runs/2lrbljs5\" target=\"_blank\">hyperopt search</a></strong> to <a href=\"https://wandb.ai/dangl/GOP%20HW2\" target=\"_blank\">Weights & Biases</a> (<a href=\"https://wandb.me/run\" target=\"_blank\">docs</a>)<br/>"
      ],
      "text/plain": [
       "<IPython.core.display.HTML object>"
      ]
     },
     "metadata": {},
     "output_type": "display_data"
    },
    {
     "name": "stderr",
     "output_type": "stream",
     "text": [
      "/Users/dangl/opt/anaconda3/envs/torch-gpu/lib/python3.8/site-packages/xgboost/data.py:250: FutureWarning: pandas.Int64Index is deprecated and will be removed from pandas in a future version. Use pandas.Index with the appropriate dtype instead.\n",
      "  elif isinstance(data.columns, (pd.Int64Index, pd.RangeIndex)):\n",
      "\n",
      "/Users/dangl/opt/anaconda3/envs/torch-gpu/lib/python3.8/site-packages/xgboost/data.py:250: FutureWarning: pandas.Int64Index is deprecated and will be removed from pandas in a future version. Use pandas.Index with the appropriate dtype instead.\n",
      "  elif isinstance(data.columns, (pd.Int64Index, pd.RangeIndex)):\n",
      "\n"
     ]
    },
    {
     "name": "stdout",
     "output_type": "stream",
     "text": [
      " 23%|██▎       | 7/30 [04:50<14:22, 37.52s/trial, best loss: -0.8953652777967328]"
     ]
    },
    {
     "data": {
      "text/html": [
       "Finishing last run (ID:2lrbljs5) before initializing another..."
      ],
      "text/plain": [
       "<IPython.core.display.HTML object>"
      ]
     },
     "metadata": {},
     "output_type": "display_data"
    },
    {
     "data": {
      "text/html": [
       "Waiting for W&B process to finish... <strong style=\"color:green\">(success).</strong>"
      ],
      "text/plain": [
       "<IPython.core.display.HTML object>"
      ]
     },
     "metadata": {},
     "output_type": "display_data"
    },
    {
     "data": {
      "application/vnd.jupyter.widget-view+json": {
       "model_id": "761c6018921e4bfeab874a6d50bb320c",
       "version_major": 2,
       "version_minor": 0
      },
      "text/plain": [
       "VBox(children=(Label(value='0.001 MB of 0.001 MB uploaded (0.000 MB deduped)\\r'), FloatProgress(value=1.0, max…"
      ]
     },
     "metadata": {},
     "output_type": "display_data"
    },
    {
     "data": {
      "text/html": [
       "<style>\n",
       "    table.wandb td:nth-child(1) { padding: 0 10px; text-align: left ; width: auto;} td:nth-child(2) {text-align: left ; width: 100%}\n",
       "    .wandb-row { display: flex; flex-direction: row; flex-wrap: wrap; justify-content: flex-start; width: 100% }\n",
       "    .wandb-col { display: flex; flex-direction: column; flex-basis: 100%; flex: 1; padding: 10px; }\n",
       "    </style>\n",
       "<div class=\"wandb-row\"><div class=\"wandb-col\"><h3>Run summary:</h3><br/><table class=\"wandb\"><tr><td>Train AUC-PR</td><td>0.94954</td></tr><tr><td>Train AUC-ROC</td><td>0.94964</td></tr><tr><td>Train accuracy</td><td>0.99004</td></tr><tr><td>Val AUC-PR</td><td>0.87687</td></tr><tr><td>Val AUC-ROC</td><td>0.88653</td></tr><tr><td>Val accuracy</td><td>0.97639</td></tr></table><br/></div></div>"
      ],
      "text/plain": [
       "<IPython.core.display.HTML object>"
      ]
     },
     "metadata": {},
     "output_type": "display_data"
    },
    {
     "data": {
      "text/html": [
       "Synced <strong style=\"color:#cdcd00\">hyperopt search</strong>: <a href=\"https://wandb.ai/dangl/GOP%20HW2/runs/2lrbljs5\" target=\"_blank\">https://wandb.ai/dangl/GOP%20HW2/runs/2lrbljs5</a><br/>Synced 6 W&B file(s), 0 media file(s), 0 artifact file(s) and 0 other file(s)"
      ],
      "text/plain": [
       "<IPython.core.display.HTML object>"
      ]
     },
     "metadata": {},
     "output_type": "display_data"
    },
    {
     "data": {
      "text/html": [
       "Find logs at: <code>./wandb/run-20231229_092651-2lrbljs5/logs</code>"
      ],
      "text/plain": [
       "<IPython.core.display.HTML object>"
      ]
     },
     "metadata": {},
     "output_type": "display_data"
    },
    {
     "data": {
      "text/html": [
       "Successfully finished last run (ID:2lrbljs5). Initializing new run:<br/>"
      ],
      "text/plain": [
       "<IPython.core.display.HTML object>"
      ]
     },
     "metadata": {},
     "output_type": "display_data"
    },
    {
     "data": {
      "application/vnd.jupyter.widget-view+json": {
       "model_id": "97bf3cc1e7e24c90bab6e71696577c34",
       "version_major": 2,
       "version_minor": 0
      },
      "text/plain": [
       "VBox(children=(Label(value='Waiting for wandb.init()...\\r'), FloatProgress(value=0.01667488473346263, max=1.0)…"
      ]
     },
     "metadata": {},
     "output_type": "display_data"
    },
    {
     "data": {
      "text/html": [
       "wandb version 0.16.1 is available!  To upgrade, please run:\n",
       " $ pip install wandb --upgrade"
      ],
      "text/plain": [
       "<IPython.core.display.HTML object>"
      ]
     },
     "metadata": {},
     "output_type": "display_data"
    },
    {
     "data": {
      "text/html": [
       "Tracking run with wandb version 0.13.6"
      ],
      "text/plain": [
       "<IPython.core.display.HTML object>"
      ]
     },
     "metadata": {},
     "output_type": "display_data"
    },
    {
     "data": {
      "text/html": [
       "Run data is saved locally in <code>/Users/dangl/Documents/Courses/GOP/vacancy_resume_matching/model/wandb/run-20231229_092729-3hcn7953</code>"
      ],
      "text/plain": [
       "<IPython.core.display.HTML object>"
      ]
     },
     "metadata": {},
     "output_type": "display_data"
    },
    {
     "data": {
      "text/html": [
       "Syncing run <strong><a href=\"https://wandb.ai/dangl/GOP%20HW2/runs/3hcn7953\" target=\"_blank\">hyperopt search</a></strong> to <a href=\"https://wandb.ai/dangl/GOP%20HW2\" target=\"_blank\">Weights & Biases</a> (<a href=\"https://wandb.me/run\" target=\"_blank\">docs</a>)<br/>"
      ],
      "text/plain": [
       "<IPython.core.display.HTML object>"
      ]
     },
     "metadata": {},
     "output_type": "display_data"
    },
    {
     "name": "stderr",
     "output_type": "stream",
     "text": [
      "/Users/dangl/opt/anaconda3/envs/torch-gpu/lib/python3.8/site-packages/xgboost/data.py:250: FutureWarning: pandas.Int64Index is deprecated and will be removed from pandas in a future version. Use pandas.Index with the appropriate dtype instead.\n",
      "  elif isinstance(data.columns, (pd.Int64Index, pd.RangeIndex)):\n",
      "\n",
      "/Users/dangl/opt/anaconda3/envs/torch-gpu/lib/python3.8/site-packages/xgboost/data.py:250: FutureWarning: pandas.Int64Index is deprecated and will be removed from pandas in a future version. Use pandas.Index with the appropriate dtype instead.\n",
      "  elif isinstance(data.columns, (pd.Int64Index, pd.RangeIndex)):\n",
      "\n"
     ]
    },
    {
     "name": "stdout",
     "output_type": "stream",
     "text": [
      " 27%|██▋       | 8/30 [05:17<12:34, 34.28s/trial, best loss: -0.8953652777967328]"
     ]
    },
    {
     "data": {
      "text/html": [
       "Finishing last run (ID:3hcn7953) before initializing another..."
      ],
      "text/plain": [
       "<IPython.core.display.HTML object>"
      ]
     },
     "metadata": {},
     "output_type": "display_data"
    },
    {
     "data": {
      "text/html": [
       "Waiting for W&B process to finish... <strong style=\"color:green\">(success).</strong>"
      ],
      "text/plain": [
       "<IPython.core.display.HTML object>"
      ]
     },
     "metadata": {},
     "output_type": "display_data"
    },
    {
     "data": {
      "text/html": [
       "<style>\n",
       "    table.wandb td:nth-child(1) { padding: 0 10px; text-align: left ; width: auto;} td:nth-child(2) {text-align: left ; width: 100%}\n",
       "    .wandb-row { display: flex; flex-direction: row; flex-wrap: wrap; justify-content: flex-start; width: 100% }\n",
       "    .wandb-col { display: flex; flex-direction: column; flex-basis: 100%; flex: 1; padding: 10px; }\n",
       "    </style>\n",
       "<div class=\"wandb-row\"><div class=\"wandb-col\"><h3>Run summary:</h3><br/><table class=\"wandb\"><tr><td>Train AUC-PR</td><td>0.96566</td></tr><tr><td>Train AUC-ROC</td><td>0.9638</td></tr><tr><td>Train accuracy</td><td>0.99315</td></tr><tr><td>Val AUC-PR</td><td>0.86135</td></tr><tr><td>Val AUC-ROC</td><td>0.86664</td></tr><tr><td>Val accuracy</td><td>0.97329</td></tr></table><br/></div></div>"
      ],
      "text/plain": [
       "<IPython.core.display.HTML object>"
      ]
     },
     "metadata": {},
     "output_type": "display_data"
    },
    {
     "data": {
      "text/html": [
       "Synced <strong style=\"color:#cdcd00\">hyperopt search</strong>: <a href=\"https://wandb.ai/dangl/GOP%20HW2/runs/3hcn7953\" target=\"_blank\">https://wandb.ai/dangl/GOP%20HW2/runs/3hcn7953</a><br/>Synced 6 W&B file(s), 0 media file(s), 0 artifact file(s) and 0 other file(s)"
      ],
      "text/plain": [
       "<IPython.core.display.HTML object>"
      ]
     },
     "metadata": {},
     "output_type": "display_data"
    },
    {
     "data": {
      "text/html": [
       "Find logs at: <code>./wandb/run-20231229_092729-3hcn7953/logs</code>"
      ],
      "text/plain": [
       "<IPython.core.display.HTML object>"
      ]
     },
     "metadata": {},
     "output_type": "display_data"
    },
    {
     "data": {
      "text/html": [
       "Successfully finished last run (ID:3hcn7953). Initializing new run:<br/>"
      ],
      "text/plain": [
       "<IPython.core.display.HTML object>"
      ]
     },
     "metadata": {},
     "output_type": "display_data"
    },
    {
     "data": {
      "application/vnd.jupyter.widget-view+json": {
       "model_id": "f8e581edd4b54708a981eebe492b0531",
       "version_major": 2,
       "version_minor": 0
      },
      "text/plain": [
       "VBox(children=(Label(value='Waiting for wandb.init()...\\r'), FloatProgress(value=0.016669746533201153, max=1.0…"
      ]
     },
     "metadata": {},
     "output_type": "display_data"
    },
    {
     "data": {
      "text/html": [
       "wandb version 0.16.1 is available!  To upgrade, please run:\n",
       " $ pip install wandb --upgrade"
      ],
      "text/plain": [
       "<IPython.core.display.HTML object>"
      ]
     },
     "metadata": {},
     "output_type": "display_data"
    },
    {
     "data": {
      "text/html": [
       "Tracking run with wandb version 0.13.6"
      ],
      "text/plain": [
       "<IPython.core.display.HTML object>"
      ]
     },
     "metadata": {},
     "output_type": "display_data"
    },
    {
     "data": {
      "text/html": [
       "Run data is saved locally in <code>/Users/dangl/Documents/Courses/GOP/vacancy_resume_matching/model/wandb/run-20231229_092756-1bfn6i2z</code>"
      ],
      "text/plain": [
       "<IPython.core.display.HTML object>"
      ]
     },
     "metadata": {},
     "output_type": "display_data"
    },
    {
     "data": {
      "text/html": [
       "Syncing run <strong><a href=\"https://wandb.ai/dangl/GOP%20HW2/runs/1bfn6i2z\" target=\"_blank\">hyperopt search</a></strong> to <a href=\"https://wandb.ai/dangl/GOP%20HW2\" target=\"_blank\">Weights & Biases</a> (<a href=\"https://wandb.me/run\" target=\"_blank\">docs</a>)<br/>"
      ],
      "text/plain": [
       "<IPython.core.display.HTML object>"
      ]
     },
     "metadata": {},
     "output_type": "display_data"
    },
    {
     "name": "stderr",
     "output_type": "stream",
     "text": [
      "/Users/dangl/opt/anaconda3/envs/torch-gpu/lib/python3.8/site-packages/xgboost/data.py:250: FutureWarning: pandas.Int64Index is deprecated and will be removed from pandas in a future version. Use pandas.Index with the appropriate dtype instead.\n",
      "  elif isinstance(data.columns, (pd.Int64Index, pd.RangeIndex)):\n",
      "\n",
      "/Users/dangl/opt/anaconda3/envs/torch-gpu/lib/python3.8/site-packages/xgboost/data.py:250: FutureWarning: pandas.Int64Index is deprecated and will be removed from pandas in a future version. Use pandas.Index with the appropriate dtype instead.\n",
      "  elif isinstance(data.columns, (pd.Int64Index, pd.RangeIndex)):\n",
      "\n"
     ]
    },
    {
     "name": "stdout",
     "output_type": "stream",
     "text": [
      " 30%|███       | 9/30 [05:44<11:09, 31.90s/trial, best loss: -0.8953652777967328]"
     ]
    },
    {
     "data": {
      "text/html": [
       "Finishing last run (ID:1bfn6i2z) before initializing another..."
      ],
      "text/plain": [
       "<IPython.core.display.HTML object>"
      ]
     },
     "metadata": {},
     "output_type": "display_data"
    },
    {
     "data": {
      "text/html": [
       "Waiting for W&B process to finish... <strong style=\"color:green\">(success).</strong>"
      ],
      "text/plain": [
       "<IPython.core.display.HTML object>"
      ]
     },
     "metadata": {},
     "output_type": "display_data"
    },
    {
     "data": {
      "application/vnd.jupyter.widget-view+json": {
       "model_id": "dd3b6d98c0ec40d9905236c77d23ec57",
       "version_major": 2,
       "version_minor": 0
      },
      "text/plain": [
       "VBox(children=(Label(value='0.001 MB of 0.001 MB uploaded (0.000 MB deduped)\\r'), FloatProgress(value=1.0, max…"
      ]
     },
     "metadata": {},
     "output_type": "display_data"
    },
    {
     "data": {
      "text/html": [
       "<style>\n",
       "    table.wandb td:nth-child(1) { padding: 0 10px; text-align: left ; width: auto;} td:nth-child(2) {text-align: left ; width: 100%}\n",
       "    .wandb-row { display: flex; flex-direction: row; flex-wrap: wrap; justify-content: flex-start; width: 100% }\n",
       "    .wandb-col { display: flex; flex-direction: column; flex-basis: 100%; flex: 1; padding: 10px; }\n",
       "    </style>\n",
       "<div class=\"wandb-row\"><div class=\"wandb-col\"><h3>Run summary:</h3><br/><table class=\"wandb\"><tr><td>Train AUC-PR</td><td>0.84369</td></tr><tr><td>Train AUC-ROC</td><td>0.84377</td></tr><tr><td>Train accuracy</td><td>0.96969</td></tr><tr><td>Val AUC-PR</td><td>0.79045</td></tr><tr><td>Val AUC-ROC</td><td>0.80169</td></tr><tr><td>Val accuracy</td><td>0.96046</td></tr></table><br/></div></div>"
      ],
      "text/plain": [
       "<IPython.core.display.HTML object>"
      ]
     },
     "metadata": {},
     "output_type": "display_data"
    },
    {
     "data": {
      "text/html": [
       "Synced <strong style=\"color:#cdcd00\">hyperopt search</strong>: <a href=\"https://wandb.ai/dangl/GOP%20HW2/runs/1bfn6i2z\" target=\"_blank\">https://wandb.ai/dangl/GOP%20HW2/runs/1bfn6i2z</a><br/>Synced 6 W&B file(s), 0 media file(s), 0 artifact file(s) and 0 other file(s)"
      ],
      "text/plain": [
       "<IPython.core.display.HTML object>"
      ]
     },
     "metadata": {},
     "output_type": "display_data"
    },
    {
     "data": {
      "text/html": [
       "Find logs at: <code>./wandb/run-20231229_092756-1bfn6i2z/logs</code>"
      ],
      "text/plain": [
       "<IPython.core.display.HTML object>"
      ]
     },
     "metadata": {},
     "output_type": "display_data"
    },
    {
     "data": {
      "text/html": [
       "Successfully finished last run (ID:1bfn6i2z). Initializing new run:<br/>"
      ],
      "text/plain": [
       "<IPython.core.display.HTML object>"
      ]
     },
     "metadata": {},
     "output_type": "display_data"
    },
    {
     "data": {
      "application/vnd.jupyter.widget-view+json": {
       "model_id": "c09619a9ae0c4f8dac05ca23cc2528d2",
       "version_major": 2,
       "version_minor": 0
      },
      "text/plain": [
       "VBox(children=(Label(value='Waiting for wandb.init()...\\r'), FloatProgress(value=0.01667083681677468, max=1.0)…"
      ]
     },
     "metadata": {},
     "output_type": "display_data"
    },
    {
     "data": {
      "text/html": [
       "wandb version 0.16.1 is available!  To upgrade, please run:\n",
       " $ pip install wandb --upgrade"
      ],
      "text/plain": [
       "<IPython.core.display.HTML object>"
      ]
     },
     "metadata": {},
     "output_type": "display_data"
    },
    {
     "data": {
      "text/html": [
       "Tracking run with wandb version 0.13.6"
      ],
      "text/plain": [
       "<IPython.core.display.HTML object>"
      ]
     },
     "metadata": {},
     "output_type": "display_data"
    },
    {
     "data": {
      "text/html": [
       "Run data is saved locally in <code>/Users/dangl/Documents/Courses/GOP/vacancy_resume_matching/model/wandb/run-20231229_092823-gp29howt</code>"
      ],
      "text/plain": [
       "<IPython.core.display.HTML object>"
      ]
     },
     "metadata": {},
     "output_type": "display_data"
    },
    {
     "data": {
      "text/html": [
       "Syncing run <strong><a href=\"https://wandb.ai/dangl/GOP%20HW2/runs/gp29howt\" target=\"_blank\">hyperopt search</a></strong> to <a href=\"https://wandb.ai/dangl/GOP%20HW2\" target=\"_blank\">Weights & Biases</a> (<a href=\"https://wandb.me/run\" target=\"_blank\">docs</a>)<br/>"
      ],
      "text/plain": [
       "<IPython.core.display.HTML object>"
      ]
     },
     "metadata": {},
     "output_type": "display_data"
    },
    {
     "name": "stderr",
     "output_type": "stream",
     "text": [
      "/Users/dangl/opt/anaconda3/envs/torch-gpu/lib/python3.8/site-packages/xgboost/data.py:250: FutureWarning: pandas.Int64Index is deprecated and will be removed from pandas in a future version. Use pandas.Index with the appropriate dtype instead.\n",
      "  elif isinstance(data.columns, (pd.Int64Index, pd.RangeIndex)):\n",
      "\n",
      "/Users/dangl/opt/anaconda3/envs/torch-gpu/lib/python3.8/site-packages/xgboost/data.py:250: FutureWarning: pandas.Int64Index is deprecated and will be removed from pandas in a future version. Use pandas.Index with the appropriate dtype instead.\n",
      "  elif isinstance(data.columns, (pd.Int64Index, pd.RangeIndex)):\n",
      "\n"
     ]
    },
    {
     "name": "stdout",
     "output_type": "stream",
     "text": [
      " 33%|███▎      | 10/30 [06:09<09:56, 29.83s/trial, best loss: -0.8953652777967328]"
     ]
    },
    {
     "data": {
      "text/html": [
       "Finishing last run (ID:gp29howt) before initializing another..."
      ],
      "text/plain": [
       "<IPython.core.display.HTML object>"
      ]
     },
     "metadata": {},
     "output_type": "display_data"
    },
    {
     "data": {
      "text/html": [
       "Waiting for W&B process to finish... <strong style=\"color:green\">(success).</strong>"
      ],
      "text/plain": [
       "<IPython.core.display.HTML object>"
      ]
     },
     "metadata": {},
     "output_type": "display_data"
    },
    {
     "data": {
      "application/vnd.jupyter.widget-view+json": {
       "model_id": "3bbd35aaa06442dfac09977f2dcc5e2a",
       "version_major": 2,
       "version_minor": 0
      },
      "text/plain": [
       "VBox(children=(Label(value='0.001 MB of 0.016 MB uploaded (0.000 MB deduped)\\r'), FloatProgress(value=0.064504…"
      ]
     },
     "metadata": {},
     "output_type": "display_data"
    },
    {
     "data": {
      "text/html": [
       "<style>\n",
       "    table.wandb td:nth-child(1) { padding: 0 10px; text-align: left ; width: auto;} td:nth-child(2) {text-align: left ; width: 100%}\n",
       "    .wandb-row { display: flex; flex-direction: row; flex-wrap: wrap; justify-content: flex-start; width: 100% }\n",
       "    .wandb-col { display: flex; flex-direction: column; flex-basis: 100%; flex: 1; padding: 10px; }\n",
       "    </style>\n",
       "<div class=\"wandb-row\"><div class=\"wandb-col\"><h3>Run summary:</h3><br/><table class=\"wandb\"><tr><td>Train AUC-PR</td><td>0.97982</td></tr><tr><td>Train AUC-ROC</td><td>0.97863</td></tr><tr><td>Train accuracy</td><td>0.99597</td></tr><tr><td>Val AUC-PR</td><td>0.87733</td></tr><tr><td>Val AUC-ROC</td><td>0.88021</td></tr><tr><td>Val accuracy</td><td>0.9762</td></tr></table><br/></div></div>"
      ],
      "text/plain": [
       "<IPython.core.display.HTML object>"
      ]
     },
     "metadata": {},
     "output_type": "display_data"
    },
    {
     "data": {
      "text/html": [
       "Synced <strong style=\"color:#cdcd00\">hyperopt search</strong>: <a href=\"https://wandb.ai/dangl/GOP%20HW2/runs/gp29howt\" target=\"_blank\">https://wandb.ai/dangl/GOP%20HW2/runs/gp29howt</a><br/>Synced 6 W&B file(s), 0 media file(s), 0 artifact file(s) and 0 other file(s)"
      ],
      "text/plain": [
       "<IPython.core.display.HTML object>"
      ]
     },
     "metadata": {},
     "output_type": "display_data"
    },
    {
     "data": {
      "text/html": [
       "Find logs at: <code>./wandb/run-20231229_092823-gp29howt/logs</code>"
      ],
      "text/plain": [
       "<IPython.core.display.HTML object>"
      ]
     },
     "metadata": {},
     "output_type": "display_data"
    },
    {
     "data": {
      "text/html": [
       "Successfully finished last run (ID:gp29howt). Initializing new run:<br/>"
      ],
      "text/plain": [
       "<IPython.core.display.HTML object>"
      ]
     },
     "metadata": {},
     "output_type": "display_data"
    },
    {
     "data": {
      "application/vnd.jupyter.widget-view+json": {
       "model_id": "ddd2a500409b4908aeeed67ad6a9e12d",
       "version_major": 2,
       "version_minor": 0
      },
      "text/plain": [
       "VBox(children=(Label(value='Waiting for wandb.init()...\\r'), FloatProgress(value=0.0167022805500892, max=1.0))…"
      ]
     },
     "metadata": {},
     "output_type": "display_data"
    },
    {
     "data": {
      "text/html": [
       "wandb version 0.16.1 is available!  To upgrade, please run:\n",
       " $ pip install wandb --upgrade"
      ],
      "text/plain": [
       "<IPython.core.display.HTML object>"
      ]
     },
     "metadata": {},
     "output_type": "display_data"
    },
    {
     "data": {
      "text/html": [
       "Tracking run with wandb version 0.13.6"
      ],
      "text/plain": [
       "<IPython.core.display.HTML object>"
      ]
     },
     "metadata": {},
     "output_type": "display_data"
    },
    {
     "data": {
      "text/html": [
       "Run data is saved locally in <code>/Users/dangl/Documents/Courses/GOP/vacancy_resume_matching/model/wandb/run-20231229_092848-2xjfptu9</code>"
      ],
      "text/plain": [
       "<IPython.core.display.HTML object>"
      ]
     },
     "metadata": {},
     "output_type": "display_data"
    },
    {
     "data": {
      "text/html": [
       "Syncing run <strong><a href=\"https://wandb.ai/dangl/GOP%20HW2/runs/2xjfptu9\" target=\"_blank\">hyperopt search</a></strong> to <a href=\"https://wandb.ai/dangl/GOP%20HW2\" target=\"_blank\">Weights & Biases</a> (<a href=\"https://wandb.me/run\" target=\"_blank\">docs</a>)<br/>"
      ],
      "text/plain": [
       "<IPython.core.display.HTML object>"
      ]
     },
     "metadata": {},
     "output_type": "display_data"
    },
    {
     "name": "stderr",
     "output_type": "stream",
     "text": [
      "/Users/dangl/opt/anaconda3/envs/torch-gpu/lib/python3.8/site-packages/xgboost/data.py:250: FutureWarning: pandas.Int64Index is deprecated and will be removed from pandas in a future version. Use pandas.Index with the appropriate dtype instead.\n",
      "  elif isinstance(data.columns, (pd.Int64Index, pd.RangeIndex)):\n",
      "\n",
      "/Users/dangl/opt/anaconda3/envs/torch-gpu/lib/python3.8/site-packages/xgboost/data.py:250: FutureWarning: pandas.Int64Index is deprecated and will be removed from pandas in a future version. Use pandas.Index with the appropriate dtype instead.\n",
      "  elif isinstance(data.columns, (pd.Int64Index, pd.RangeIndex)):\n",
      "\n"
     ]
    },
    {
     "name": "stdout",
     "output_type": "stream",
     "text": [
      " 37%|███▋      | 11/30 [06:36<09:11, 29.05s/trial, best loss: -0.8953652777967328]"
     ]
    },
    {
     "data": {
      "text/html": [
       "Finishing last run (ID:2xjfptu9) before initializing another..."
      ],
      "text/plain": [
       "<IPython.core.display.HTML object>"
      ]
     },
     "metadata": {},
     "output_type": "display_data"
    },
    {
     "data": {
      "text/html": [
       "Waiting for W&B process to finish... <strong style=\"color:green\">(success).</strong>"
      ],
      "text/plain": [
       "<IPython.core.display.HTML object>"
      ]
     },
     "metadata": {},
     "output_type": "display_data"
    },
    {
     "data": {
      "application/vnd.jupyter.widget-view+json": {
       "model_id": "32c92e334eb54b4bada05039c8aebae3",
       "version_major": 2,
       "version_minor": 0
      },
      "text/plain": [
       "VBox(children=(Label(value='0.001 MB of 0.001 MB uploaded (0.000 MB deduped)\\r'), FloatProgress(value=1.0, max…"
      ]
     },
     "metadata": {},
     "output_type": "display_data"
    },
    {
     "data": {
      "text/html": [
       "<style>\n",
       "    table.wandb td:nth-child(1) { padding: 0 10px; text-align: left ; width: auto;} td:nth-child(2) {text-align: left ; width: 100%}\n",
       "    .wandb-row { display: flex; flex-direction: row; flex-wrap: wrap; justify-content: flex-start; width: 100% }\n",
       "    .wandb-col { display: flex; flex-direction: column; flex-basis: 100%; flex: 1; padding: 10px; }\n",
       "    </style>\n",
       "<div class=\"wandb-row\"><div class=\"wandb-col\"><h3>Run summary:</h3><br/><table class=\"wandb\"><tr><td>Train AUC-PR</td><td>0.97203</td></tr><tr><td>Train AUC-ROC</td><td>0.97036</td></tr><tr><td>Train accuracy</td><td>0.99441</td></tr><tr><td>Val AUC-PR</td><td>0.87188</td></tr><tr><td>Val AUC-ROC</td><td>0.88074</td></tr><tr><td>Val accuracy</td><td>0.97542</td></tr></table><br/></div></div>"
      ],
      "text/plain": [
       "<IPython.core.display.HTML object>"
      ]
     },
     "metadata": {},
     "output_type": "display_data"
    },
    {
     "data": {
      "text/html": [
       "Synced <strong style=\"color:#cdcd00\">hyperopt search</strong>: <a href=\"https://wandb.ai/dangl/GOP%20HW2/runs/2xjfptu9\" target=\"_blank\">https://wandb.ai/dangl/GOP%20HW2/runs/2xjfptu9</a><br/>Synced 6 W&B file(s), 0 media file(s), 0 artifact file(s) and 0 other file(s)"
      ],
      "text/plain": [
       "<IPython.core.display.HTML object>"
      ]
     },
     "metadata": {},
     "output_type": "display_data"
    },
    {
     "data": {
      "text/html": [
       "Find logs at: <code>./wandb/run-20231229_092848-2xjfptu9/logs</code>"
      ],
      "text/plain": [
       "<IPython.core.display.HTML object>"
      ]
     },
     "metadata": {},
     "output_type": "display_data"
    },
    {
     "data": {
      "text/html": [
       "Successfully finished last run (ID:2xjfptu9). Initializing new run:<br/>"
      ],
      "text/plain": [
       "<IPython.core.display.HTML object>"
      ]
     },
     "metadata": {},
     "output_type": "display_data"
    },
    {
     "data": {
      "application/vnd.jupyter.widget-view+json": {
       "model_id": "5e2d0b9e534e44a0aa9cb1b7985fcec3",
       "version_major": 2,
       "version_minor": 0
      },
      "text/plain": [
       "VBox(children=(Label(value='Waiting for wandb.init()...\\r'), FloatProgress(value=0.016753598616681607, max=1.0…"
      ]
     },
     "metadata": {},
     "output_type": "display_data"
    },
    {
     "data": {
      "text/html": [
       "wandb version 0.16.1 is available!  To upgrade, please run:\n",
       " $ pip install wandb --upgrade"
      ],
      "text/plain": [
       "<IPython.core.display.HTML object>"
      ]
     },
     "metadata": {},
     "output_type": "display_data"
    },
    {
     "data": {
      "text/html": [
       "Tracking run with wandb version 0.13.6"
      ],
      "text/plain": [
       "<IPython.core.display.HTML object>"
      ]
     },
     "metadata": {},
     "output_type": "display_data"
    },
    {
     "data": {
      "text/html": [
       "Run data is saved locally in <code>/Users/dangl/Documents/Courses/GOP/vacancy_resume_matching/model/wandb/run-20231229_092915-19ucp9in</code>"
      ],
      "text/plain": [
       "<IPython.core.display.HTML object>"
      ]
     },
     "metadata": {},
     "output_type": "display_data"
    },
    {
     "data": {
      "text/html": [
       "Syncing run <strong><a href=\"https://wandb.ai/dangl/GOP%20HW2/runs/19ucp9in\" target=\"_blank\">hyperopt search</a></strong> to <a href=\"https://wandb.ai/dangl/GOP%20HW2\" target=\"_blank\">Weights & Biases</a> (<a href=\"https://wandb.me/run\" target=\"_blank\">docs</a>)<br/>"
      ],
      "text/plain": [
       "<IPython.core.display.HTML object>"
      ]
     },
     "metadata": {},
     "output_type": "display_data"
    },
    {
     "name": "stderr",
     "output_type": "stream",
     "text": [
      "/Users/dangl/opt/anaconda3/envs/torch-gpu/lib/python3.8/site-packages/xgboost/data.py:250: FutureWarning: pandas.Int64Index is deprecated and will be removed from pandas in a future version. Use pandas.Index with the appropriate dtype instead.\n",
      "  elif isinstance(data.columns, (pd.Int64Index, pd.RangeIndex)):\n",
      "\n",
      "/Users/dangl/opt/anaconda3/envs/torch-gpu/lib/python3.8/site-packages/xgboost/data.py:250: FutureWarning: pandas.Int64Index is deprecated and will be removed from pandas in a future version. Use pandas.Index with the appropriate dtype instead.\n",
      "  elif isinstance(data.columns, (pd.Int64Index, pd.RangeIndex)):\n",
      "\n"
     ]
    },
    {
     "name": "stdout",
     "output_type": "stream",
     "text": [
      " 40%|████      | 12/30 [06:51<07:27, 24.85s/trial, best loss: -0.8953652777967328]"
     ]
    },
    {
     "data": {
      "text/html": [
       "Finishing last run (ID:19ucp9in) before initializing another..."
      ],
      "text/plain": [
       "<IPython.core.display.HTML object>"
      ]
     },
     "metadata": {},
     "output_type": "display_data"
    },
    {
     "data": {
      "text/html": [
       "Waiting for W&B process to finish... <strong style=\"color:green\">(success).</strong>"
      ],
      "text/plain": [
       "<IPython.core.display.HTML object>"
      ]
     },
     "metadata": {},
     "output_type": "display_data"
    },
    {
     "data": {
      "text/html": [
       "<style>\n",
       "    table.wandb td:nth-child(1) { padding: 0 10px; text-align: left ; width: auto;} td:nth-child(2) {text-align: left ; width: 100%}\n",
       "    .wandb-row { display: flex; flex-direction: row; flex-wrap: wrap; justify-content: flex-start; width: 100% }\n",
       "    .wandb-col { display: flex; flex-direction: column; flex-basis: 100%; flex: 1; padding: 10px; }\n",
       "    </style>\n",
       "<div class=\"wandb-row\"><div class=\"wandb-col\"><h3>Run summary:</h3><br/><table class=\"wandb\"><tr><td>Train AUC-PR</td><td>0.54564</td></tr><tr><td>Train AUC-ROC</td><td>0.5</td></tr><tr><td>Train accuracy</td><td>0.90873</td></tr><tr><td>Val AUC-PR</td><td>0.54566</td></tr><tr><td>Val AUC-ROC</td><td>0.5</td></tr><tr><td>Val accuracy</td><td>0.90868</td></tr></table><br/></div></div>"
      ],
      "text/plain": [
       "<IPython.core.display.HTML object>"
      ]
     },
     "metadata": {},
     "output_type": "display_data"
    },
    {
     "data": {
      "text/html": [
       "Synced <strong style=\"color:#cdcd00\">hyperopt search</strong>: <a href=\"https://wandb.ai/dangl/GOP%20HW2/runs/19ucp9in\" target=\"_blank\">https://wandb.ai/dangl/GOP%20HW2/runs/19ucp9in</a><br/>Synced 6 W&B file(s), 0 media file(s), 0 artifact file(s) and 0 other file(s)"
      ],
      "text/plain": [
       "<IPython.core.display.HTML object>"
      ]
     },
     "metadata": {},
     "output_type": "display_data"
    },
    {
     "data": {
      "text/html": [
       "Find logs at: <code>./wandb/run-20231229_092915-19ucp9in/logs</code>"
      ],
      "text/plain": [
       "<IPython.core.display.HTML object>"
      ]
     },
     "metadata": {},
     "output_type": "display_data"
    },
    {
     "data": {
      "text/html": [
       "Successfully finished last run (ID:19ucp9in). Initializing new run:<br/>"
      ],
      "text/plain": [
       "<IPython.core.display.HTML object>"
      ]
     },
     "metadata": {},
     "output_type": "display_data"
    },
    {
     "data": {
      "application/vnd.jupyter.widget-view+json": {
       "model_id": "0ed6089bae454af69cf221472eb0aa68",
       "version_major": 2,
       "version_minor": 0
      },
      "text/plain": [
       "VBox(children=(Label(value='Waiting for wandb.init()...\\r'), FloatProgress(value=0.016675480566724823, max=1.0…"
      ]
     },
     "metadata": {},
     "output_type": "display_data"
    },
    {
     "data": {
      "text/html": [
       "wandb version 0.16.1 is available!  To upgrade, please run:\n",
       " $ pip install wandb --upgrade"
      ],
      "text/plain": [
       "<IPython.core.display.HTML object>"
      ]
     },
     "metadata": {},
     "output_type": "display_data"
    },
    {
     "data": {
      "text/html": [
       "Tracking run with wandb version 0.13.6"
      ],
      "text/plain": [
       "<IPython.core.display.HTML object>"
      ]
     },
     "metadata": {},
     "output_type": "display_data"
    },
    {
     "data": {
      "text/html": [
       "Run data is saved locally in <code>/Users/dangl/Documents/Courses/GOP/vacancy_resume_matching/model/wandb/run-20231229_092931-2urrpfqj</code>"
      ],
      "text/plain": [
       "<IPython.core.display.HTML object>"
      ]
     },
     "metadata": {},
     "output_type": "display_data"
    },
    {
     "data": {
      "text/html": [
       "Syncing run <strong><a href=\"https://wandb.ai/dangl/GOP%20HW2/runs/2urrpfqj\" target=\"_blank\">hyperopt search</a></strong> to <a href=\"https://wandb.ai/dangl/GOP%20HW2\" target=\"_blank\">Weights & Biases</a> (<a href=\"https://wandb.me/run\" target=\"_blank\">docs</a>)<br/>"
      ],
      "text/plain": [
       "<IPython.core.display.HTML object>"
      ]
     },
     "metadata": {},
     "output_type": "display_data"
    },
    {
     "name": "stderr",
     "output_type": "stream",
     "text": [
      "/Users/dangl/opt/anaconda3/envs/torch-gpu/lib/python3.8/site-packages/xgboost/data.py:250: FutureWarning: pandas.Int64Index is deprecated and will be removed from pandas in a future version. Use pandas.Index with the appropriate dtype instead.\n",
      "  elif isinstance(data.columns, (pd.Int64Index, pd.RangeIndex)):\n",
      "\n",
      "/Users/dangl/opt/anaconda3/envs/torch-gpu/lib/python3.8/site-packages/xgboost/data.py:250: FutureWarning: pandas.Int64Index is deprecated and will be removed from pandas in a future version. Use pandas.Index with the appropriate dtype instead.\n",
      "  elif isinstance(data.columns, (pd.Int64Index, pd.RangeIndex)):\n",
      "\n"
     ]
    },
    {
     "name": "stdout",
     "output_type": "stream",
     "text": [
      " 43%|████▎     | 13/30 [07:20<07:23, 26.08s/trial, best loss: -0.8953652777967328]"
     ]
    },
    {
     "data": {
      "text/html": [
       "Finishing last run (ID:2urrpfqj) before initializing another..."
      ],
      "text/plain": [
       "<IPython.core.display.HTML object>"
      ]
     },
     "metadata": {},
     "output_type": "display_data"
    },
    {
     "data": {
      "text/html": [
       "Waiting for W&B process to finish... <strong style=\"color:green\">(success).</strong>"
      ],
      "text/plain": [
       "<IPython.core.display.HTML object>"
      ]
     },
     "metadata": {},
     "output_type": "display_data"
    },
    {
     "data": {
      "application/vnd.jupyter.widget-view+json": {
       "model_id": "d424d4f96267493a833e05f41b587301",
       "version_major": 2,
       "version_minor": 0
      },
      "text/plain": [
       "VBox(children=(Label(value='0.001 MB of 0.016 MB uploaded (0.000 MB deduped)\\r'), FloatProgress(value=0.064563…"
      ]
     },
     "metadata": {},
     "output_type": "display_data"
    },
    {
     "data": {
      "text/html": [
       "<style>\n",
       "    table.wandb td:nth-child(1) { padding: 0 10px; text-align: left ; width: auto;} td:nth-child(2) {text-align: left ; width: 100%}\n",
       "    .wandb-row { display: flex; flex-direction: row; flex-wrap: wrap; justify-content: flex-start; width: 100% }\n",
       "    .wandb-col { display: flex; flex-direction: column; flex-basis: 100%; flex: 1; padding: 10px; }\n",
       "    </style>\n",
       "<div class=\"wandb-row\"><div class=\"wandb-col\"><h3>Run summary:</h3><br/><table class=\"wandb\"><tr><td>Train AUC-PR</td><td>0.96161</td></tr><tr><td>Train AUC-ROC</td><td>0.95965</td></tr><tr><td>Train accuracy</td><td>0.99235</td></tr><tr><td>Val AUC-PR</td><td>0.85138</td></tr><tr><td>Val AUC-ROC</td><td>0.85356</td></tr><tr><td>Val accuracy</td><td>0.97125</td></tr></table><br/></div></div>"
      ],
      "text/plain": [
       "<IPython.core.display.HTML object>"
      ]
     },
     "metadata": {},
     "output_type": "display_data"
    },
    {
     "data": {
      "text/html": [
       "Synced <strong style=\"color:#cdcd00\">hyperopt search</strong>: <a href=\"https://wandb.ai/dangl/GOP%20HW2/runs/2urrpfqj\" target=\"_blank\">https://wandb.ai/dangl/GOP%20HW2/runs/2urrpfqj</a><br/>Synced 6 W&B file(s), 0 media file(s), 0 artifact file(s) and 0 other file(s)"
      ],
      "text/plain": [
       "<IPython.core.display.HTML object>"
      ]
     },
     "metadata": {},
     "output_type": "display_data"
    },
    {
     "data": {
      "text/html": [
       "Find logs at: <code>./wandb/run-20231229_092931-2urrpfqj/logs</code>"
      ],
      "text/plain": [
       "<IPython.core.display.HTML object>"
      ]
     },
     "metadata": {},
     "output_type": "display_data"
    },
    {
     "data": {
      "text/html": [
       "Successfully finished last run (ID:2urrpfqj). Initializing new run:<br/>"
      ],
      "text/plain": [
       "<IPython.core.display.HTML object>"
      ]
     },
     "metadata": {},
     "output_type": "display_data"
    },
    {
     "data": {
      "application/vnd.jupyter.widget-view+json": {
       "model_id": "4c3bc83821ef4cd096ced0bbb710ef9b",
       "version_major": 2,
       "version_minor": 0
      },
      "text/plain": [
       "VBox(children=(Label(value='Waiting for wandb.init()...\\r'), FloatProgress(value=0.01669303679979445, max=1.0)…"
      ]
     },
     "metadata": {},
     "output_type": "display_data"
    },
    {
     "data": {
      "text/html": [
       "wandb version 0.16.1 is available!  To upgrade, please run:\n",
       " $ pip install wandb --upgrade"
      ],
      "text/plain": [
       "<IPython.core.display.HTML object>"
      ]
     },
     "metadata": {},
     "output_type": "display_data"
    },
    {
     "data": {
      "text/html": [
       "Tracking run with wandb version 0.13.6"
      ],
      "text/plain": [
       "<IPython.core.display.HTML object>"
      ]
     },
     "metadata": {},
     "output_type": "display_data"
    },
    {
     "data": {
      "text/html": [
       "Run data is saved locally in <code>/Users/dangl/Documents/Courses/GOP/vacancy_resume_matching/model/wandb/run-20231229_093000-1o2v9hlf</code>"
      ],
      "text/plain": [
       "<IPython.core.display.HTML object>"
      ]
     },
     "metadata": {},
     "output_type": "display_data"
    },
    {
     "data": {
      "text/html": [
       "Syncing run <strong><a href=\"https://wandb.ai/dangl/GOP%20HW2/runs/1o2v9hlf\" target=\"_blank\">hyperopt search</a></strong> to <a href=\"https://wandb.ai/dangl/GOP%20HW2\" target=\"_blank\">Weights & Biases</a> (<a href=\"https://wandb.me/run\" target=\"_blank\">docs</a>)<br/>"
      ],
      "text/plain": [
       "<IPython.core.display.HTML object>"
      ]
     },
     "metadata": {},
     "output_type": "display_data"
    },
    {
     "name": "stderr",
     "output_type": "stream",
     "text": [
      "/Users/dangl/opt/anaconda3/envs/torch-gpu/lib/python3.8/site-packages/xgboost/data.py:250: FutureWarning: pandas.Int64Index is deprecated and will be removed from pandas in a future version. Use pandas.Index with the appropriate dtype instead.\n",
      "  elif isinstance(data.columns, (pd.Int64Index, pd.RangeIndex)):\n",
      "\n",
      "/Users/dangl/opt/anaconda3/envs/torch-gpu/lib/python3.8/site-packages/xgboost/data.py:250: FutureWarning: pandas.Int64Index is deprecated and will be removed from pandas in a future version. Use pandas.Index with the appropriate dtype instead.\n",
      "  elif isinstance(data.columns, (pd.Int64Index, pd.RangeIndex)):\n",
      "\n"
     ]
    },
    {
     "name": "stdout",
     "output_type": "stream",
     "text": [
      " 47%|████▋     | 14/30 [07:45<06:50, 25.68s/trial, best loss: -0.8953652777967328]"
     ]
    },
    {
     "data": {
      "text/html": [
       "Finishing last run (ID:1o2v9hlf) before initializing another..."
      ],
      "text/plain": [
       "<IPython.core.display.HTML object>"
      ]
     },
     "metadata": {},
     "output_type": "display_data"
    },
    {
     "data": {
      "text/html": [
       "Waiting for W&B process to finish... <strong style=\"color:green\">(success).</strong>"
      ],
      "text/plain": [
       "<IPython.core.display.HTML object>"
      ]
     },
     "metadata": {},
     "output_type": "display_data"
    },
    {
     "data": {
      "text/html": [
       "<style>\n",
       "    table.wandb td:nth-child(1) { padding: 0 10px; text-align: left ; width: auto;} td:nth-child(2) {text-align: left ; width: 100%}\n",
       "    .wandb-row { display: flex; flex-direction: row; flex-wrap: wrap; justify-content: flex-start; width: 100% }\n",
       "    .wandb-col { display: flex; flex-direction: column; flex-basis: 100%; flex: 1; padding: 10px; }\n",
       "    </style>\n",
       "<div class=\"wandb-row\"><div class=\"wandb-col\"><h3>Run summary:</h3><br/><table class=\"wandb\"><tr><td>Train AUC-PR</td><td>0.94229</td></tr><tr><td>Train AUC-ROC</td><td>0.94264</td></tr><tr><td>Train accuracy</td><td>0.98863</td></tr><tr><td>Val AUC-PR</td><td>0.85024</td></tr><tr><td>Val AUC-ROC</td><td>0.86573</td></tr><tr><td>Val accuracy</td><td>0.97163</td></tr></table><br/></div></div>"
      ],
      "text/plain": [
       "<IPython.core.display.HTML object>"
      ]
     },
     "metadata": {},
     "output_type": "display_data"
    },
    {
     "data": {
      "text/html": [
       "Synced <strong style=\"color:#cdcd00\">hyperopt search</strong>: <a href=\"https://wandb.ai/dangl/GOP%20HW2/runs/1o2v9hlf\" target=\"_blank\">https://wandb.ai/dangl/GOP%20HW2/runs/1o2v9hlf</a><br/>Synced 6 W&B file(s), 0 media file(s), 0 artifact file(s) and 0 other file(s)"
      ],
      "text/plain": [
       "<IPython.core.display.HTML object>"
      ]
     },
     "metadata": {},
     "output_type": "display_data"
    },
    {
     "data": {
      "text/html": [
       "Find logs at: <code>./wandb/run-20231229_093000-1o2v9hlf/logs</code>"
      ],
      "text/plain": [
       "<IPython.core.display.HTML object>"
      ]
     },
     "metadata": {},
     "output_type": "display_data"
    },
    {
     "data": {
      "text/html": [
       "Successfully finished last run (ID:1o2v9hlf). Initializing new run:<br/>"
      ],
      "text/plain": [
       "<IPython.core.display.HTML object>"
      ]
     },
     "metadata": {},
     "output_type": "display_data"
    },
    {
     "data": {
      "application/vnd.jupyter.widget-view+json": {
       "model_id": "5511d2e93ef14300b2506c4c2f43feda",
       "version_major": 2,
       "version_minor": 0
      },
      "text/plain": [
       "VBox(children=(Label(value='Waiting for wandb.init()...\\r'), FloatProgress(value=0.016683350000190937, max=1.0…"
      ]
     },
     "metadata": {},
     "output_type": "display_data"
    },
    {
     "data": {
      "text/html": [
       "wandb version 0.16.1 is available!  To upgrade, please run:\n",
       " $ pip install wandb --upgrade"
      ],
      "text/plain": [
       "<IPython.core.display.HTML object>"
      ]
     },
     "metadata": {},
     "output_type": "display_data"
    },
    {
     "data": {
      "text/html": [
       "Tracking run with wandb version 0.13.6"
      ],
      "text/plain": [
       "<IPython.core.display.HTML object>"
      ]
     },
     "metadata": {},
     "output_type": "display_data"
    },
    {
     "data": {
      "text/html": [
       "Run data is saved locally in <code>/Users/dangl/Documents/Courses/GOP/vacancy_resume_matching/model/wandb/run-20231229_093024-10s85li9</code>"
      ],
      "text/plain": [
       "<IPython.core.display.HTML object>"
      ]
     },
     "metadata": {},
     "output_type": "display_data"
    },
    {
     "data": {
      "text/html": [
       "Syncing run <strong><a href=\"https://wandb.ai/dangl/GOP%20HW2/runs/10s85li9\" target=\"_blank\">hyperopt search</a></strong> to <a href=\"https://wandb.ai/dangl/GOP%20HW2\" target=\"_blank\">Weights & Biases</a> (<a href=\"https://wandb.me/run\" target=\"_blank\">docs</a>)<br/>"
      ],
      "text/plain": [
       "<IPython.core.display.HTML object>"
      ]
     },
     "metadata": {},
     "output_type": "display_data"
    },
    {
     "name": "stderr",
     "output_type": "stream",
     "text": [
      "/Users/dangl/opt/anaconda3/envs/torch-gpu/lib/python3.8/site-packages/xgboost/data.py:250: FutureWarning: pandas.Int64Index is deprecated and will be removed from pandas in a future version. Use pandas.Index with the appropriate dtype instead.\n",
      "  elif isinstance(data.columns, (pd.Int64Index, pd.RangeIndex)):\n",
      "\n",
      "/Users/dangl/opt/anaconda3/envs/torch-gpu/lib/python3.8/site-packages/xgboost/data.py:250: FutureWarning: pandas.Int64Index is deprecated and will be removed from pandas in a future version. Use pandas.Index with the appropriate dtype instead.\n",
      "  elif isinstance(data.columns, (pd.Int64Index, pd.RangeIndex)):\n",
      "\n"
     ]
    },
    {
     "name": "stdout",
     "output_type": "stream",
     "text": [
      " 50%|█████     | 15/30 [08:14<06:41, 26.74s/trial, best loss: -0.8953652777967328]"
     ]
    },
    {
     "data": {
      "text/html": [
       "Finishing last run (ID:10s85li9) before initializing another..."
      ],
      "text/plain": [
       "<IPython.core.display.HTML object>"
      ]
     },
     "metadata": {},
     "output_type": "display_data"
    },
    {
     "data": {
      "text/html": [
       "Waiting for W&B process to finish... <strong style=\"color:green\">(success).</strong>"
      ],
      "text/plain": [
       "<IPython.core.display.HTML object>"
      ]
     },
     "metadata": {},
     "output_type": "display_data"
    },
    {
     "data": {
      "application/vnd.jupyter.widget-view+json": {
       "model_id": "98695f0a103a47c3a7415c305e624049",
       "version_major": 2,
       "version_minor": 0
      },
      "text/plain": [
       "VBox(children=(Label(value='0.001 MB of 0.001 MB uploaded (0.000 MB deduped)\\r'), FloatProgress(value=1.0, max…"
      ]
     },
     "metadata": {},
     "output_type": "display_data"
    },
    {
     "data": {
      "text/html": [
       "<style>\n",
       "    table.wandb td:nth-child(1) { padding: 0 10px; text-align: left ; width: auto;} td:nth-child(2) {text-align: left ; width: 100%}\n",
       "    .wandb-row { display: flex; flex-direction: row; flex-wrap: wrap; justify-content: flex-start; width: 100% }\n",
       "    .wandb-col { display: flex; flex-direction: column; flex-basis: 100%; flex: 1; padding: 10px; }\n",
       "    </style>\n",
       "<div class=\"wandb-row\"><div class=\"wandb-col\"><h3>Run summary:</h3><br/><table class=\"wandb\"><tr><td>Train AUC-PR</td><td>0.88545</td></tr><tr><td>Train AUC-ROC</td><td>0.88818</td></tr><tr><td>Train accuracy</td><td>0.97775</td></tr><tr><td>Val AUC-PR</td><td>0.83724</td></tr><tr><td>Val AUC-ROC</td><td>0.84754</td></tr><tr><td>Val accuracy</td><td>0.96901</td></tr></table><br/></div></div>"
      ],
      "text/plain": [
       "<IPython.core.display.HTML object>"
      ]
     },
     "metadata": {},
     "output_type": "display_data"
    },
    {
     "data": {
      "text/html": [
       "Synced <strong style=\"color:#cdcd00\">hyperopt search</strong>: <a href=\"https://wandb.ai/dangl/GOP%20HW2/runs/10s85li9\" target=\"_blank\">https://wandb.ai/dangl/GOP%20HW2/runs/10s85li9</a><br/>Synced 6 W&B file(s), 0 media file(s), 0 artifact file(s) and 0 other file(s)"
      ],
      "text/plain": [
       "<IPython.core.display.HTML object>"
      ]
     },
     "metadata": {},
     "output_type": "display_data"
    },
    {
     "data": {
      "text/html": [
       "Find logs at: <code>./wandb/run-20231229_093024-10s85li9/logs</code>"
      ],
      "text/plain": [
       "<IPython.core.display.HTML object>"
      ]
     },
     "metadata": {},
     "output_type": "display_data"
    },
    {
     "data": {
      "text/html": [
       "Successfully finished last run (ID:10s85li9). Initializing new run:<br/>"
      ],
      "text/plain": [
       "<IPython.core.display.HTML object>"
      ]
     },
     "metadata": {},
     "output_type": "display_data"
    },
    {
     "data": {
      "application/vnd.jupyter.widget-view+json": {
       "model_id": "b9478b85e6d84cca8b5414813da20552",
       "version_major": 2,
       "version_minor": 0
      },
      "text/plain": [
       "VBox(children=(Label(value='Waiting for wandb.init()...\\r'), FloatProgress(value=0.016740406933240592, max=1.0…"
      ]
     },
     "metadata": {},
     "output_type": "display_data"
    },
    {
     "data": {
      "text/html": [
       "wandb version 0.16.1 is available!  To upgrade, please run:\n",
       " $ pip install wandb --upgrade"
      ],
      "text/plain": [
       "<IPython.core.display.HTML object>"
      ]
     },
     "metadata": {},
     "output_type": "display_data"
    },
    {
     "data": {
      "text/html": [
       "Tracking run with wandb version 0.13.6"
      ],
      "text/plain": [
       "<IPython.core.display.HTML object>"
      ]
     },
     "metadata": {},
     "output_type": "display_data"
    },
    {
     "data": {
      "text/html": [
       "Run data is saved locally in <code>/Users/dangl/Documents/Courses/GOP/vacancy_resume_matching/model/wandb/run-20231229_093053-1h927vb3</code>"
      ],
      "text/plain": [
       "<IPython.core.display.HTML object>"
      ]
     },
     "metadata": {},
     "output_type": "display_data"
    },
    {
     "data": {
      "text/html": [
       "Syncing run <strong><a href=\"https://wandb.ai/dangl/GOP%20HW2/runs/1h927vb3\" target=\"_blank\">hyperopt search</a></strong> to <a href=\"https://wandb.ai/dangl/GOP%20HW2\" target=\"_blank\">Weights & Biases</a> (<a href=\"https://wandb.me/run\" target=\"_blank\">docs</a>)<br/>"
      ],
      "text/plain": [
       "<IPython.core.display.HTML object>"
      ]
     },
     "metadata": {},
     "output_type": "display_data"
    },
    {
     "name": "stderr",
     "output_type": "stream",
     "text": [
      "/Users/dangl/opt/anaconda3/envs/torch-gpu/lib/python3.8/site-packages/xgboost/data.py:250: FutureWarning: pandas.Int64Index is deprecated and will be removed from pandas in a future version. Use pandas.Index with the appropriate dtype instead.\n",
      "  elif isinstance(data.columns, (pd.Int64Index, pd.RangeIndex)):\n",
      "\n",
      "/Users/dangl/opt/anaconda3/envs/torch-gpu/lib/python3.8/site-packages/xgboost/data.py:250: FutureWarning: pandas.Int64Index is deprecated and will be removed from pandas in a future version. Use pandas.Index with the appropriate dtype instead.\n",
      "  elif isinstance(data.columns, (pd.Int64Index, pd.RangeIndex)):\n",
      "\n"
     ]
    },
    {
     "name": "stdout",
     "output_type": "stream",
     "text": [
      " 53%|█████▎    | 16/30 [08:44<06:26, 27.60s/trial, best loss: -0.8953652777967328]"
     ]
    },
    {
     "data": {
      "text/html": [
       "Finishing last run (ID:1h927vb3) before initializing another..."
      ],
      "text/plain": [
       "<IPython.core.display.HTML object>"
      ]
     },
     "metadata": {},
     "output_type": "display_data"
    },
    {
     "data": {
      "text/html": [
       "Waiting for W&B process to finish... <strong style=\"color:green\">(success).</strong>"
      ],
      "text/plain": [
       "<IPython.core.display.HTML object>"
      ]
     },
     "metadata": {},
     "output_type": "display_data"
    },
    {
     "data": {
      "application/vnd.jupyter.widget-view+json": {
       "model_id": "4139b2ea0df64e1aaaa66761e8e28615",
       "version_major": 2,
       "version_minor": 0
      },
      "text/plain": [
       "VBox(children=(Label(value='0.001 MB of 0.001 MB uploaded (0.000 MB deduped)\\r'), FloatProgress(value=1.0, max…"
      ]
     },
     "metadata": {},
     "output_type": "display_data"
    },
    {
     "data": {
      "text/html": [
       "<style>\n",
       "    table.wandb td:nth-child(1) { padding: 0 10px; text-align: left ; width: auto;} td:nth-child(2) {text-align: left ; width: 100%}\n",
       "    .wandb-row { display: flex; flex-direction: row; flex-wrap: wrap; justify-content: flex-start; width: 100% }\n",
       "    .wandb-col { display: flex; flex-direction: column; flex-basis: 100%; flex: 1; padding: 10px; }\n",
       "    </style>\n",
       "<div class=\"wandb-row\"><div class=\"wandb-col\"><h3>Run summary:</h3><br/><table class=\"wandb\"><tr><td>Train AUC-PR</td><td>0.83296</td></tr><tr><td>Train AUC-ROC</td><td>0.82936</td></tr><tr><td>Train accuracy</td><td>0.96743</td></tr><tr><td>Val AUC-PR</td><td>0.76952</td></tr><tr><td>Val AUC-ROC</td><td>0.77398</td></tr><tr><td>Val accuracy</td><td>0.95619</td></tr></table><br/></div></div>"
      ],
      "text/plain": [
       "<IPython.core.display.HTML object>"
      ]
     },
     "metadata": {},
     "output_type": "display_data"
    },
    {
     "data": {
      "text/html": [
       "Synced <strong style=\"color:#cdcd00\">hyperopt search</strong>: <a href=\"https://wandb.ai/dangl/GOP%20HW2/runs/1h927vb3\" target=\"_blank\">https://wandb.ai/dangl/GOP%20HW2/runs/1h927vb3</a><br/>Synced 6 W&B file(s), 0 media file(s), 0 artifact file(s) and 0 other file(s)"
      ],
      "text/plain": [
       "<IPython.core.display.HTML object>"
      ]
     },
     "metadata": {},
     "output_type": "display_data"
    },
    {
     "data": {
      "text/html": [
       "Find logs at: <code>./wandb/run-20231229_093053-1h927vb3/logs</code>"
      ],
      "text/plain": [
       "<IPython.core.display.HTML object>"
      ]
     },
     "metadata": {},
     "output_type": "display_data"
    },
    {
     "data": {
      "text/html": [
       "Successfully finished last run (ID:1h927vb3). Initializing new run:<br/>"
      ],
      "text/plain": [
       "<IPython.core.display.HTML object>"
      ]
     },
     "metadata": {},
     "output_type": "display_data"
    },
    {
     "data": {
      "application/vnd.jupyter.widget-view+json": {
       "model_id": "09a1d4e476f844058ccfa8c8dd72e0bd",
       "version_major": 2,
       "version_minor": 0
      },
      "text/plain": [
       "VBox(children=(Label(value='Waiting for wandb.init()...\\r'), FloatProgress(value=0.016692356249889902, max=1.0…"
      ]
     },
     "metadata": {},
     "output_type": "display_data"
    },
    {
     "data": {
      "text/html": [
       "wandb version 0.16.1 is available!  To upgrade, please run:\n",
       " $ pip install wandb --upgrade"
      ],
      "text/plain": [
       "<IPython.core.display.HTML object>"
      ]
     },
     "metadata": {},
     "output_type": "display_data"
    },
    {
     "data": {
      "text/html": [
       "Tracking run with wandb version 0.13.6"
      ],
      "text/plain": [
       "<IPython.core.display.HTML object>"
      ]
     },
     "metadata": {},
     "output_type": "display_data"
    },
    {
     "data": {
      "text/html": [
       "Run data is saved locally in <code>/Users/dangl/Documents/Courses/GOP/vacancy_resume_matching/model/wandb/run-20231229_093123-2zempw3l</code>"
      ],
      "text/plain": [
       "<IPython.core.display.HTML object>"
      ]
     },
     "metadata": {},
     "output_type": "display_data"
    },
    {
     "data": {
      "text/html": [
       "Syncing run <strong><a href=\"https://wandb.ai/dangl/GOP%20HW2/runs/2zempw3l\" target=\"_blank\">hyperopt search</a></strong> to <a href=\"https://wandb.ai/dangl/GOP%20HW2\" target=\"_blank\">Weights & Biases</a> (<a href=\"https://wandb.me/run\" target=\"_blank\">docs</a>)<br/>"
      ],
      "text/plain": [
       "<IPython.core.display.HTML object>"
      ]
     },
     "metadata": {},
     "output_type": "display_data"
    },
    {
     "name": "stderr",
     "output_type": "stream",
     "text": [
      "/Users/dangl/opt/anaconda3/envs/torch-gpu/lib/python3.8/site-packages/xgboost/data.py:250: FutureWarning: pandas.Int64Index is deprecated and will be removed from pandas in a future version. Use pandas.Index with the appropriate dtype instead.\n",
      "  elif isinstance(data.columns, (pd.Int64Index, pd.RangeIndex)):\n",
      "\n",
      "/Users/dangl/opt/anaconda3/envs/torch-gpu/lib/python3.8/site-packages/xgboost/data.py:250: FutureWarning: pandas.Int64Index is deprecated and will be removed from pandas in a future version. Use pandas.Index with the appropriate dtype instead.\n",
      "  elif isinstance(data.columns, (pd.Int64Index, pd.RangeIndex)):\n",
      "\n"
     ]
    },
    {
     "name": "stdout",
     "output_type": "stream",
     "text": [
      " 57%|█████▋    | 17/30 [09:23<06:45, 31.17s/trial, best loss: -0.8953652777967328]"
     ]
    },
    {
     "data": {
      "text/html": [
       "Finishing last run (ID:2zempw3l) before initializing another..."
      ],
      "text/plain": [
       "<IPython.core.display.HTML object>"
      ]
     },
     "metadata": {},
     "output_type": "display_data"
    },
    {
     "data": {
      "text/html": [
       "Waiting for W&B process to finish... <strong style=\"color:green\">(success).</strong>"
      ],
      "text/plain": [
       "<IPython.core.display.HTML object>"
      ]
     },
     "metadata": {},
     "output_type": "display_data"
    },
    {
     "data": {
      "application/vnd.jupyter.widget-view+json": {
       "model_id": "02b623e6498e42bd83a6bc244bb2664d",
       "version_major": 2,
       "version_minor": 0
      },
      "text/plain": [
       "VBox(children=(Label(value='0.001 MB of 0.001 MB uploaded (0.000 MB deduped)\\r'), FloatProgress(value=1.0, max…"
      ]
     },
     "metadata": {},
     "output_type": "display_data"
    },
    {
     "data": {
      "text/html": [
       "<style>\n",
       "    table.wandb td:nth-child(1) { padding: 0 10px; text-align: left ; width: auto;} td:nth-child(2) {text-align: left ; width: 100%}\n",
       "    .wandb-row { display: flex; flex-direction: row; flex-wrap: wrap; justify-content: flex-start; width: 100% }\n",
       "    .wandb-col { display: flex; flex-direction: column; flex-basis: 100%; flex: 1; padding: 10px; }\n",
       "    </style>\n",
       "<div class=\"wandb-row\"><div class=\"wandb-col\"><h3>Run summary:</h3><br/><table class=\"wandb\"><tr><td>Train AUC-PR</td><td>0.99792</td></tr><tr><td>Train AUC-ROC</td><td>0.99798</td></tr><tr><td>Train accuracy</td><td>0.99959</td></tr><tr><td>Val AUC-PR</td><td>0.88982</td></tr><tr><td>Val AUC-ROC</td><td>0.89154</td></tr><tr><td>Val accuracy</td><td>0.97853</td></tr></table><br/></div></div>"
      ],
      "text/plain": [
       "<IPython.core.display.HTML object>"
      ]
     },
     "metadata": {},
     "output_type": "display_data"
    },
    {
     "data": {
      "text/html": [
       "Synced <strong style=\"color:#cdcd00\">hyperopt search</strong>: <a href=\"https://wandb.ai/dangl/GOP%20HW2/runs/2zempw3l\" target=\"_blank\">https://wandb.ai/dangl/GOP%20HW2/runs/2zempw3l</a><br/>Synced 6 W&B file(s), 0 media file(s), 0 artifact file(s) and 0 other file(s)"
      ],
      "text/plain": [
       "<IPython.core.display.HTML object>"
      ]
     },
     "metadata": {},
     "output_type": "display_data"
    },
    {
     "data": {
      "text/html": [
       "Find logs at: <code>./wandb/run-20231229_093123-2zempw3l/logs</code>"
      ],
      "text/plain": [
       "<IPython.core.display.HTML object>"
      ]
     },
     "metadata": {},
     "output_type": "display_data"
    },
    {
     "data": {
      "text/html": [
       "Successfully finished last run (ID:2zempw3l). Initializing new run:<br/>"
      ],
      "text/plain": [
       "<IPython.core.display.HTML object>"
      ]
     },
     "metadata": {},
     "output_type": "display_data"
    },
    {
     "data": {
      "application/vnd.jupyter.widget-view+json": {
       "model_id": "0bf1d714af454c2cad404b8178d543ec",
       "version_major": 2,
       "version_minor": 0
      },
      "text/plain": [
       "VBox(children=(Label(value='Waiting for wandb.init()...\\r'), FloatProgress(value=0.016716578466487893, max=1.0…"
      ]
     },
     "metadata": {},
     "output_type": "display_data"
    },
    {
     "data": {
      "text/html": [
       "wandb version 0.16.1 is available!  To upgrade, please run:\n",
       " $ pip install wandb --upgrade"
      ],
      "text/plain": [
       "<IPython.core.display.HTML object>"
      ]
     },
     "metadata": {},
     "output_type": "display_data"
    },
    {
     "data": {
      "text/html": [
       "Tracking run with wandb version 0.13.6"
      ],
      "text/plain": [
       "<IPython.core.display.HTML object>"
      ]
     },
     "metadata": {},
     "output_type": "display_data"
    },
    {
     "data": {
      "text/html": [
       "Run data is saved locally in <code>/Users/dangl/Documents/Courses/GOP/vacancy_resume_matching/model/wandb/run-20231229_093203-28obcwef</code>"
      ],
      "text/plain": [
       "<IPython.core.display.HTML object>"
      ]
     },
     "metadata": {},
     "output_type": "display_data"
    },
    {
     "data": {
      "text/html": [
       "Syncing run <strong><a href=\"https://wandb.ai/dangl/GOP%20HW2/runs/28obcwef\" target=\"_blank\">hyperopt search</a></strong> to <a href=\"https://wandb.ai/dangl/GOP%20HW2\" target=\"_blank\">Weights & Biases</a> (<a href=\"https://wandb.me/run\" target=\"_blank\">docs</a>)<br/>"
      ],
      "text/plain": [
       "<IPython.core.display.HTML object>"
      ]
     },
     "metadata": {},
     "output_type": "display_data"
    },
    {
     "name": "stderr",
     "output_type": "stream",
     "text": [
      "/Users/dangl/opt/anaconda3/envs/torch-gpu/lib/python3.8/site-packages/xgboost/data.py:250: FutureWarning: pandas.Int64Index is deprecated and will be removed from pandas in a future version. Use pandas.Index with the appropriate dtype instead.\n",
      "  elif isinstance(data.columns, (pd.Int64Index, pd.RangeIndex)):\n",
      "\n",
      "/Users/dangl/opt/anaconda3/envs/torch-gpu/lib/python3.8/site-packages/xgboost/data.py:250: FutureWarning: pandas.Int64Index is deprecated and will be removed from pandas in a future version. Use pandas.Index with the appropriate dtype instead.\n",
      "  elif isinstance(data.columns, (pd.Int64Index, pd.RangeIndex)):\n",
      "\n"
     ]
    },
    {
     "name": "stdout",
     "output_type": "stream",
     "text": [
      " 60%|██████    | 18/30 [09:56<06:19, 31.60s/trial, best loss: -0.8953652777967328]"
     ]
    },
    {
     "data": {
      "text/html": [
       "Finishing last run (ID:28obcwef) before initializing another..."
      ],
      "text/plain": [
       "<IPython.core.display.HTML object>"
      ]
     },
     "metadata": {},
     "output_type": "display_data"
    },
    {
     "data": {
      "text/html": [
       "Waiting for W&B process to finish... <strong style=\"color:green\">(success).</strong>"
      ],
      "text/plain": [
       "<IPython.core.display.HTML object>"
      ]
     },
     "metadata": {},
     "output_type": "display_data"
    },
    {
     "data": {
      "application/vnd.jupyter.widget-view+json": {
       "model_id": "47b346160a934fe9a411e5f7679055b3",
       "version_major": 2,
       "version_minor": 0
      },
      "text/plain": [
       "VBox(children=(Label(value='0.001 MB of 0.001 MB uploaded (0.000 MB deduped)\\r'), FloatProgress(value=1.0, max…"
      ]
     },
     "metadata": {},
     "output_type": "display_data"
    },
    {
     "data": {
      "text/html": [
       "<style>\n",
       "    table.wandb td:nth-child(1) { padding: 0 10px; text-align: left ; width: auto;} td:nth-child(2) {text-align: left ; width: 100%}\n",
       "    .wandb-row { display: flex; flex-direction: row; flex-wrap: wrap; justify-content: flex-start; width: 100% }\n",
       "    .wandb-col { display: flex; flex-direction: column; flex-basis: 100%; flex: 1; padding: 10px; }\n",
       "    </style>\n",
       "<div class=\"wandb-row\"><div class=\"wandb-col\"><h3>Run summary:</h3><br/><table class=\"wandb\"><tr><td>Train AUC-PR</td><td>0.98109</td></tr><tr><td>Train AUC-ROC</td><td>0.9796</td></tr><tr><td>Train accuracy</td><td>0.99621</td></tr><tr><td>Val AUC-PR</td><td>0.88159</td></tr><tr><td>Val AUC-ROC</td><td>0.89084</td></tr><tr><td>Val accuracy</td><td>0.97727</td></tr></table><br/></div></div>"
      ],
      "text/plain": [
       "<IPython.core.display.HTML object>"
      ]
     },
     "metadata": {},
     "output_type": "display_data"
    },
    {
     "data": {
      "text/html": [
       "Synced <strong style=\"color:#cdcd00\">hyperopt search</strong>: <a href=\"https://wandb.ai/dangl/GOP%20HW2/runs/28obcwef\" target=\"_blank\">https://wandb.ai/dangl/GOP%20HW2/runs/28obcwef</a><br/>Synced 6 W&B file(s), 0 media file(s), 0 artifact file(s) and 0 other file(s)"
      ],
      "text/plain": [
       "<IPython.core.display.HTML object>"
      ]
     },
     "metadata": {},
     "output_type": "display_data"
    },
    {
     "data": {
      "text/html": [
       "Find logs at: <code>./wandb/run-20231229_093203-28obcwef/logs</code>"
      ],
      "text/plain": [
       "<IPython.core.display.HTML object>"
      ]
     },
     "metadata": {},
     "output_type": "display_data"
    },
    {
     "data": {
      "text/html": [
       "Successfully finished last run (ID:28obcwef). Initializing new run:<br/>"
      ],
      "text/plain": [
       "<IPython.core.display.HTML object>"
      ]
     },
     "metadata": {},
     "output_type": "display_data"
    },
    {
     "data": {
      "application/vnd.jupyter.widget-view+json": {
       "model_id": "a7bb61da624c4a06a61fb5a525af1702",
       "version_major": 2,
       "version_minor": 0
      },
      "text/plain": [
       "VBox(children=(Label(value='Waiting for wandb.init()...\\r'), FloatProgress(value=0.01671769375000925, max=1.0)…"
      ]
     },
     "metadata": {},
     "output_type": "display_data"
    },
    {
     "data": {
      "text/html": [
       "wandb version 0.16.1 is available!  To upgrade, please run:\n",
       " $ pip install wandb --upgrade"
      ],
      "text/plain": [
       "<IPython.core.display.HTML object>"
      ]
     },
     "metadata": {},
     "output_type": "display_data"
    },
    {
     "data": {
      "text/html": [
       "Tracking run with wandb version 0.13.6"
      ],
      "text/plain": [
       "<IPython.core.display.HTML object>"
      ]
     },
     "metadata": {},
     "output_type": "display_data"
    },
    {
     "data": {
      "text/html": [
       "Run data is saved locally in <code>/Users/dangl/Documents/Courses/GOP/vacancy_resume_matching/model/wandb/run-20231229_093235-2wji11io</code>"
      ],
      "text/plain": [
       "<IPython.core.display.HTML object>"
      ]
     },
     "metadata": {},
     "output_type": "display_data"
    },
    {
     "data": {
      "text/html": [
       "Syncing run <strong><a href=\"https://wandb.ai/dangl/GOP%20HW2/runs/2wji11io\" target=\"_blank\">hyperopt search</a></strong> to <a href=\"https://wandb.ai/dangl/GOP%20HW2\" target=\"_blank\">Weights & Biases</a> (<a href=\"https://wandb.me/run\" target=\"_blank\">docs</a>)<br/>"
      ],
      "text/plain": [
       "<IPython.core.display.HTML object>"
      ]
     },
     "metadata": {},
     "output_type": "display_data"
    },
    {
     "name": "stderr",
     "output_type": "stream",
     "text": [
      "/Users/dangl/opt/anaconda3/envs/torch-gpu/lib/python3.8/site-packages/xgboost/data.py:250: FutureWarning: pandas.Int64Index is deprecated and will be removed from pandas in a future version. Use pandas.Index with the appropriate dtype instead.\n",
      "  elif isinstance(data.columns, (pd.Int64Index, pd.RangeIndex)):\n",
      "\n",
      "/Users/dangl/opt/anaconda3/envs/torch-gpu/lib/python3.8/site-packages/xgboost/data.py:250: FutureWarning: pandas.Int64Index is deprecated and will be removed from pandas in a future version. Use pandas.Index with the appropriate dtype instead.\n",
      "  elif isinstance(data.columns, (pd.Int64Index, pd.RangeIndex)):\n",
      "\n"
     ]
    },
    {
     "name": "stdout",
     "output_type": "stream",
     "text": [
      " 63%|██████▎   | 19/30 [10:20<05:21, 29.26s/trial, best loss: -0.8953652777967328]"
     ]
    },
    {
     "data": {
      "text/html": [
       "Finishing last run (ID:2wji11io) before initializing another..."
      ],
      "text/plain": [
       "<IPython.core.display.HTML object>"
      ]
     },
     "metadata": {},
     "output_type": "display_data"
    },
    {
     "data": {
      "text/html": [
       "Waiting for W&B process to finish... <strong style=\"color:green\">(success).</strong>"
      ],
      "text/plain": [
       "<IPython.core.display.HTML object>"
      ]
     },
     "metadata": {},
     "output_type": "display_data"
    },
    {
     "data": {
      "application/vnd.jupyter.widget-view+json": {
       "model_id": "af3a4f0aa9e647998acdf9ee2fac0303",
       "version_major": 2,
       "version_minor": 0
      },
      "text/plain": [
       "VBox(children=(Label(value='0.001 MB of 0.001 MB uploaded (0.000 MB deduped)\\r'), FloatProgress(value=1.0, max…"
      ]
     },
     "metadata": {},
     "output_type": "display_data"
    },
    {
     "data": {
      "text/html": [
       "<style>\n",
       "    table.wandb td:nth-child(1) { padding: 0 10px; text-align: left ; width: auto;} td:nth-child(2) {text-align: left ; width: 100%}\n",
       "    .wandb-row { display: flex; flex-direction: row; flex-wrap: wrap; justify-content: flex-start; width: 100% }\n",
       "    .wandb-col { display: flex; flex-direction: column; flex-basis: 100%; flex: 1; padding: 10px; }\n",
       "    </style>\n",
       "<div class=\"wandb-row\"><div class=\"wandb-col\"><h3>Run summary:</h3><br/><table class=\"wandb\"><tr><td>Train AUC-PR</td><td>0.84771</td></tr><tr><td>Train AUC-ROC</td><td>0.84604</td></tr><tr><td>Train accuracy</td><td>0.97034</td></tr><tr><td>Val AUC-PR</td><td>0.77717</td></tr><tr><td>Val AUC-ROC</td><td>0.78244</td></tr><tr><td>Val accuracy</td><td>0.95765</td></tr></table><br/></div></div>"
      ],
      "text/plain": [
       "<IPython.core.display.HTML object>"
      ]
     },
     "metadata": {},
     "output_type": "display_data"
    },
    {
     "data": {
      "text/html": [
       "Synced <strong style=\"color:#cdcd00\">hyperopt search</strong>: <a href=\"https://wandb.ai/dangl/GOP%20HW2/runs/2wji11io\" target=\"_blank\">https://wandb.ai/dangl/GOP%20HW2/runs/2wji11io</a><br/>Synced 6 W&B file(s), 0 media file(s), 0 artifact file(s) and 0 other file(s)"
      ],
      "text/plain": [
       "<IPython.core.display.HTML object>"
      ]
     },
     "metadata": {},
     "output_type": "display_data"
    },
    {
     "data": {
      "text/html": [
       "Find logs at: <code>./wandb/run-20231229_093235-2wji11io/logs</code>"
      ],
      "text/plain": [
       "<IPython.core.display.HTML object>"
      ]
     },
     "metadata": {},
     "output_type": "display_data"
    },
    {
     "data": {
      "text/html": [
       "Successfully finished last run (ID:2wji11io). Initializing new run:<br/>"
      ],
      "text/plain": [
       "<IPython.core.display.HTML object>"
      ]
     },
     "metadata": {},
     "output_type": "display_data"
    },
    {
     "data": {
      "application/vnd.jupyter.widget-view+json": {
       "model_id": "3c0d6526bb4d4e11a54a7d99cdad4794",
       "version_major": 2,
       "version_minor": 0
      },
      "text/plain": [
       "VBox(children=(Label(value='Waiting for wandb.init()...\\r'), FloatProgress(value=0.016681765283525843, max=1.0…"
      ]
     },
     "metadata": {},
     "output_type": "display_data"
    },
    {
     "data": {
      "text/html": [
       "wandb version 0.16.1 is available!  To upgrade, please run:\n",
       " $ pip install wandb --upgrade"
      ],
      "text/plain": [
       "<IPython.core.display.HTML object>"
      ]
     },
     "metadata": {},
     "output_type": "display_data"
    },
    {
     "data": {
      "text/html": [
       "Tracking run with wandb version 0.13.6"
      ],
      "text/plain": [
       "<IPython.core.display.HTML object>"
      ]
     },
     "metadata": {},
     "output_type": "display_data"
    },
    {
     "data": {
      "text/html": [
       "Run data is saved locally in <code>/Users/dangl/Documents/Courses/GOP/vacancy_resume_matching/model/wandb/run-20231229_093259-2q0suv37</code>"
      ],
      "text/plain": [
       "<IPython.core.display.HTML object>"
      ]
     },
     "metadata": {},
     "output_type": "display_data"
    },
    {
     "data": {
      "text/html": [
       "Syncing run <strong><a href=\"https://wandb.ai/dangl/GOP%20HW2/runs/2q0suv37\" target=\"_blank\">hyperopt search</a></strong> to <a href=\"https://wandb.ai/dangl/GOP%20HW2\" target=\"_blank\">Weights & Biases</a> (<a href=\"https://wandb.me/run\" target=\"_blank\">docs</a>)<br/>"
      ],
      "text/plain": [
       "<IPython.core.display.HTML object>"
      ]
     },
     "metadata": {},
     "output_type": "display_data"
    },
    {
     "name": "stderr",
     "output_type": "stream",
     "text": [
      "/Users/dangl/opt/anaconda3/envs/torch-gpu/lib/python3.8/site-packages/xgboost/data.py:250: FutureWarning: pandas.Int64Index is deprecated and will be removed from pandas in a future version. Use pandas.Index with the appropriate dtype instead.\n",
      "  elif isinstance(data.columns, (pd.Int64Index, pd.RangeIndex)):\n",
      "\n",
      "/Users/dangl/opt/anaconda3/envs/torch-gpu/lib/python3.8/site-packages/xgboost/data.py:250: FutureWarning: pandas.Int64Index is deprecated and will be removed from pandas in a future version. Use pandas.Index with the appropriate dtype instead.\n",
      "  elif isinstance(data.columns, (pd.Int64Index, pd.RangeIndex)):\n",
      "\n"
     ]
    },
    {
     "name": "stdout",
     "output_type": "stream",
     "text": [
      " 67%|██████▋   | 20/30 [10:55<05:10, 31.07s/trial, best loss: -0.8953652777967328]"
     ]
    },
    {
     "data": {
      "text/html": [
       "Finishing last run (ID:2q0suv37) before initializing another..."
      ],
      "text/plain": [
       "<IPython.core.display.HTML object>"
      ]
     },
     "metadata": {},
     "output_type": "display_data"
    },
    {
     "data": {
      "text/html": [
       "Waiting for W&B process to finish... <strong style=\"color:green\">(success).</strong>"
      ],
      "text/plain": [
       "<IPython.core.display.HTML object>"
      ]
     },
     "metadata": {},
     "output_type": "display_data"
    },
    {
     "data": {
      "application/vnd.jupyter.widget-view+json": {
       "model_id": "c6b847596a944aab95f048a6fda9d9a2",
       "version_major": 2,
       "version_minor": 0
      },
      "text/plain": [
       "VBox(children=(Label(value='0.001 MB of 0.001 MB uploaded (0.000 MB deduped)\\r'), FloatProgress(value=1.0, max…"
      ]
     },
     "metadata": {},
     "output_type": "display_data"
    },
    {
     "data": {
      "text/html": [
       "<style>\n",
       "    table.wandb td:nth-child(1) { padding: 0 10px; text-align: left ; width: auto;} td:nth-child(2) {text-align: left ; width: 100%}\n",
       "    .wandb-row { display: flex; flex-direction: row; flex-wrap: wrap; justify-content: flex-start; width: 100% }\n",
       "    .wandb-col { display: flex; flex-direction: column; flex-basis: 100%; flex: 1; padding: 10px; }\n",
       "    </style>\n",
       "<div class=\"wandb-row\"><div class=\"wandb-col\"><h3>Run summary:</h3><br/><table class=\"wandb\"><tr><td>Train AUC-PR</td><td>0.99142</td></tr><tr><td>Train AUC-ROC</td><td>0.99055</td></tr><tr><td>Train accuracy</td><td>0.99828</td></tr><tr><td>Val AUC-PR</td><td>0.86843</td></tr><tr><td>Val AUC-ROC</td><td>0.87015</td></tr><tr><td>Val accuracy</td><td>0.97445</td></tr></table><br/></div></div>"
      ],
      "text/plain": [
       "<IPython.core.display.HTML object>"
      ]
     },
     "metadata": {},
     "output_type": "display_data"
    },
    {
     "data": {
      "text/html": [
       "Synced <strong style=\"color:#cdcd00\">hyperopt search</strong>: <a href=\"https://wandb.ai/dangl/GOP%20HW2/runs/2q0suv37\" target=\"_blank\">https://wandb.ai/dangl/GOP%20HW2/runs/2q0suv37</a><br/>Synced 6 W&B file(s), 0 media file(s), 0 artifact file(s) and 0 other file(s)"
      ],
      "text/plain": [
       "<IPython.core.display.HTML object>"
      ]
     },
     "metadata": {},
     "output_type": "display_data"
    },
    {
     "data": {
      "text/html": [
       "Find logs at: <code>./wandb/run-20231229_093259-2q0suv37/logs</code>"
      ],
      "text/plain": [
       "<IPython.core.display.HTML object>"
      ]
     },
     "metadata": {},
     "output_type": "display_data"
    },
    {
     "data": {
      "text/html": [
       "Successfully finished last run (ID:2q0suv37). Initializing new run:<br/>"
      ],
      "text/plain": [
       "<IPython.core.display.HTML object>"
      ]
     },
     "metadata": {},
     "output_type": "display_data"
    },
    {
     "data": {
      "application/vnd.jupyter.widget-view+json": {
       "model_id": "026d315854b44c8b8092e0938e6b87d1",
       "version_major": 2,
       "version_minor": 0
      },
      "text/plain": [
       "VBox(children=(Label(value='Waiting for wandb.init()...\\r'), FloatProgress(value=0.016752917349852698, max=1.0…"
      ]
     },
     "metadata": {},
     "output_type": "display_data"
    },
    {
     "data": {
      "text/html": [
       "wandb version 0.16.1 is available!  To upgrade, please run:\n",
       " $ pip install wandb --upgrade"
      ],
      "text/plain": [
       "<IPython.core.display.HTML object>"
      ]
     },
     "metadata": {},
     "output_type": "display_data"
    },
    {
     "data": {
      "text/html": [
       "Tracking run with wandb version 0.13.6"
      ],
      "text/plain": [
       "<IPython.core.display.HTML object>"
      ]
     },
     "metadata": {},
     "output_type": "display_data"
    },
    {
     "data": {
      "text/html": [
       "Run data is saved locally in <code>/Users/dangl/Documents/Courses/GOP/vacancy_resume_matching/model/wandb/run-20231229_093334-2sbcfm42</code>"
      ],
      "text/plain": [
       "<IPython.core.display.HTML object>"
      ]
     },
     "metadata": {},
     "output_type": "display_data"
    },
    {
     "data": {
      "text/html": [
       "Syncing run <strong><a href=\"https://wandb.ai/dangl/GOP%20HW2/runs/2sbcfm42\" target=\"_blank\">hyperopt search</a></strong> to <a href=\"https://wandb.ai/dangl/GOP%20HW2\" target=\"_blank\">Weights & Biases</a> (<a href=\"https://wandb.me/run\" target=\"_blank\">docs</a>)<br/>"
      ],
      "text/plain": [
       "<IPython.core.display.HTML object>"
      ]
     },
     "metadata": {},
     "output_type": "display_data"
    },
    {
     "name": "stderr",
     "output_type": "stream",
     "text": [
      "/Users/dangl/opt/anaconda3/envs/torch-gpu/lib/python3.8/site-packages/xgboost/data.py:250: FutureWarning: pandas.Int64Index is deprecated and will be removed from pandas in a future version. Use pandas.Index with the appropriate dtype instead.\n",
      "  elif isinstance(data.columns, (pd.Int64Index, pd.RangeIndex)):\n",
      "\n",
      "/Users/dangl/opt/anaconda3/envs/torch-gpu/lib/python3.8/site-packages/xgboost/data.py:250: FutureWarning: pandas.Int64Index is deprecated and will be removed from pandas in a future version. Use pandas.Index with the appropriate dtype instead.\n",
      "  elif isinstance(data.columns, (pd.Int64Index, pd.RangeIndex)):\n",
      "\n"
     ]
    },
    {
     "name": "stdout",
     "output_type": "stream",
     "text": [
      " 70%|███████   | 21/30 [11:36<05:05, 33.91s/trial, best loss: -0.8953652777967328]"
     ]
    },
    {
     "data": {
      "text/html": [
       "Finishing last run (ID:2sbcfm42) before initializing another..."
      ],
      "text/plain": [
       "<IPython.core.display.HTML object>"
      ]
     },
     "metadata": {},
     "output_type": "display_data"
    },
    {
     "data": {
      "text/html": [
       "Waiting for W&B process to finish... <strong style=\"color:green\">(success).</strong>"
      ],
      "text/plain": [
       "<IPython.core.display.HTML object>"
      ]
     },
     "metadata": {},
     "output_type": "display_data"
    },
    {
     "data": {
      "application/vnd.jupyter.widget-view+json": {
       "model_id": "b95165c92e1446698cd190405b6d77d0",
       "version_major": 2,
       "version_minor": 0
      },
      "text/plain": [
       "VBox(children=(Label(value='0.001 MB of 0.001 MB uploaded (0.000 MB deduped)\\r'), FloatProgress(value=1.0, max…"
      ]
     },
     "metadata": {},
     "output_type": "display_data"
    },
    {
     "data": {
      "text/html": [
       "<style>\n",
       "    table.wandb td:nth-child(1) { padding: 0 10px; text-align: left ; width: auto;} td:nth-child(2) {text-align: left ; width: 100%}\n",
       "    .wandb-row { display: flex; flex-direction: row; flex-wrap: wrap; justify-content: flex-start; width: 100% }\n",
       "    .wandb-col { display: flex; flex-direction: column; flex-basis: 100%; flex: 1; padding: 10px; }\n",
       "    </style>\n",
       "<div class=\"wandb-row\"><div class=\"wandb-col\"><h3>Run summary:</h3><br/><table class=\"wandb\"><tr><td>Train AUC-PR</td><td>0.99793</td></tr><tr><td>Train AUC-ROC</td><td>0.99786</td></tr><tr><td>Train accuracy</td><td>0.99959</td></tr><tr><td>Val AUC-PR</td><td>0.88281</td></tr><tr><td>Val AUC-ROC</td><td>0.88409</td></tr><tr><td>Val accuracy</td><td>0.97717</td></tr></table><br/></div></div>"
      ],
      "text/plain": [
       "<IPython.core.display.HTML object>"
      ]
     },
     "metadata": {},
     "output_type": "display_data"
    },
    {
     "data": {
      "text/html": [
       "Synced <strong style=\"color:#cdcd00\">hyperopt search</strong>: <a href=\"https://wandb.ai/dangl/GOP%20HW2/runs/2sbcfm42\" target=\"_blank\">https://wandb.ai/dangl/GOP%20HW2/runs/2sbcfm42</a><br/>Synced 6 W&B file(s), 0 media file(s), 0 artifact file(s) and 0 other file(s)"
      ],
      "text/plain": [
       "<IPython.core.display.HTML object>"
      ]
     },
     "metadata": {},
     "output_type": "display_data"
    },
    {
     "data": {
      "text/html": [
       "Find logs at: <code>./wandb/run-20231229_093334-2sbcfm42/logs</code>"
      ],
      "text/plain": [
       "<IPython.core.display.HTML object>"
      ]
     },
     "metadata": {},
     "output_type": "display_data"
    },
    {
     "data": {
      "text/html": [
       "Successfully finished last run (ID:2sbcfm42). Initializing new run:<br/>"
      ],
      "text/plain": [
       "<IPython.core.display.HTML object>"
      ]
     },
     "metadata": {},
     "output_type": "display_data"
    },
    {
     "data": {
      "application/vnd.jupyter.widget-view+json": {
       "model_id": "bc719647bcc24a658389202771b50cda",
       "version_major": 2,
       "version_minor": 0
      },
      "text/plain": [
       "VBox(children=(Label(value='Waiting for wandb.init()...\\r'), FloatProgress(value=0.016725844433434153, max=1.0…"
      ]
     },
     "metadata": {},
     "output_type": "display_data"
    },
    {
     "data": {
      "text/html": [
       "wandb version 0.16.1 is available!  To upgrade, please run:\n",
       " $ pip install wandb --upgrade"
      ],
      "text/plain": [
       "<IPython.core.display.HTML object>"
      ]
     },
     "metadata": {},
     "output_type": "display_data"
    },
    {
     "data": {
      "text/html": [
       "Tracking run with wandb version 0.13.6"
      ],
      "text/plain": [
       "<IPython.core.display.HTML object>"
      ]
     },
     "metadata": {},
     "output_type": "display_data"
    },
    {
     "data": {
      "text/html": [
       "Run data is saved locally in <code>/Users/dangl/Documents/Courses/GOP/vacancy_resume_matching/model/wandb/run-20231229_093415-3g0orwcq</code>"
      ],
      "text/plain": [
       "<IPython.core.display.HTML object>"
      ]
     },
     "metadata": {},
     "output_type": "display_data"
    },
    {
     "data": {
      "text/html": [
       "Syncing run <strong><a href=\"https://wandb.ai/dangl/GOP%20HW2/runs/3g0orwcq\" target=\"_blank\">hyperopt search</a></strong> to <a href=\"https://wandb.ai/dangl/GOP%20HW2\" target=\"_blank\">Weights & Biases</a> (<a href=\"https://wandb.me/run\" target=\"_blank\">docs</a>)<br/>"
      ],
      "text/plain": [
       "<IPython.core.display.HTML object>"
      ]
     },
     "metadata": {},
     "output_type": "display_data"
    },
    {
     "name": "stderr",
     "output_type": "stream",
     "text": [
      "/Users/dangl/opt/anaconda3/envs/torch-gpu/lib/python3.8/site-packages/xgboost/data.py:250: FutureWarning: pandas.Int64Index is deprecated and will be removed from pandas in a future version. Use pandas.Index with the appropriate dtype instead.\n",
      "  elif isinstance(data.columns, (pd.Int64Index, pd.RangeIndex)):\n",
      "\n",
      "/Users/dangl/opt/anaconda3/envs/torch-gpu/lib/python3.8/site-packages/xgboost/data.py:250: FutureWarning: pandas.Int64Index is deprecated and will be removed from pandas in a future version. Use pandas.Index with the appropriate dtype instead.\n",
      "  elif isinstance(data.columns, (pd.Int64Index, pd.RangeIndex)):\n",
      "\n"
     ]
    },
    {
     "name": "stdout",
     "output_type": "stream",
     "text": [
      " 73%|███████▎  | 22/30 [12:06<04:22, 32.87s/trial, best loss: -0.8953652777967328]"
     ]
    },
    {
     "data": {
      "text/html": [
       "Finishing last run (ID:3g0orwcq) before initializing another..."
      ],
      "text/plain": [
       "<IPython.core.display.HTML object>"
      ]
     },
     "metadata": {},
     "output_type": "display_data"
    },
    {
     "data": {
      "text/html": [
       "Waiting for W&B process to finish... <strong style=\"color:green\">(success).</strong>"
      ],
      "text/plain": [
       "<IPython.core.display.HTML object>"
      ]
     },
     "metadata": {},
     "output_type": "display_data"
    },
    {
     "data": {
      "application/vnd.jupyter.widget-view+json": {
       "model_id": "eb8ad1a3d99a4ce088dec1409c046df1",
       "version_major": 2,
       "version_minor": 0
      },
      "text/plain": [
       "VBox(children=(Label(value='0.001 MB of 0.016 MB uploaded (0.000 MB deduped)\\r'), FloatProgress(value=0.064497…"
      ]
     },
     "metadata": {},
     "output_type": "display_data"
    },
    {
     "data": {
      "text/html": [
       "<style>\n",
       "    table.wandb td:nth-child(1) { padding: 0 10px; text-align: left ; width: auto;} td:nth-child(2) {text-align: left ; width: 100%}\n",
       "    .wandb-row { display: flex; flex-direction: row; flex-wrap: wrap; justify-content: flex-start; width: 100% }\n",
       "    .wandb-col { display: flex; flex-direction: column; flex-basis: 100%; flex: 1; padding: 10px; }\n",
       "    </style>\n",
       "<div class=\"wandb-row\"><div class=\"wandb-col\"><h3>Run summary:</h3><br/><table class=\"wandb\"><tr><td>Train AUC-PR</td><td>0.96679</td></tr><tr><td>Train AUC-ROC</td><td>0.96561</td></tr><tr><td>Train accuracy</td><td>0.99339</td></tr><tr><td>Val AUC-PR</td><td>0.8808</td></tr><tr><td>Val AUC-ROC</td><td>0.88638</td></tr><tr><td>Val accuracy</td><td>0.97698</td></tr></table><br/></div></div>"
      ],
      "text/plain": [
       "<IPython.core.display.HTML object>"
      ]
     },
     "metadata": {},
     "output_type": "display_data"
    },
    {
     "data": {
      "text/html": [
       "Synced <strong style=\"color:#cdcd00\">hyperopt search</strong>: <a href=\"https://wandb.ai/dangl/GOP%20HW2/runs/3g0orwcq\" target=\"_blank\">https://wandb.ai/dangl/GOP%20HW2/runs/3g0orwcq</a><br/>Synced 6 W&B file(s), 0 media file(s), 0 artifact file(s) and 0 other file(s)"
      ],
      "text/plain": [
       "<IPython.core.display.HTML object>"
      ]
     },
     "metadata": {},
     "output_type": "display_data"
    },
    {
     "data": {
      "text/html": [
       "Find logs at: <code>./wandb/run-20231229_093415-3g0orwcq/logs</code>"
      ],
      "text/plain": [
       "<IPython.core.display.HTML object>"
      ]
     },
     "metadata": {},
     "output_type": "display_data"
    },
    {
     "data": {
      "text/html": [
       "Successfully finished last run (ID:3g0orwcq). Initializing new run:<br/>"
      ],
      "text/plain": [
       "<IPython.core.display.HTML object>"
      ]
     },
     "metadata": {},
     "output_type": "display_data"
    },
    {
     "data": {
      "application/vnd.jupyter.widget-view+json": {
       "model_id": "1dd2a280346c451d9f8b0335b3a77252",
       "version_major": 2,
       "version_minor": 0
      },
      "text/plain": [
       "VBox(children=(Label(value='Waiting for wandb.init()...\\r'), FloatProgress(value=0.016752386116665244, max=1.0…"
      ]
     },
     "metadata": {},
     "output_type": "display_data"
    },
    {
     "data": {
      "text/html": [
       "wandb version 0.16.1 is available!  To upgrade, please run:\n",
       " $ pip install wandb --upgrade"
      ],
      "text/plain": [
       "<IPython.core.display.HTML object>"
      ]
     },
     "metadata": {},
     "output_type": "display_data"
    },
    {
     "data": {
      "text/html": [
       "Tracking run with wandb version 0.13.6"
      ],
      "text/plain": [
       "<IPython.core.display.HTML object>"
      ]
     },
     "metadata": {},
     "output_type": "display_data"
    },
    {
     "data": {
      "text/html": [
       "Run data is saved locally in <code>/Users/dangl/Documents/Courses/GOP/vacancy_resume_matching/model/wandb/run-20231229_093445-rsrq2sz0</code>"
      ],
      "text/plain": [
       "<IPython.core.display.HTML object>"
      ]
     },
     "metadata": {},
     "output_type": "display_data"
    },
    {
     "data": {
      "text/html": [
       "Syncing run <strong><a href=\"https://wandb.ai/dangl/GOP%20HW2/runs/rsrq2sz0\" target=\"_blank\">hyperopt search</a></strong> to <a href=\"https://wandb.ai/dangl/GOP%20HW2\" target=\"_blank\">Weights & Biases</a> (<a href=\"https://wandb.me/run\" target=\"_blank\">docs</a>)<br/>"
      ],
      "text/plain": [
       "<IPython.core.display.HTML object>"
      ]
     },
     "metadata": {},
     "output_type": "display_data"
    },
    {
     "name": "stderr",
     "output_type": "stream",
     "text": [
      "/Users/dangl/opt/anaconda3/envs/torch-gpu/lib/python3.8/site-packages/xgboost/data.py:250: FutureWarning: pandas.Int64Index is deprecated and will be removed from pandas in a future version. Use pandas.Index with the appropriate dtype instead.\n",
      "  elif isinstance(data.columns, (pd.Int64Index, pd.RangeIndex)):\n",
      "\n",
      "/Users/dangl/opt/anaconda3/envs/torch-gpu/lib/python3.8/site-packages/xgboost/data.py:250: FutureWarning: pandas.Int64Index is deprecated and will be removed from pandas in a future version. Use pandas.Index with the appropriate dtype instead.\n",
      "  elif isinstance(data.columns, (pd.Int64Index, pd.RangeIndex)):\n",
      "\n"
     ]
    },
    {
     "name": "stdout",
     "output_type": "stream",
     "text": [
      " 77%|███████▋  | 23/30 [12:48<04:10, 35.75s/trial, best loss: -0.8953652777967328]"
     ]
    },
    {
     "data": {
      "text/html": [
       "Finishing last run (ID:rsrq2sz0) before initializing another..."
      ],
      "text/plain": [
       "<IPython.core.display.HTML object>"
      ]
     },
     "metadata": {},
     "output_type": "display_data"
    },
    {
     "data": {
      "text/html": [
       "Waiting for W&B process to finish... <strong style=\"color:green\">(success).</strong>"
      ],
      "text/plain": [
       "<IPython.core.display.HTML object>"
      ]
     },
     "metadata": {},
     "output_type": "display_data"
    },
    {
     "data": {
      "application/vnd.jupyter.widget-view+json": {
       "model_id": "cd99fb3bf23244538bf96de543f86a92",
       "version_major": 2,
       "version_minor": 0
      },
      "text/plain": [
       "VBox(children=(Label(value='0.001 MB of 0.001 MB uploaded (0.000 MB deduped)\\r'), FloatProgress(value=1.0, max…"
      ]
     },
     "metadata": {},
     "output_type": "display_data"
    },
    {
     "data": {
      "text/html": [
       "<style>\n",
       "    table.wandb td:nth-child(1) { padding: 0 10px; text-align: left ; width: auto;} td:nth-child(2) {text-align: left ; width: 100%}\n",
       "    .wandb-row { display: flex; flex-direction: row; flex-wrap: wrap; justify-content: flex-start; width: 100% }\n",
       "    .wandb-col { display: flex; flex-direction: column; flex-basis: 100%; flex: 1; padding: 10px; }\n",
       "    </style>\n",
       "<div class=\"wandb-row\"><div class=\"wandb-col\"><h3>Run summary:</h3><br/><table class=\"wandb\"><tr><td>Train AUC-PR</td><td>0.99794</td></tr><tr><td>Train AUC-ROC</td><td>0.99774</td></tr><tr><td>Train accuracy</td><td>0.99959</td></tr><tr><td>Val AUC-PR</td><td>0.88703</td></tr><tr><td>Val AUC-ROC</td><td>0.88983</td></tr><tr><td>Val accuracy</td><td>0.97805</td></tr></table><br/></div></div>"
      ],
      "text/plain": [
       "<IPython.core.display.HTML object>"
      ]
     },
     "metadata": {},
     "output_type": "display_data"
    },
    {
     "data": {
      "text/html": [
       "Synced <strong style=\"color:#cdcd00\">hyperopt search</strong>: <a href=\"https://wandb.ai/dangl/GOP%20HW2/runs/rsrq2sz0\" target=\"_blank\">https://wandb.ai/dangl/GOP%20HW2/runs/rsrq2sz0</a><br/>Synced 6 W&B file(s), 0 media file(s), 0 artifact file(s) and 0 other file(s)"
      ],
      "text/plain": [
       "<IPython.core.display.HTML object>"
      ]
     },
     "metadata": {},
     "output_type": "display_data"
    },
    {
     "data": {
      "text/html": [
       "Find logs at: <code>./wandb/run-20231229_093445-rsrq2sz0/logs</code>"
      ],
      "text/plain": [
       "<IPython.core.display.HTML object>"
      ]
     },
     "metadata": {},
     "output_type": "display_data"
    },
    {
     "data": {
      "text/html": [
       "Successfully finished last run (ID:rsrq2sz0). Initializing new run:<br/>"
      ],
      "text/plain": [
       "<IPython.core.display.HTML object>"
      ]
     },
     "metadata": {},
     "output_type": "display_data"
    },
    {
     "data": {
      "application/vnd.jupyter.widget-view+json": {
       "model_id": "0c14768ec2884d459bcd639b9ac45e0b",
       "version_major": 2,
       "version_minor": 0
      },
      "text/plain": [
       "VBox(children=(Label(value='Waiting for wandb.init()...\\r'), FloatProgress(value=0.016675444449841356, max=1.0…"
      ]
     },
     "metadata": {},
     "output_type": "display_data"
    },
    {
     "data": {
      "text/html": [
       "wandb version 0.16.1 is available!  To upgrade, please run:\n",
       " $ pip install wandb --upgrade"
      ],
      "text/plain": [
       "<IPython.core.display.HTML object>"
      ]
     },
     "metadata": {},
     "output_type": "display_data"
    },
    {
     "data": {
      "text/html": [
       "Tracking run with wandb version 0.13.6"
      ],
      "text/plain": [
       "<IPython.core.display.HTML object>"
      ]
     },
     "metadata": {},
     "output_type": "display_data"
    },
    {
     "data": {
      "text/html": [
       "Run data is saved locally in <code>/Users/dangl/Documents/Courses/GOP/vacancy_resume_matching/model/wandb/run-20231229_093528-1w09hhdd</code>"
      ],
      "text/plain": [
       "<IPython.core.display.HTML object>"
      ]
     },
     "metadata": {},
     "output_type": "display_data"
    },
    {
     "data": {
      "text/html": [
       "Syncing run <strong><a href=\"https://wandb.ai/dangl/GOP%20HW2/runs/1w09hhdd\" target=\"_blank\">hyperopt search</a></strong> to <a href=\"https://wandb.ai/dangl/GOP%20HW2\" target=\"_blank\">Weights & Biases</a> (<a href=\"https://wandb.me/run\" target=\"_blank\">docs</a>)<br/>"
      ],
      "text/plain": [
       "<IPython.core.display.HTML object>"
      ]
     },
     "metadata": {},
     "output_type": "display_data"
    },
    {
     "name": "stderr",
     "output_type": "stream",
     "text": [
      "/Users/dangl/opt/anaconda3/envs/torch-gpu/lib/python3.8/site-packages/xgboost/data.py:250: FutureWarning: pandas.Int64Index is deprecated and will be removed from pandas in a future version. Use pandas.Index with the appropriate dtype instead.\n",
      "  elif isinstance(data.columns, (pd.Int64Index, pd.RangeIndex)):\n",
      "\n",
      "/Users/dangl/opt/anaconda3/envs/torch-gpu/lib/python3.8/site-packages/xgboost/data.py:250: FutureWarning: pandas.Int64Index is deprecated and will be removed from pandas in a future version. Use pandas.Index with the appropriate dtype instead.\n",
      "  elif isinstance(data.columns, (pd.Int64Index, pd.RangeIndex)):\n",
      "\n"
     ]
    },
    {
     "name": "stdout",
     "output_type": "stream",
     "text": [
      " 80%|████████  | 24/30 [13:30<03:45, 37.55s/trial, best loss: -0.8991955881884642]"
     ]
    },
    {
     "data": {
      "text/html": [
       "Finishing last run (ID:1w09hhdd) before initializing another..."
      ],
      "text/plain": [
       "<IPython.core.display.HTML object>"
      ]
     },
     "metadata": {},
     "output_type": "display_data"
    },
    {
     "data": {
      "text/html": [
       "Waiting for W&B process to finish... <strong style=\"color:green\">(success).</strong>"
      ],
      "text/plain": [
       "<IPython.core.display.HTML object>"
      ]
     },
     "metadata": {},
     "output_type": "display_data"
    },
    {
     "data": {
      "application/vnd.jupyter.widget-view+json": {
       "model_id": "ab366bbbf93a4c639cce50b8a8d42f63",
       "version_major": 2,
       "version_minor": 0
      },
      "text/plain": [
       "VBox(children=(Label(value='0.001 MB of 0.016 MB uploaded (0.000 MB deduped)\\r'), FloatProgress(value=0.064563…"
      ]
     },
     "metadata": {},
     "output_type": "display_data"
    },
    {
     "data": {
      "text/html": [
       "<style>\n",
       "    table.wandb td:nth-child(1) { padding: 0 10px; text-align: left ; width: auto;} td:nth-child(2) {text-align: left ; width: 100%}\n",
       "    .wandb-row { display: flex; flex-direction: row; flex-wrap: wrap; justify-content: flex-start; width: 100% }\n",
       "    .wandb-col { display: flex; flex-direction: column; flex-basis: 100%; flex: 1; padding: 10px; }\n",
       "    </style>\n",
       "<div class=\"wandb-row\"><div class=\"wandb-col\"><h3>Run summary:</h3><br/><table class=\"wandb\"><tr><td>Train AUC-PR</td><td>0.99601</td></tr><tr><td>Train AUC-ROC</td><td>0.99561</td></tr><tr><td>Train accuracy</td><td>0.9992</td></tr><tr><td>Val AUC-PR</td><td>0.89355</td></tr><tr><td>Val AUC-ROC</td><td>0.8992</td></tr><tr><td>Val accuracy</td><td>0.97941</td></tr></table><br/></div></div>"
      ],
      "text/plain": [
       "<IPython.core.display.HTML object>"
      ]
     },
     "metadata": {},
     "output_type": "display_data"
    },
    {
     "data": {
      "text/html": [
       "Synced <strong style=\"color:#cdcd00\">hyperopt search</strong>: <a href=\"https://wandb.ai/dangl/GOP%20HW2/runs/1w09hhdd\" target=\"_blank\">https://wandb.ai/dangl/GOP%20HW2/runs/1w09hhdd</a><br/>Synced 6 W&B file(s), 0 media file(s), 0 artifact file(s) and 0 other file(s)"
      ],
      "text/plain": [
       "<IPython.core.display.HTML object>"
      ]
     },
     "metadata": {},
     "output_type": "display_data"
    },
    {
     "data": {
      "text/html": [
       "Find logs at: <code>./wandb/run-20231229_093528-1w09hhdd/logs</code>"
      ],
      "text/plain": [
       "<IPython.core.display.HTML object>"
      ]
     },
     "metadata": {},
     "output_type": "display_data"
    },
    {
     "data": {
      "text/html": [
       "Successfully finished last run (ID:1w09hhdd). Initializing new run:<br/>"
      ],
      "text/plain": [
       "<IPython.core.display.HTML object>"
      ]
     },
     "metadata": {},
     "output_type": "display_data"
    },
    {
     "data": {
      "application/vnd.jupyter.widget-view+json": {
       "model_id": "d5bfc22b4b494f9abb8c5ef89fb17e60",
       "version_major": 2,
       "version_minor": 0
      },
      "text/plain": [
       "VBox(children=(Label(value='Waiting for wandb.init()...\\r'), FloatProgress(value=0.01667064583331618, max=1.0)…"
      ]
     },
     "metadata": {},
     "output_type": "display_data"
    },
    {
     "data": {
      "text/html": [
       "wandb version 0.16.1 is available!  To upgrade, please run:\n",
       " $ pip install wandb --upgrade"
      ],
      "text/plain": [
       "<IPython.core.display.HTML object>"
      ]
     },
     "metadata": {},
     "output_type": "display_data"
    },
    {
     "data": {
      "text/html": [
       "Tracking run with wandb version 0.13.6"
      ],
      "text/plain": [
       "<IPython.core.display.HTML object>"
      ]
     },
     "metadata": {},
     "output_type": "display_data"
    },
    {
     "data": {
      "text/html": [
       "Run data is saved locally in <code>/Users/dangl/Documents/Courses/GOP/vacancy_resume_matching/model/wandb/run-20231229_093609-2vsynw5v</code>"
      ],
      "text/plain": [
       "<IPython.core.display.HTML object>"
      ]
     },
     "metadata": {},
     "output_type": "display_data"
    },
    {
     "data": {
      "text/html": [
       "Syncing run <strong><a href=\"https://wandb.ai/dangl/GOP%20HW2/runs/2vsynw5v\" target=\"_blank\">hyperopt search</a></strong> to <a href=\"https://wandb.ai/dangl/GOP%20HW2\" target=\"_blank\">Weights & Biases</a> (<a href=\"https://wandb.me/run\" target=\"_blank\">docs</a>)<br/>"
      ],
      "text/plain": [
       "<IPython.core.display.HTML object>"
      ]
     },
     "metadata": {},
     "output_type": "display_data"
    },
    {
     "name": "stderr",
     "output_type": "stream",
     "text": [
      "/Users/dangl/opt/anaconda3/envs/torch-gpu/lib/python3.8/site-packages/xgboost/data.py:250: FutureWarning: pandas.Int64Index is deprecated and will be removed from pandas in a future version. Use pandas.Index with the appropriate dtype instead.\n",
      "  elif isinstance(data.columns, (pd.Int64Index, pd.RangeIndex)):\n",
      "\n",
      "/Users/dangl/opt/anaconda3/envs/torch-gpu/lib/python3.8/site-packages/xgboost/data.py:250: FutureWarning: pandas.Int64Index is deprecated and will be removed from pandas in a future version. Use pandas.Index with the appropriate dtype instead.\n",
      "  elif isinstance(data.columns, (pd.Int64Index, pd.RangeIndex)):\n",
      "\n"
     ]
    },
    {
     "name": "stdout",
     "output_type": "stream",
     "text": [
      " 83%|████████▎ | 25/30 [14:10<03:10, 38.19s/trial, best loss: -0.8991955881884642]"
     ]
    },
    {
     "data": {
      "text/html": [
       "Finishing last run (ID:2vsynw5v) before initializing another..."
      ],
      "text/plain": [
       "<IPython.core.display.HTML object>"
      ]
     },
     "metadata": {},
     "output_type": "display_data"
    },
    {
     "data": {
      "text/html": [
       "Waiting for W&B process to finish... <strong style=\"color:green\">(success).</strong>"
      ],
      "text/plain": [
       "<IPython.core.display.HTML object>"
      ]
     },
     "metadata": {},
     "output_type": "display_data"
    },
    {
     "data": {
      "text/html": [
       "<style>\n",
       "    table.wandb td:nth-child(1) { padding: 0 10px; text-align: left ; width: auto;} td:nth-child(2) {text-align: left ; width: 100%}\n",
       "    .wandb-row { display: flex; flex-direction: row; flex-wrap: wrap; justify-content: flex-start; width: 100% }\n",
       "    .wandb-col { display: flex; flex-direction: column; flex-basis: 100%; flex: 1; padding: 10px; }\n",
       "    </style>\n",
       "<div class=\"wandb-row\"><div class=\"wandb-col\"><h3>Run summary:</h3><br/><table class=\"wandb\"><tr><td>Train AUC-PR</td><td>0.77657</td></tr><tr><td>Train AUC-ROC</td><td>0.75995</td></tr><tr><td>Train accuracy</td><td>0.9557</td></tr><tr><td>Val AUC-PR</td><td>0.71141</td></tr><tr><td>Val AUC-ROC</td><td>0.69883</td></tr><tr><td>Val accuracy</td><td>0.94395</td></tr></table><br/></div></div>"
      ],
      "text/plain": [
       "<IPython.core.display.HTML object>"
      ]
     },
     "metadata": {},
     "output_type": "display_data"
    },
    {
     "data": {
      "text/html": [
       "Synced <strong style=\"color:#cdcd00\">hyperopt search</strong>: <a href=\"https://wandb.ai/dangl/GOP%20HW2/runs/2vsynw5v\" target=\"_blank\">https://wandb.ai/dangl/GOP%20HW2/runs/2vsynw5v</a><br/>Synced 6 W&B file(s), 0 media file(s), 0 artifact file(s) and 0 other file(s)"
      ],
      "text/plain": [
       "<IPython.core.display.HTML object>"
      ]
     },
     "metadata": {},
     "output_type": "display_data"
    },
    {
     "data": {
      "text/html": [
       "Find logs at: <code>./wandb/run-20231229_093609-2vsynw5v/logs</code>"
      ],
      "text/plain": [
       "<IPython.core.display.HTML object>"
      ]
     },
     "metadata": {},
     "output_type": "display_data"
    },
    {
     "data": {
      "text/html": [
       "Successfully finished last run (ID:2vsynw5v). Initializing new run:<br/>"
      ],
      "text/plain": [
       "<IPython.core.display.HTML object>"
      ]
     },
     "metadata": {},
     "output_type": "display_data"
    },
    {
     "data": {
      "application/vnd.jupyter.widget-view+json": {
       "model_id": "ce9a4302487e4cb7b2175c3df126e43f",
       "version_major": 2,
       "version_minor": 0
      },
      "text/plain": [
       "VBox(children=(Label(value='Waiting for wandb.init()...\\r'), FloatProgress(value=0.016729247916615956, max=1.0…"
      ]
     },
     "metadata": {},
     "output_type": "display_data"
    },
    {
     "data": {
      "text/html": [
       "wandb version 0.16.1 is available!  To upgrade, please run:\n",
       " $ pip install wandb --upgrade"
      ],
      "text/plain": [
       "<IPython.core.display.HTML object>"
      ]
     },
     "metadata": {},
     "output_type": "display_data"
    },
    {
     "data": {
      "text/html": [
       "Tracking run with wandb version 0.13.6"
      ],
      "text/plain": [
       "<IPython.core.display.HTML object>"
      ]
     },
     "metadata": {},
     "output_type": "display_data"
    },
    {
     "data": {
      "text/html": [
       "Run data is saved locally in <code>/Users/dangl/Documents/Courses/GOP/vacancy_resume_matching/model/wandb/run-20231229_093649-17lxjaeh</code>"
      ],
      "text/plain": [
       "<IPython.core.display.HTML object>"
      ]
     },
     "metadata": {},
     "output_type": "display_data"
    },
    {
     "data": {
      "text/html": [
       "Syncing run <strong><a href=\"https://wandb.ai/dangl/GOP%20HW2/runs/17lxjaeh\" target=\"_blank\">hyperopt search</a></strong> to <a href=\"https://wandb.ai/dangl/GOP%20HW2\" target=\"_blank\">Weights & Biases</a> (<a href=\"https://wandb.me/run\" target=\"_blank\">docs</a>)<br/>"
      ],
      "text/plain": [
       "<IPython.core.display.HTML object>"
      ]
     },
     "metadata": {},
     "output_type": "display_data"
    },
    {
     "name": "stderr",
     "output_type": "stream",
     "text": [
      "/Users/dangl/opt/anaconda3/envs/torch-gpu/lib/python3.8/site-packages/xgboost/data.py:250: FutureWarning: pandas.Int64Index is deprecated and will be removed from pandas in a future version. Use pandas.Index with the appropriate dtype instead.\n",
      "  elif isinstance(data.columns, (pd.Int64Index, pd.RangeIndex)):\n",
      "\n",
      "/Users/dangl/opt/anaconda3/envs/torch-gpu/lib/python3.8/site-packages/xgboost/data.py:250: FutureWarning: pandas.Int64Index is deprecated and will be removed from pandas in a future version. Use pandas.Index with the appropriate dtype instead.\n",
      "  elif isinstance(data.columns, (pd.Int64Index, pd.RangeIndex)):\n",
      "\n"
     ]
    },
    {
     "name": "stdout",
     "output_type": "stream",
     "text": [
      " 87%|████████▋ | 26/30 [14:46<02:29, 37.50s/trial, best loss: -0.8991955881884642]"
     ]
    },
    {
     "data": {
      "text/html": [
       "Finishing last run (ID:17lxjaeh) before initializing another..."
      ],
      "text/plain": [
       "<IPython.core.display.HTML object>"
      ]
     },
     "metadata": {},
     "output_type": "display_data"
    },
    {
     "data": {
      "text/html": [
       "Waiting for W&B process to finish... <strong style=\"color:green\">(success).</strong>"
      ],
      "text/plain": [
       "<IPython.core.display.HTML object>"
      ]
     },
     "metadata": {},
     "output_type": "display_data"
    },
    {
     "data": {
      "text/html": [
       "<style>\n",
       "    table.wandb td:nth-child(1) { padding: 0 10px; text-align: left ; width: auto;} td:nth-child(2) {text-align: left ; width: 100%}\n",
       "    .wandb-row { display: flex; flex-direction: row; flex-wrap: wrap; justify-content: flex-start; width: 100% }\n",
       "    .wandb-col { display: flex; flex-direction: column; flex-basis: 100%; flex: 1; padding: 10px; }\n",
       "    </style>\n",
       "<div class=\"wandb-row\"><div class=\"wandb-col\"><h3>Run summary:</h3><br/><table class=\"wandb\"><tr><td>Train AUC-PR</td><td>0.97733</td></tr><tr><td>Train AUC-ROC</td><td>0.97645</td></tr><tr><td>Train accuracy</td><td>0.99548</td></tr><tr><td>Val AUC-PR</td><td>0.88901</td></tr><tr><td>Val AUC-ROC</td><td>0.89441</td></tr><tr><td>Val accuracy</td><td>0.97853</td></tr></table><br/></div></div>"
      ],
      "text/plain": [
       "<IPython.core.display.HTML object>"
      ]
     },
     "metadata": {},
     "output_type": "display_data"
    },
    {
     "data": {
      "text/html": [
       "Synced <strong style=\"color:#cdcd00\">hyperopt search</strong>: <a href=\"https://wandb.ai/dangl/GOP%20HW2/runs/17lxjaeh\" target=\"_blank\">https://wandb.ai/dangl/GOP%20HW2/runs/17lxjaeh</a><br/>Synced 6 W&B file(s), 0 media file(s), 0 artifact file(s) and 0 other file(s)"
      ],
      "text/plain": [
       "<IPython.core.display.HTML object>"
      ]
     },
     "metadata": {},
     "output_type": "display_data"
    },
    {
     "data": {
      "text/html": [
       "Find logs at: <code>./wandb/run-20231229_093649-17lxjaeh/logs</code>"
      ],
      "text/plain": [
       "<IPython.core.display.HTML object>"
      ]
     },
     "metadata": {},
     "output_type": "display_data"
    },
    {
     "data": {
      "text/html": [
       "Successfully finished last run (ID:17lxjaeh). Initializing new run:<br/>"
      ],
      "text/plain": [
       "<IPython.core.display.HTML object>"
      ]
     },
     "metadata": {},
     "output_type": "display_data"
    },
    {
     "data": {
      "application/vnd.jupyter.widget-view+json": {
       "model_id": "0722f8a6067b4d408c7e03f7a4654392",
       "version_major": 2,
       "version_minor": 0
      },
      "text/plain": [
       "VBox(children=(Label(value='Waiting for wandb.init()...\\r'), FloatProgress(value=0.016698183333452712, max=1.0…"
      ]
     },
     "metadata": {},
     "output_type": "display_data"
    },
    {
     "data": {
      "text/html": [
       "wandb version 0.16.1 is available!  To upgrade, please run:\n",
       " $ pip install wandb --upgrade"
      ],
      "text/plain": [
       "<IPython.core.display.HTML object>"
      ]
     },
     "metadata": {},
     "output_type": "display_data"
    },
    {
     "data": {
      "text/html": [
       "Tracking run with wandb version 0.13.6"
      ],
      "text/plain": [
       "<IPython.core.display.HTML object>"
      ]
     },
     "metadata": {},
     "output_type": "display_data"
    },
    {
     "data": {
      "text/html": [
       "Run data is saved locally in <code>/Users/dangl/Documents/Courses/GOP/vacancy_resume_matching/model/wandb/run-20231229_093725-3b9cyy57</code>"
      ],
      "text/plain": [
       "<IPython.core.display.HTML object>"
      ]
     },
     "metadata": {},
     "output_type": "display_data"
    },
    {
     "data": {
      "text/html": [
       "Syncing run <strong><a href=\"https://wandb.ai/dangl/GOP%20HW2/runs/3b9cyy57\" target=\"_blank\">hyperopt search</a></strong> to <a href=\"https://wandb.ai/dangl/GOP%20HW2\" target=\"_blank\">Weights & Biases</a> (<a href=\"https://wandb.me/run\" target=\"_blank\">docs</a>)<br/>"
      ],
      "text/plain": [
       "<IPython.core.display.HTML object>"
      ]
     },
     "metadata": {},
     "output_type": "display_data"
    },
    {
     "name": "stderr",
     "output_type": "stream",
     "text": [
      "/Users/dangl/opt/anaconda3/envs/torch-gpu/lib/python3.8/site-packages/xgboost/data.py:250: FutureWarning: pandas.Int64Index is deprecated and will be removed from pandas in a future version. Use pandas.Index with the appropriate dtype instead.\n",
      "  elif isinstance(data.columns, (pd.Int64Index, pd.RangeIndex)):\n",
      "\n",
      "/Users/dangl/opt/anaconda3/envs/torch-gpu/lib/python3.8/site-packages/xgboost/data.py:250: FutureWarning: pandas.Int64Index is deprecated and will be removed from pandas in a future version. Use pandas.Index with the appropriate dtype instead.\n",
      "  elif isinstance(data.columns, (pd.Int64Index, pd.RangeIndex)):\n",
      "\n"
     ]
    },
    {
     "name": "stdout",
     "output_type": "stream",
     "text": [
      " 90%|█████████ | 27/30 [16:42<03:03, 61.16s/trial, best loss: -0.8991955881884642]"
     ]
    },
    {
     "data": {
      "text/html": [
       "Finishing last run (ID:3b9cyy57) before initializing another..."
      ],
      "text/plain": [
       "<IPython.core.display.HTML object>"
      ]
     },
     "metadata": {},
     "output_type": "display_data"
    },
    {
     "data": {
      "text/html": [
       "Waiting for W&B process to finish... <strong style=\"color:green\">(success).</strong>"
      ],
      "text/plain": [
       "<IPython.core.display.HTML object>"
      ]
     },
     "metadata": {},
     "output_type": "display_data"
    },
    {
     "data": {
      "text/html": [
       "<style>\n",
       "    table.wandb td:nth-child(1) { padding: 0 10px; text-align: left ; width: auto;} td:nth-child(2) {text-align: left ; width: 100%}\n",
       "    .wandb-row { display: flex; flex-direction: row; flex-wrap: wrap; justify-content: flex-start; width: 100% }\n",
       "    .wandb-col { display: flex; flex-direction: column; flex-basis: 100%; flex: 1; padding: 10px; }\n",
       "    </style>\n",
       "<div class=\"wandb-row\"><div class=\"wandb-col\"><h3>Run summary:</h3><br/><table class=\"wandb\"><tr><td>Train AUC-PR</td><td>0.99117</td></tr><tr><td>Train AUC-ROC</td><td>0.99029</td></tr><tr><td>Train accuracy</td><td>0.99823</td></tr><tr><td>Val AUC-PR</td><td>0.88903</td></tr><tr><td>Val AUC-ROC</td><td>0.89196</td></tr><tr><td>Val accuracy</td><td>0.97843</td></tr></table><br/></div></div>"
      ],
      "text/plain": [
       "<IPython.core.display.HTML object>"
      ]
     },
     "metadata": {},
     "output_type": "display_data"
    },
    {
     "data": {
      "text/html": [
       "Synced <strong style=\"color:#cdcd00\">hyperopt search</strong>: <a href=\"https://wandb.ai/dangl/GOP%20HW2/runs/3b9cyy57\" target=\"_blank\">https://wandb.ai/dangl/GOP%20HW2/runs/3b9cyy57</a><br/>Synced 6 W&B file(s), 0 media file(s), 0 artifact file(s) and 0 other file(s)"
      ],
      "text/plain": [
       "<IPython.core.display.HTML object>"
      ]
     },
     "metadata": {},
     "output_type": "display_data"
    },
    {
     "data": {
      "text/html": [
       "Find logs at: <code>./wandb/run-20231229_093725-3b9cyy57/logs</code>"
      ],
      "text/plain": [
       "<IPython.core.display.HTML object>"
      ]
     },
     "metadata": {},
     "output_type": "display_data"
    },
    {
     "data": {
      "text/html": [
       "Successfully finished last run (ID:3b9cyy57). Initializing new run:<br/>"
      ],
      "text/plain": [
       "<IPython.core.display.HTML object>"
      ]
     },
     "metadata": {},
     "output_type": "display_data"
    },
    {
     "data": {
      "application/vnd.jupyter.widget-view+json": {
       "model_id": "0ba4292ffd894537afe458ad1d3ab793",
       "version_major": 2,
       "version_minor": 0
      },
      "text/plain": [
       "VBox(children=(Label(value='Waiting for wandb.init()...\\r'), FloatProgress(value=0.016784318066735675, max=1.0…"
      ]
     },
     "metadata": {},
     "output_type": "display_data"
    },
    {
     "data": {
      "text/html": [
       "wandb version 0.16.1 is available!  To upgrade, please run:\n",
       " $ pip install wandb --upgrade"
      ],
      "text/plain": [
       "<IPython.core.display.HTML object>"
      ]
     },
     "metadata": {},
     "output_type": "display_data"
    },
    {
     "data": {
      "text/html": [
       "Tracking run with wandb version 0.13.6"
      ],
      "text/plain": [
       "<IPython.core.display.HTML object>"
      ]
     },
     "metadata": {},
     "output_type": "display_data"
    },
    {
     "data": {
      "text/html": [
       "Run data is saved locally in <code>/Users/dangl/Documents/Courses/GOP/vacancy_resume_matching/model/wandb/run-20231229_093921-2qf4wsyu</code>"
      ],
      "text/plain": [
       "<IPython.core.display.HTML object>"
      ]
     },
     "metadata": {},
     "output_type": "display_data"
    },
    {
     "data": {
      "text/html": [
       "Syncing run <strong><a href=\"https://wandb.ai/dangl/GOP%20HW2/runs/2qf4wsyu\" target=\"_blank\">hyperopt search</a></strong> to <a href=\"https://wandb.ai/dangl/GOP%20HW2\" target=\"_blank\">Weights & Biases</a> (<a href=\"https://wandb.me/run\" target=\"_blank\">docs</a>)<br/>"
      ],
      "text/plain": [
       "<IPython.core.display.HTML object>"
      ]
     },
     "metadata": {},
     "output_type": "display_data"
    },
    {
     "name": "stderr",
     "output_type": "stream",
     "text": [
      "/Users/dangl/opt/anaconda3/envs/torch-gpu/lib/python3.8/site-packages/xgboost/data.py:250: FutureWarning: pandas.Int64Index is deprecated and will be removed from pandas in a future version. Use pandas.Index with the appropriate dtype instead.\n",
      "  elif isinstance(data.columns, (pd.Int64Index, pd.RangeIndex)):\n",
      "\n",
      "/Users/dangl/opt/anaconda3/envs/torch-gpu/lib/python3.8/site-packages/xgboost/data.py:250: FutureWarning: pandas.Int64Index is deprecated and will be removed from pandas in a future version. Use pandas.Index with the appropriate dtype instead.\n",
      "  elif isinstance(data.columns, (pd.Int64Index, pd.RangeIndex)):\n",
      "\n"
     ]
    },
    {
     "name": "stdout",
     "output_type": "stream",
     "text": [
      " 93%|█████████▎| 28/30 [17:27<01:52, 56.29s/trial, best loss: -0.8991955881884642]"
     ]
    },
    {
     "data": {
      "text/html": [
       "Finishing last run (ID:2qf4wsyu) before initializing another..."
      ],
      "text/plain": [
       "<IPython.core.display.HTML object>"
      ]
     },
     "metadata": {},
     "output_type": "display_data"
    },
    {
     "data": {
      "text/html": [
       "Waiting for W&B process to finish... <strong style=\"color:green\">(success).</strong>"
      ],
      "text/plain": [
       "<IPython.core.display.HTML object>"
      ]
     },
     "metadata": {},
     "output_type": "display_data"
    },
    {
     "data": {
      "application/vnd.jupyter.widget-view+json": {
       "model_id": "00ce05602b1649c1a9551007ba8904f4",
       "version_major": 2,
       "version_minor": 0
      },
      "text/plain": [
       "VBox(children=(Label(value='0.001 MB of 0.001 MB uploaded (0.000 MB deduped)\\r'), FloatProgress(value=1.0, max…"
      ]
     },
     "metadata": {},
     "output_type": "display_data"
    },
    {
     "data": {
      "text/html": [
       "<style>\n",
       "    table.wandb td:nth-child(1) { padding: 0 10px; text-align: left ; width: auto;} td:nth-child(2) {text-align: left ; width: 100%}\n",
       "    .wandb-row { display: flex; flex-direction: row; flex-wrap: wrap; justify-content: flex-start; width: 100% }\n",
       "    .wandb-col { display: flex; flex-direction: column; flex-basis: 100%; flex: 1; padding: 10px; }\n",
       "    </style>\n",
       "<div class=\"wandb-row\"><div class=\"wandb-col\"><h3>Run summary:</h3><br/><table class=\"wandb\"><tr><td>Train AUC-PR</td><td>0.96908</td></tr><tr><td>Train AUC-ROC</td><td>0.96825</td></tr><tr><td>Train accuracy</td><td>0.99386</td></tr><tr><td>Val AUC-PR</td><td>0.88359</td></tr><tr><td>Val AUC-ROC</td><td>0.88808</td></tr><tr><td>Val accuracy</td><td>0.97746</td></tr></table><br/></div></div>"
      ],
      "text/plain": [
       "<IPython.core.display.HTML object>"
      ]
     },
     "metadata": {},
     "output_type": "display_data"
    },
    {
     "data": {
      "text/html": [
       "Synced <strong style=\"color:#cdcd00\">hyperopt search</strong>: <a href=\"https://wandb.ai/dangl/GOP%20HW2/runs/2qf4wsyu\" target=\"_blank\">https://wandb.ai/dangl/GOP%20HW2/runs/2qf4wsyu</a><br/>Synced 6 W&B file(s), 0 media file(s), 0 artifact file(s) and 0 other file(s)"
      ],
      "text/plain": [
       "<IPython.core.display.HTML object>"
      ]
     },
     "metadata": {},
     "output_type": "display_data"
    },
    {
     "data": {
      "text/html": [
       "Find logs at: <code>./wandb/run-20231229_093921-2qf4wsyu/logs</code>"
      ],
      "text/plain": [
       "<IPython.core.display.HTML object>"
      ]
     },
     "metadata": {},
     "output_type": "display_data"
    },
    {
     "data": {
      "text/html": [
       "Successfully finished last run (ID:2qf4wsyu). Initializing new run:<br/>"
      ],
      "text/plain": [
       "<IPython.core.display.HTML object>"
      ]
     },
     "metadata": {},
     "output_type": "display_data"
    },
    {
     "data": {
      "application/vnd.jupyter.widget-view+json": {
       "model_id": "8212f33316f04416960f1d6f5859eed3",
       "version_major": 2,
       "version_minor": 0
      },
      "text/plain": [
       "VBox(children=(Label(value='Waiting for wandb.init()...\\r'), FloatProgress(value=0.016835867366656505, max=1.0…"
      ]
     },
     "metadata": {},
     "output_type": "display_data"
    },
    {
     "data": {
      "text/html": [
       "wandb version 0.16.1 is available!  To upgrade, please run:\n",
       " $ pip install wandb --upgrade"
      ],
      "text/plain": [
       "<IPython.core.display.HTML object>"
      ]
     },
     "metadata": {},
     "output_type": "display_data"
    },
    {
     "data": {
      "text/html": [
       "Tracking run with wandb version 0.13.6"
      ],
      "text/plain": [
       "<IPython.core.display.HTML object>"
      ]
     },
     "metadata": {},
     "output_type": "display_data"
    },
    {
     "data": {
      "text/html": [
       "Run data is saved locally in <code>/Users/dangl/Documents/Courses/GOP/vacancy_resume_matching/model/wandb/run-20231229_094006-cqega79f</code>"
      ],
      "text/plain": [
       "<IPython.core.display.HTML object>"
      ]
     },
     "metadata": {},
     "output_type": "display_data"
    },
    {
     "data": {
      "text/html": [
       "Syncing run <strong><a href=\"https://wandb.ai/dangl/GOP%20HW2/runs/cqega79f\" target=\"_blank\">hyperopt search</a></strong> to <a href=\"https://wandb.ai/dangl/GOP%20HW2\" target=\"_blank\">Weights & Biases</a> (<a href=\"https://wandb.me/run\" target=\"_blank\">docs</a>)<br/>"
      ],
      "text/plain": [
       "<IPython.core.display.HTML object>"
      ]
     },
     "metadata": {},
     "output_type": "display_data"
    },
    {
     "name": "stderr",
     "output_type": "stream",
     "text": [
      "/Users/dangl/opt/anaconda3/envs/torch-gpu/lib/python3.8/site-packages/xgboost/data.py:250: FutureWarning: pandas.Int64Index is deprecated and will be removed from pandas in a future version. Use pandas.Index with the appropriate dtype instead.\n",
      "  elif isinstance(data.columns, (pd.Int64Index, pd.RangeIndex)):\n",
      "\n",
      "/Users/dangl/opt/anaconda3/envs/torch-gpu/lib/python3.8/site-packages/xgboost/data.py:250: FutureWarning: pandas.Int64Index is deprecated and will be removed from pandas in a future version. Use pandas.Index with the appropriate dtype instead.\n",
      "  elif isinstance(data.columns, (pd.Int64Index, pd.RangeIndex)):\n",
      "\n"
     ]
    },
    {
     "name": "stdout",
     "output_type": "stream",
     "text": [
      " 97%|█████████▋| 29/30 [18:07<00:51, 51.46s/trial, best loss: -0.8991955881884642]"
     ]
    },
    {
     "data": {
      "text/html": [
       "Finishing last run (ID:cqega79f) before initializing another..."
      ],
      "text/plain": [
       "<IPython.core.display.HTML object>"
      ]
     },
     "metadata": {},
     "output_type": "display_data"
    },
    {
     "data": {
      "text/html": [
       "Waiting for W&B process to finish... <strong style=\"color:green\">(success).</strong>"
      ],
      "text/plain": [
       "<IPython.core.display.HTML object>"
      ]
     },
     "metadata": {},
     "output_type": "display_data"
    },
    {
     "data": {
      "text/html": [
       "<style>\n",
       "    table.wandb td:nth-child(1) { padding: 0 10px; text-align: left ; width: auto;} td:nth-child(2) {text-align: left ; width: 100%}\n",
       "    .wandb-row { display: flex; flex-direction: row; flex-wrap: wrap; justify-content: flex-start; width: 100% }\n",
       "    .wandb-col { display: flex; flex-direction: column; flex-basis: 100%; flex: 1; padding: 10px; }\n",
       "    </style>\n",
       "<div class=\"wandb-row\"><div class=\"wandb-col\"><h3>Run summary:</h3><br/><table class=\"wandb\"><tr><td>Train AUC-PR</td><td>0.95206</td></tr><tr><td>Train AUC-ROC</td><td>0.95036</td></tr><tr><td>Train accuracy</td><td>0.99048</td></tr><tr><td>Val AUC-PR</td><td>0.85544</td></tr><tr><td>Val AUC-ROC</td><td>0.85781</td></tr><tr><td>Val accuracy</td><td>0.97202</td></tr></table><br/></div></div>"
      ],
      "text/plain": [
       "<IPython.core.display.HTML object>"
      ]
     },
     "metadata": {},
     "output_type": "display_data"
    },
    {
     "data": {
      "text/html": [
       "Synced <strong style=\"color:#cdcd00\">hyperopt search</strong>: <a href=\"https://wandb.ai/dangl/GOP%20HW2/runs/cqega79f\" target=\"_blank\">https://wandb.ai/dangl/GOP%20HW2/runs/cqega79f</a><br/>Synced 6 W&B file(s), 0 media file(s), 0 artifact file(s) and 0 other file(s)"
      ],
      "text/plain": [
       "<IPython.core.display.HTML object>"
      ]
     },
     "metadata": {},
     "output_type": "display_data"
    },
    {
     "data": {
      "text/html": [
       "Find logs at: <code>./wandb/run-20231229_094006-cqega79f/logs</code>"
      ],
      "text/plain": [
       "<IPython.core.display.HTML object>"
      ]
     },
     "metadata": {},
     "output_type": "display_data"
    },
    {
     "data": {
      "text/html": [
       "Successfully finished last run (ID:cqega79f). Initializing new run:<br/>"
      ],
      "text/plain": [
       "<IPython.core.display.HTML object>"
      ]
     },
     "metadata": {},
     "output_type": "display_data"
    },
    {
     "data": {
      "application/vnd.jupyter.widget-view+json": {
       "model_id": "b8e718c23f73481da7cf757023c79325",
       "version_major": 2,
       "version_minor": 0
      },
      "text/plain": [
       "VBox(children=(Label(value='Waiting for wandb.init()...\\r'), FloatProgress(value=0.016811090983537724, max=1.0…"
      ]
     },
     "metadata": {},
     "output_type": "display_data"
    },
    {
     "data": {
      "text/html": [
       "wandb version 0.16.1 is available!  To upgrade, please run:\n",
       " $ pip install wandb --upgrade"
      ],
      "text/plain": [
       "<IPython.core.display.HTML object>"
      ]
     },
     "metadata": {},
     "output_type": "display_data"
    },
    {
     "data": {
      "text/html": [
       "Tracking run with wandb version 0.13.6"
      ],
      "text/plain": [
       "<IPython.core.display.HTML object>"
      ]
     },
     "metadata": {},
     "output_type": "display_data"
    },
    {
     "data": {
      "text/html": [
       "Run data is saved locally in <code>/Users/dangl/Documents/Courses/GOP/vacancy_resume_matching/model/wandb/run-20231229_094046-337h3tiz</code>"
      ],
      "text/plain": [
       "<IPython.core.display.HTML object>"
      ]
     },
     "metadata": {},
     "output_type": "display_data"
    },
    {
     "data": {
      "text/html": [
       "Syncing run <strong><a href=\"https://wandb.ai/dangl/GOP%20HW2/runs/337h3tiz\" target=\"_blank\">hyperopt search</a></strong> to <a href=\"https://wandb.ai/dangl/GOP%20HW2\" target=\"_blank\">Weights & Biases</a> (<a href=\"https://wandb.me/run\" target=\"_blank\">docs</a>)<br/>"
      ],
      "text/plain": [
       "<IPython.core.display.HTML object>"
      ]
     },
     "metadata": {},
     "output_type": "display_data"
    },
    {
     "name": "stderr",
     "output_type": "stream",
     "text": [
      "/Users/dangl/opt/anaconda3/envs/torch-gpu/lib/python3.8/site-packages/xgboost/data.py:250: FutureWarning: pandas.Int64Index is deprecated and will be removed from pandas in a future version. Use pandas.Index with the appropriate dtype instead.\n",
      "  elif isinstance(data.columns, (pd.Int64Index, pd.RangeIndex)):\n",
      "\n",
      "/Users/dangl/opt/anaconda3/envs/torch-gpu/lib/python3.8/site-packages/xgboost/data.py:250: FutureWarning: pandas.Int64Index is deprecated and will be removed from pandas in a future version. Use pandas.Index with the appropriate dtype instead.\n",
      "  elif isinstance(data.columns, (pd.Int64Index, pd.RangeIndex)):\n",
      "\n"
     ]
    },
    {
     "name": "stdout",
     "output_type": "stream",
     "text": [
      "100%|██████████| 30/30 [18:46<00:00, 37.56s/trial, best loss: -0.8991955881884642]\n",
      "{'colsample_bytree': 0.27811458697033753, 'learning_rate': 0.09264749650673572, 'max_depth': 5.0, 'n_estimators': 662.0, 'subsample': 0.7384906910206007}\n"
     ]
    },
    {
     "name": "stderr",
     "output_type": "stream",
     "text": [
      "wandb: Network error (ConnectionError), entering retry loop.\n"
     ]
    }
   ],
   "source": [
    "import wandb\n",
    "\n",
    "search_space = {\n",
    "    'n_estimators': hp.qnormal('n_estimators', 500, 200, 1),\n",
    "    'max_depth': hp.quniform('max_depth', 2, 8, 1),\n",
    "    'learning_rate': hp.uniform('learning_rate', 0.01, 0.2),\n",
    "    'subsample': hp.uniform('subsample', 0.4, 1.0),\n",
    "    'colsample_bytree': hp.uniform('colsample_bytree', 0.1, 0.5),\n",
    "}\n",
    "\n",
    "def objective(params, X_train, y_train, X_val, y_val):\n",
    "    wandb.init(project='GOP HW2', entity='dangl', name='hyperopt search', group='xgboost', config=params)\n",
    "\n",
    "    model = XGBClassifier(\n",
    "        n_estimators=int(params['n_estimators']),\n",
    "        max_depth=int(params['max_depth']),\n",
    "        learning_rate=params['learning_rate'],\n",
    "        subsample=params['subsample'],\n",
    "        colsample_bytree=params['colsample_bytree'],\n",
    "        eval_metric='auc',\n",
    "        tree_method='hist',\n",
    "        n_jobs=-1,\n",
    "        use_label_encoder=False\n",
    "    )\n",
    "\n",
    "    model.fit(X_train, y_train, verbose=False, early_stopping_rounds=100, eval_set=[(X_val, y_val)])\n",
    "\n",
    "    pred_train = model.predict(X_train)\n",
    "    pred_val = model.predict(X_val)\n",
    "\n",
    "    precision_train, recall_train, _ = precision_recall_curve(y_train, pred_train)\n",
    "    precision, recall, _ = precision_recall_curve(y_val, pred_val)\n",
    "\n",
    "    log = {\n",
    "        'Train accuracy': accuracy_score(y_train, pred_train),\n",
    "        'Val accuracy': accuracy_score(y_val, pred_val),\n",
    "        'Train AUC-ROC': roc_auc_score(y_train, pred_train),\n",
    "        'Val AUC-ROC': roc_auc_score(y_val, pred_val),\n",
    "        'Train AUC-PR': auc(recall_train, precision_train),\n",
    "        'Val AUC-PR': auc(recall, precision),\n",
    "    }\n",
    "\n",
    "    wandb.log(log)\n",
    "\n",
    "    return {'loss': -roc_auc_score(y_val, pred_val), 'params': params, 'status': STATUS_OK}\n",
    "\n",
    "trials = Trials()\n",
    "best = fmin(  \n",
    "    fn=partial(objective, X_train=X_train, y_train=y_train, X_val=X_val, y_val=y_val),\n",
    "    space=search_space,\n",
    "    algo=tpe.suggest,\n",
    "    max_evals=30,\n",
    "    trials=trials,\n",
    "    rstate=np.random.default_rng(42),\n",
    "    show_progressbar=True\n",
    ")\n",
    "\n",
    "print(best)"
   ]
  },
  {
   "cell_type": "code",
   "execution_count": 1,
   "metadata": {},
   "outputs": [],
   "source": [
    "## found\n",
    "best = {'colsample_bytree': 0.27811458697033753, 'learning_rate': 0.09264749650673572, 'max_depth': 5.0, 'n_estimators': 662.0, 'subsample': 0.7384906910206007}"
   ]
  },
  {
   "cell_type": "code",
   "execution_count": 7,
   "metadata": {},
   "outputs": [
    {
     "name": "stderr",
     "output_type": "stream",
     "text": [
      "/Users/dangl/opt/anaconda3/envs/torch-gpu/lib/python3.8/site-packages/xgboost/data.py:250: FutureWarning: pandas.Int64Index is deprecated and will be removed from pandas in a future version. Use pandas.Index with the appropriate dtype instead.\n",
      "  elif isinstance(data.columns, (pd.Int64Index, pd.RangeIndex)):\n"
     ]
    },
    {
     "name": "stdout",
     "output_type": "stream",
     "text": [
      "Train XGBoost accuracy: 0.99883\n",
      "Test XGBoost accuracy:  0.98073\n",
      "Train XGBoost AUC-ROC: 0.99390\n",
      "Test XGBoost AUC-ROC: 0.90442\n",
      "Train XGBoost AUC-PR: 0.99416\n",
      "Test XGBoost AUC-PR: 0.90088\n"
     ]
    }
   ],
   "source": [
    "model = XGBClassifier(\n",
    "    n_estimators=int(best['n_estimators']),\n",
    "    max_depth=int(best['max_depth']),\n",
    "    learning_rate=best['learning_rate'],\n",
    "    subsample=best['subsample'],\n",
    "    colsample_bytree=best['colsample_bytree'],\n",
    "    eval_metric='auc',\n",
    "    tree_method='hist',\n",
    "    n_jobs=-1,\n",
    "    use_label_encoder=False\n",
    ")\n",
    "\n",
    "model.fit(X_fulltrain, y_fulltrain, )\n",
    "pred_fulltrain = model.predict(X_fulltrain)\n",
    "pred_test = model.predict(X_test)\n",
    "\n",
    "print(f'Train XGBoost accuracy: {accuracy_score(y_fulltrain, pred_fulltrain):.5f}')\n",
    "print(f'Test XGBoost accuracy:  {accuracy_score(y_test, pred_test):.5f}')\n",
    "\n",
    "print(f'Train XGBoost AUC-ROC: {roc_auc_score(y_fulltrain, pred_fulltrain):.5f}')\n",
    "print(f'Test XGBoost AUC-ROC: {roc_auc_score(y_test, pred_test):.5f}')\n",
    "\n",
    "precision_train, recall_train, _ = precision_recall_curve(y_fulltrain, pred_fulltrain)\n",
    "precision, recall, _ = precision_recall_curve(y_test, pred_test)\n",
    "print(f'Train XGBoost AUC-PR: {auc(recall_train, precision_train):.5f}')\n",
    "print(f'Test XGBoost AUC-PR: {auc(recall, precision):.5f}')"
   ]
  },
  {
   "cell_type": "code",
   "execution_count": 8,
   "metadata": {},
   "outputs": [],
   "source": [
    "model.save_model('../trained_models/xgboost_best.json')"
   ]
  },
  {
   "cell_type": "code",
   "execution_count": null,
   "metadata": {},
   "outputs": [],
   "source": []
  }
 ],
 "metadata": {
  "kernelspec": {
   "display_name": "torch-gpu",
   "language": "python",
   "name": "python3"
  },
  "language_info": {
   "codemirror_mode": {
    "name": "ipython",
    "version": 3
   },
   "file_extension": ".py",
   "mimetype": "text/x-python",
   "name": "python",
   "nbconvert_exporter": "python",
   "pygments_lexer": "ipython3",
   "version": "3.8.13"
  }
 },
 "nbformat": 4,
 "nbformat_minor": 2
}
